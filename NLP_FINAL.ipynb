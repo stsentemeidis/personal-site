{
 "cells": [
  {
   "cell_type": "markdown",
   "metadata": {
    "colab_type": "text",
    "id": "jjQAiTluGnk0"
   },
   "source": [
    "# Fakes | Real News Detection\n",
    "\n",
    "Natural Language Processing - Python | MBD OCT 2018 | Stavros Tsentemeidis | Ashley O'Mahony  \n",
    "*IE School of Human Sciences and Technology*  \n",
    "\n",
    "***"
   ]
  },
  {
   "cell_type": "markdown",
   "metadata": {
    "colab_type": "text",
    "id": "NC31W6jlGnk2"
   },
   "source": [
    "# Introduction\n"
   ]
  },
  {
   "cell_type": "markdown",
   "metadata": {
    "colab_type": "text",
    "id": "hm_a3ku7Gnk4"
   },
   "source": [
    "The purpose of this assignment done in pairs, is to develop a machine learning pipeline, in order to be able to detect whether a news article is fake or real.  \n",
    "\n",
    "The problem is characterized as **Text Binary Classification**."
   ]
  },
  {
   "cell_type": "markdown",
   "metadata": {
    "colab_type": "text",
    "id": "aXN9O7iEGnk7"
   },
   "source": [
    "## Libraries"
   ]
  },
  {
   "cell_type": "markdown",
   "metadata": {
    "colab_type": "text",
    "id": "i4iWQjVHGnk8"
   },
   "source": [
    "This project uses these libraries for data manipulation, processing and modelling."
   ]
  },
  {
   "cell_type": "code",
   "execution_count": 1,
   "metadata": {
    "colab": {
     "base_uri": "https://localhost:8080/",
     "height": 189
    },
    "colab_type": "code",
    "executionInfo": {
     "elapsed": 28292,
     "status": "ok",
     "timestamp": 1559373812514,
     "user": {
      "displayName": "Ashley O'Mahony",
      "photoUrl": "https://lh5.googleusercontent.com/-1kukuBnoGG8/AAAAAAAAAAI/AAAAAAAAAEc/SDLV7krtrG8/s64/photo.jpg",
      "userId": "14678637045665485587"
     },
     "user_tz": -120
    },
    "id": "YfHCb8jwnuUY",
    "outputId": "1e457090-d9f3-4cff-e852-f78d18e3cd57"
   },
   "outputs": [],
   "source": [
    "# # Connecting the Colab Notebook to Google Drive\n",
    "# from google.colab import drive\n",
    "# drive.mount('/content/drive')\n",
    "\n",
    "# import warnings\n",
    "# warnings.filterwarnings('ignore')"
   ]
  },
  {
   "cell_type": "code",
   "execution_count": 2,
   "metadata": {
    "colab": {
     "base_uri": "https://localhost:8080/",
     "height": 125
    },
    "colab_type": "code",
    "executionInfo": {
     "elapsed": 12039,
     "status": "ok",
     "timestamp": 1559373817023,
     "user": {
      "displayName": "Ashley O'Mahony",
      "photoUrl": "https://lh5.googleusercontent.com/-1kukuBnoGG8/AAAAAAAAAAI/AAAAAAAAAEc/SDLV7krtrG8/s64/photo.jpg",
      "userId": "14678637045665485587"
     },
     "user_tz": -120
    },
    "id": "Rkmt-welGnk-",
    "outputId": "2bce326d-2a9e-4aa5-fefb-aab5f43cc02f"
   },
   "outputs": [
    {
     "name": "stderr",
     "output_type": "stream",
     "text": [
      "Using TensorFlow backend.\n",
      "[nltk_data] Downloading package stopwords to\n",
      "[nltk_data]     /Users/Ashley/nltk_data...\n",
      "[nltk_data]   Package stopwords is already up-to-date!\n",
      "[nltk_data] Downloading package wordnet to /Users/Ashley/nltk_data...\n",
      "[nltk_data]   Package wordnet is already up-to-date!\n"
     ]
    },
    {
     "data": {
      "text/plain": [
       "True"
      ]
     },
     "execution_count": 2,
     "metadata": {},
     "output_type": "execute_result"
    }
   ],
   "source": [
    "# Loading Libraries\n",
    "import pandas as pd #Data Manipulation\n",
    "pd.set_option('display.max_columns', 500)\n",
    "\n",
    "import numpy as np #Data Manipulation\n",
    "import datetime\n",
    "import re  \n",
    "import nltk \n",
    "import pickle \n",
    "import xgboost\n",
    "import string\n",
    "import gensim\n",
    "import itertools\n",
    "\n",
    "import matplotlib.pyplot as plt #Plotting\n",
    "import matplotlib.ticker as ticker #Plotting\n",
    "import seaborn as sns #Plotting\n",
    "import sklearn.feature_extraction.text\n",
    "\n",
    "sns.set(style='white')\n",
    "plt.style.use('ggplot')\n",
    "plt.rcParams['figure.figsize'] = (8,6)\n",
    "plt.rcParams['font.size'] = 12\n",
    "\n",
    "from sklearn import preprocessing #Preprocessing\n",
    "from sklearn.preprocessing import MinMaxScaler, PolynomialFeatures #Preprocessing\n",
    "\n",
    "from scipy.stats import skew, boxcox_normmax #Preprocessing\n",
    "from scipy.special import boxcox1p #Preprocessing\n",
    "\n",
    "from sklearn import model_selection, preprocessing, linear_model, naive_bayes, metrics, svm #Modeling\n",
    "from sklearn.datasets import load_files  \n",
    "from sklearn.metrics import mean_squared_error, r2_score, make_scorer, accuracy_score, confusion_matrix #Metrics\n",
    "from sklearn.model_selection import cross_val_score, cross_val_predict, GridSearchCV, cross_validate, train_test_split # CV\n",
    "from sklearn.ensemble import RandomForestClassifier\n",
    "from sklearn.feature_extraction.text import CountVectorizer, TfidfVectorizer\n",
    "from sklearn.feature_selection import RFE #Feature Selection\n",
    "from sklearn.linear_model import LinearRegression, PassiveAggressiveClassifier #Modeling\n",
    "\n",
    "from nltk.stem import WordNetLemmatizer, SnowballStemmer\n",
    "from nltk.stem.porter import PorterStemmer\n",
    "from nltk.tokenize import word_tokenize, RegexpTokenizer\n",
    "from nltk.corpus import stopwords\n",
    "\n",
    "from keras import layers, models, optimizers, initializers, regularizers, constraints\n",
    "from keras.preprocessing import text, sequence\n",
    "from keras.preprocessing.text import Tokenizer\n",
    "from keras.preprocessing.sequence import pad_sequences\n",
    "from keras.utils import to_categorical\n",
    "from keras.layers import Dense , Input , LSTM , Embedding, Dropout , Activation, GRU, Flatten, Convolution1D, Bidirectional, GlobalMaxPool1D\n",
    "from keras.models import Model, Sequential\n",
    "\n",
    "nltk.download('stopwords') \n",
    "nltk.download('wordnet')\n"
   ]
  },
  {
   "cell_type": "markdown",
   "metadata": {
    "colab_type": "text",
    "id": "GNMMurRnGnlE"
   },
   "source": [
    "## Data Loading"
   ]
  },
  {
   "cell_type": "markdown",
   "metadata": {
    "colab_type": "text",
    "id": "xNMWp7w3OQb4"
   },
   "source": [
    "We read the Training and Test files from the Gists we created on GitHub. This method facilitates the reproducability of the notebook."
   ]
  },
  {
   "cell_type": "code",
   "execution_count": 3,
   "metadata": {
    "colab": {
     "base_uri": "https://localhost:8080/",
     "height": 204
    },
    "colab_type": "code",
    "executionInfo": {
     "elapsed": 11016,
     "status": "ok",
     "timestamp": 1559373818297,
     "user": {
      "displayName": "Ashley O'Mahony",
      "photoUrl": "https://lh5.googleusercontent.com/-1kukuBnoGG8/AAAAAAAAAAI/AAAAAAAAAEc/SDLV7krtrG8/s64/photo.jpg",
      "userId": "14678637045665485587"
     },
     "user_tz": -120
    },
    "id": "-aKmzrf3Io86",
    "outputId": "85cfb25e-86a1-45d9-cedb-3ba83a8edac5"
   },
   "outputs": [
    {
     "data": {
      "text/html": [
       "<div>\n",
       "<style scoped>\n",
       "    .dataframe tbody tr th:only-of-type {\n",
       "        vertical-align: middle;\n",
       "    }\n",
       "\n",
       "    .dataframe tbody tr th {\n",
       "        vertical-align: top;\n",
       "    }\n",
       "\n",
       "    .dataframe thead th {\n",
       "        text-align: right;\n",
       "    }\n",
       "</style>\n",
       "<table border=\"1\" class=\"dataframe\">\n",
       "  <thead>\n",
       "    <tr style=\"text-align: right;\">\n",
       "      <th></th>\n",
       "      <th>ID</th>\n",
       "      <th>title</th>\n",
       "      <th>text</th>\n",
       "      <th>label</th>\n",
       "      <th>X1</th>\n",
       "      <th>X2</th>\n",
       "    </tr>\n",
       "  </thead>\n",
       "  <tbody>\n",
       "    <tr>\n",
       "      <th>0</th>\n",
       "      <td>8476</td>\n",
       "      <td>You Can Smell Hillary’s Fear</td>\n",
       "      <td>Daniel Greenfield, a Shillman Journalism Fello...</td>\n",
       "      <td>FAKE</td>\n",
       "      <td>NaN</td>\n",
       "      <td>NaN</td>\n",
       "    </tr>\n",
       "    <tr>\n",
       "      <th>1</th>\n",
       "      <td>10294</td>\n",
       "      <td>Watch The Exact Moment Paul Ryan Committed Pol...</td>\n",
       "      <td>Google Pinterest Digg Linkedin Reddit Stumbleu...</td>\n",
       "      <td>FAKE</td>\n",
       "      <td>NaN</td>\n",
       "      <td>NaN</td>\n",
       "    </tr>\n",
       "    <tr>\n",
       "      <th>2</th>\n",
       "      <td>3608</td>\n",
       "      <td>Kerry to go to Paris in gesture of sympathy</td>\n",
       "      <td>U.S. Secretary of State John F. Kerry said Mon...</td>\n",
       "      <td>REAL</td>\n",
       "      <td>NaN</td>\n",
       "      <td>NaN</td>\n",
       "    </tr>\n",
       "    <tr>\n",
       "      <th>3</th>\n",
       "      <td>10142</td>\n",
       "      <td>Bernie supporters on Twitter erupt in anger ag...</td>\n",
       "      <td>— Kaydee King (@KaydeeKing) November 9, 2016 T...</td>\n",
       "      <td>FAKE</td>\n",
       "      <td>NaN</td>\n",
       "      <td>NaN</td>\n",
       "    </tr>\n",
       "    <tr>\n",
       "      <th>4</th>\n",
       "      <td>875</td>\n",
       "      <td>The Battle of New York: Why This Primary Matters</td>\n",
       "      <td>It's primary day in New York and front-runners...</td>\n",
       "      <td>REAL</td>\n",
       "      <td>NaN</td>\n",
       "      <td>NaN</td>\n",
       "    </tr>\n",
       "  </tbody>\n",
       "</table>\n",
       "</div>"
      ],
      "text/plain": [
       "      ID                                              title  \\\n",
       "0   8476                       You Can Smell Hillary’s Fear   \n",
       "1  10294  Watch The Exact Moment Paul Ryan Committed Pol...   \n",
       "2   3608        Kerry to go to Paris in gesture of sympathy   \n",
       "3  10142  Bernie supporters on Twitter erupt in anger ag...   \n",
       "4    875   The Battle of New York: Why This Primary Matters   \n",
       "\n",
       "                                                text label   X1   X2  \n",
       "0  Daniel Greenfield, a Shillman Journalism Fello...  FAKE  NaN  NaN  \n",
       "1  Google Pinterest Digg Linkedin Reddit Stumbleu...  FAKE  NaN  NaN  \n",
       "2  U.S. Secretary of State John F. Kerry said Mon...  REAL  NaN  NaN  \n",
       "3  — Kaydee King (@KaydeeKing) November 9, 2016 T...  FAKE  NaN  NaN  \n",
       "4  It's primary day in New York and front-runners...  REAL  NaN  NaN  "
      ]
     },
     "execution_count": 3,
     "metadata": {},
     "output_type": "execute_result"
    }
   ],
   "source": [
    "train_news = pd.read_csv(\"https://gist.githubusercontent.com/ashomah/d0b6880eada8030ecac60ea3c7d80504/raw/8ea6418aafb568eab05d92961a8e1a89fee280fc/fake_or_real_news_training.csv\",\n",
    "                         sep = ',',                     #(?!\\s)(?!\\d)(?!\\\")(?!\\”)(?!\\’)(?!\\)(?!\\])',   Regex temptative\n",
    "                         engine = \"python\",\n",
    "                        error_bad_lines = False)\n",
    "train_news.head()"
   ]
  },
  {
   "cell_type": "code",
   "execution_count": 4,
   "metadata": {
    "colab": {
     "base_uri": "https://localhost:8080/",
     "height": 204
    },
    "colab_type": "code",
    "executionInfo": {
     "elapsed": 9393,
     "status": "ok",
     "timestamp": 1559373818606,
     "user": {
      "displayName": "Ashley O'Mahony",
      "photoUrl": "https://lh5.googleusercontent.com/-1kukuBnoGG8/AAAAAAAAAAI/AAAAAAAAAEc/SDLV7krtrG8/s64/photo.jpg",
      "userId": "14678637045665485587"
     },
     "user_tz": -120
    },
    "id": "X4NeIkeLGnlJ",
    "outputId": "bce3a3dd-21ed-4b94-90c2-7ffcb288aca9"
   },
   "outputs": [
    {
     "data": {
      "text/html": [
       "<div>\n",
       "<style scoped>\n",
       "    .dataframe tbody tr th:only-of-type {\n",
       "        vertical-align: middle;\n",
       "    }\n",
       "\n",
       "    .dataframe tbody tr th {\n",
       "        vertical-align: top;\n",
       "    }\n",
       "\n",
       "    .dataframe thead th {\n",
       "        text-align: right;\n",
       "    }\n",
       "</style>\n",
       "<table border=\"1\" class=\"dataframe\">\n",
       "  <thead>\n",
       "    <tr style=\"text-align: right;\">\n",
       "      <th></th>\n",
       "      <th>ID</th>\n",
       "      <th>title</th>\n",
       "      <th>text</th>\n",
       "    </tr>\n",
       "  </thead>\n",
       "  <tbody>\n",
       "    <tr>\n",
       "      <th>0</th>\n",
       "      <td>10498</td>\n",
       "      <td>September New Homes Sales Rise——-Back To 1992 ...</td>\n",
       "      <td>September New Homes Sales Rise Back To 1992 Le...</td>\n",
       "    </tr>\n",
       "    <tr>\n",
       "      <th>1</th>\n",
       "      <td>2439</td>\n",
       "      <td>Why The Obamacare Doomsday Cult Can't Admit It...</td>\n",
       "      <td>But when Congress debated and passed the Patie...</td>\n",
       "    </tr>\n",
       "    <tr>\n",
       "      <th>2</th>\n",
       "      <td>864</td>\n",
       "      <td>Sanders, Cruz resist pressure after NY losses,...</td>\n",
       "      <td>The Bernie Sanders and Ted Cruz campaigns vowe...</td>\n",
       "    </tr>\n",
       "    <tr>\n",
       "      <th>3</th>\n",
       "      <td>4128</td>\n",
       "      <td>Surviving escaped prisoner likely fatigued and...</td>\n",
       "      <td>Police searching for the second of two escaped...</td>\n",
       "    </tr>\n",
       "    <tr>\n",
       "      <th>4</th>\n",
       "      <td>662</td>\n",
       "      <td>Clinton and Sanders neck and neck in Californi...</td>\n",
       "      <td>No matter who wins California's 475 delegates ...</td>\n",
       "    </tr>\n",
       "  </tbody>\n",
       "</table>\n",
       "</div>"
      ],
      "text/plain": [
       "      ID                                              title  \\\n",
       "0  10498  September New Homes Sales Rise——-Back To 1992 ...   \n",
       "1   2439  Why The Obamacare Doomsday Cult Can't Admit It...   \n",
       "2    864  Sanders, Cruz resist pressure after NY losses,...   \n",
       "3   4128  Surviving escaped prisoner likely fatigued and...   \n",
       "4    662  Clinton and Sanders neck and neck in Californi...   \n",
       "\n",
       "                                                text  \n",
       "0  September New Homes Sales Rise Back To 1992 Le...  \n",
       "1  But when Congress debated and passed the Patie...  \n",
       "2  The Bernie Sanders and Ted Cruz campaigns vowe...  \n",
       "3  Police searching for the second of two escaped...  \n",
       "4  No matter who wins California's 475 delegates ...  "
      ]
     },
     "execution_count": 4,
     "metadata": {},
     "output_type": "execute_result"
    }
   ],
   "source": [
    "test_news = pd.read_csv(\"https://gist.githubusercontent.com/ashomah/82ea265ff0e89b96d54d9d790351668c/raw/d9af3de87ddabf1faec76cdca84fe7e71db21392/fake_or_real_news_test.csv\")\n",
    "test_news.head()"
   ]
  },
  {
   "cell_type": "markdown",
   "metadata": {
    "colab_type": "text",
    "id": "b9Mh8FdvGQxQ"
   },
   "source": [
    "The Training and Test files now loaded, we can check their structure and quality. The function **df_desc** describes the structure of the datesets, and the function **data_qualityCheck** checks the overall data quality.  "
   ]
  },
  {
   "cell_type": "code",
   "execution_count": 5,
   "metadata": {
    "colab": {},
    "colab_type": "code",
    "id": "KvdDs4wgGnlN"
   },
   "outputs": [],
   "source": [
    "# Describe each variable\n",
    "def df_desc(df):\n",
    "    import pandas as pd\n",
    "    desc = pd.DataFrame({'dtype': df.dtypes,\n",
    "                         'NAs': df.isna().sum(),\n",
    "                         'Numerical': (df.dtypes != 'object') & (df.dtypes != 'datetime64[ns]') & (df.apply(lambda column: column == 0).sum() + df.apply(lambda column: column == 1).sum() != len(df)),\n",
    "                         'Boolean': df.apply(lambda column: column == 0).sum() + df.apply(lambda column: column == 1).sum() == len(df),\n",
    "                         'Categorical': df.dtypes == 'object',\n",
    "                         'Date': df.dtypes == 'datetime64[ns]',\n",
    "                        })\n",
    "    return desc"
   ]
  },
  {
   "cell_type": "code",
   "execution_count": 76,
   "metadata": {
    "colab": {},
    "colab_type": "code",
    "id": "ZMcoy9zhj_Ay"
   },
   "outputs": [],
   "source": [
    "# Check the quality of our dataframes\n",
    "def data_qualityCheck():\n",
    "    \n",
    "    print(\"Checking data quality for TRAIN\")\n",
    "    print('')\n",
    "    train_news.isnull().sum()\n",
    "    train_news.info()\n",
    "        \n",
    "    print(\"Check finished.\")\n",
    "    print('')\n",
    "    print(\"Checking data quality for TEST\")\n",
    "    print('')\n",
    "    \n",
    "    test_news.isnull().sum()\n",
    "    test_news.info()\n",
    "    print(\"Check finished.\")"
   ]
  },
  {
   "cell_type": "code",
   "execution_count": 77,
   "metadata": {
    "colab": {
     "base_uri": "https://localhost:8080/",
     "height": 485
    },
    "colab_type": "code",
    "executionInfo": {
     "elapsed": 5638,
     "status": "ok",
     "timestamp": 1559373818610,
     "user": {
      "displayName": "Ashley O'Mahony",
      "photoUrl": "https://lh5.googleusercontent.com/-1kukuBnoGG8/AAAAAAAAAAI/AAAAAAAAAEc/SDLV7krtrG8/s64/photo.jpg",
      "userId": "14678637045665485587"
     },
     "user_tz": -120
    },
    "id": "o_yEbBxeIU26",
    "outputId": "6a8339ad-86f6-4193-c076-fda862c70e94"
   },
   "outputs": [
    {
     "name": "stdout",
     "output_type": "stream",
     "text": [
      "Checking data quality for TRAIN\n",
      "\n",
      "<class 'pandas.core.frame.DataFrame'>\n",
      "RangeIndex: 3999 entries, 0 to 3998\n",
      "Data columns (total 7 columns):\n",
      "ID           3999 non-null int64\n",
      "title        3999 non-null object\n",
      "text         3999 non-null object\n",
      "label        3999 non-null int64\n",
      "X1           0 non-null object\n",
      "X2           0 non-null object\n",
      "full_text    3999 non-null object\n",
      "dtypes: int64(2), object(5)\n",
      "memory usage: 218.8+ KB\n",
      "Check finished.\n",
      "\n",
      "Checking data quality for TEST\n",
      "\n",
      "<class 'pandas.core.frame.DataFrame'>\n",
      "RangeIndex: 2321 entries, 0 to 2320\n",
      "Data columns (total 4 columns):\n",
      "ID           2321 non-null int64\n",
      "title        2321 non-null object\n",
      "text         2321 non-null object\n",
      "full_text    2321 non-null object\n",
      "dtypes: int64(1), object(3)\n",
      "memory usage: 72.6+ KB\n",
      "Check finished.\n"
     ]
    }
   ],
   "source": [
    "# Run the below function call to see the quality check results\n",
    "data_qualityCheck()"
   ]
  },
  {
   "cell_type": "code",
   "execution_count": 8,
   "metadata": {
    "colab": {
     "base_uri": "https://localhost:8080/",
     "height": 235
    },
    "colab_type": "code",
    "executionInfo": {
     "elapsed": 4322,
     "status": "ok",
     "timestamp": 1559373819076,
     "user": {
      "displayName": "Ashley O'Mahony",
      "photoUrl": "https://lh5.googleusercontent.com/-1kukuBnoGG8/AAAAAAAAAAI/AAAAAAAAAEc/SDLV7krtrG8/s64/photo.jpg",
      "userId": "14678637045665485587"
     },
     "user_tz": -120
    },
    "id": "lY4k-SRBGGIT",
    "outputId": "31a35cc7-8224-454a-d03f-1471f75ed90c"
   },
   "outputs": [
    {
     "data": {
      "text/html": [
       "<div>\n",
       "<style scoped>\n",
       "    .dataframe tbody tr th:only-of-type {\n",
       "        vertical-align: middle;\n",
       "    }\n",
       "\n",
       "    .dataframe tbody tr th {\n",
       "        vertical-align: top;\n",
       "    }\n",
       "\n",
       "    .dataframe thead th {\n",
       "        text-align: right;\n",
       "    }\n",
       "</style>\n",
       "<table border=\"1\" class=\"dataframe\">\n",
       "  <thead>\n",
       "    <tr style=\"text-align: right;\">\n",
       "      <th></th>\n",
       "      <th>Boolean</th>\n",
       "      <th>Categorical</th>\n",
       "      <th>Date</th>\n",
       "      <th>NAs</th>\n",
       "      <th>Numerical</th>\n",
       "      <th>dtype</th>\n",
       "    </tr>\n",
       "  </thead>\n",
       "  <tbody>\n",
       "    <tr>\n",
       "      <th>ID</th>\n",
       "      <td>False</td>\n",
       "      <td>False</td>\n",
       "      <td>False</td>\n",
       "      <td>0</td>\n",
       "      <td>True</td>\n",
       "      <td>int64</td>\n",
       "    </tr>\n",
       "    <tr>\n",
       "      <th>title</th>\n",
       "      <td>False</td>\n",
       "      <td>True</td>\n",
       "      <td>False</td>\n",
       "      <td>0</td>\n",
       "      <td>False</td>\n",
       "      <td>object</td>\n",
       "    </tr>\n",
       "    <tr>\n",
       "      <th>text</th>\n",
       "      <td>False</td>\n",
       "      <td>True</td>\n",
       "      <td>False</td>\n",
       "      <td>0</td>\n",
       "      <td>False</td>\n",
       "      <td>object</td>\n",
       "    </tr>\n",
       "    <tr>\n",
       "      <th>label</th>\n",
       "      <td>False</td>\n",
       "      <td>True</td>\n",
       "      <td>False</td>\n",
       "      <td>0</td>\n",
       "      <td>False</td>\n",
       "      <td>object</td>\n",
       "    </tr>\n",
       "    <tr>\n",
       "      <th>X1</th>\n",
       "      <td>False</td>\n",
       "      <td>True</td>\n",
       "      <td>False</td>\n",
       "      <td>3966</td>\n",
       "      <td>False</td>\n",
       "      <td>object</td>\n",
       "    </tr>\n",
       "    <tr>\n",
       "      <th>X2</th>\n",
       "      <td>False</td>\n",
       "      <td>True</td>\n",
       "      <td>False</td>\n",
       "      <td>3997</td>\n",
       "      <td>False</td>\n",
       "      <td>object</td>\n",
       "    </tr>\n",
       "  </tbody>\n",
       "</table>\n",
       "</div>"
      ],
      "text/plain": [
       "       Boolean  Categorical   Date   NAs  Numerical   dtype\n",
       "ID       False        False  False     0       True   int64\n",
       "title    False         True  False     0      False  object\n",
       "text     False         True  False     0      False  object\n",
       "label    False         True  False     0      False  object\n",
       "X1       False         True  False  3966      False  object\n",
       "X2       False         True  False  3997      False  object"
      ]
     },
     "execution_count": 8,
     "metadata": {},
     "output_type": "execute_result"
    }
   ],
   "source": [
    "df_desc(train_news)"
   ]
  },
  {
   "cell_type": "code",
   "execution_count": 9,
   "metadata": {
    "colab": {
     "base_uri": "https://localhost:8080/",
     "height": 142
    },
    "colab_type": "code",
    "executionInfo": {
     "elapsed": 2877,
     "status": "ok",
     "timestamp": 1559373819077,
     "user": {
      "displayName": "Ashley O'Mahony",
      "photoUrl": "https://lh5.googleusercontent.com/-1kukuBnoGG8/AAAAAAAAAAI/AAAAAAAAAEc/SDLV7krtrG8/s64/photo.jpg",
      "userId": "14678637045665485587"
     },
     "user_tz": -120
    },
    "id": "TZEwDv20GIpN",
    "outputId": "80cbec48-3a8f-43b5-9634-455157ee306a"
   },
   "outputs": [
    {
     "data": {
      "text/html": [
       "<div>\n",
       "<style scoped>\n",
       "    .dataframe tbody tr th:only-of-type {\n",
       "        vertical-align: middle;\n",
       "    }\n",
       "\n",
       "    .dataframe tbody tr th {\n",
       "        vertical-align: top;\n",
       "    }\n",
       "\n",
       "    .dataframe thead th {\n",
       "        text-align: right;\n",
       "    }\n",
       "</style>\n",
       "<table border=\"1\" class=\"dataframe\">\n",
       "  <thead>\n",
       "    <tr style=\"text-align: right;\">\n",
       "      <th></th>\n",
       "      <th>Boolean</th>\n",
       "      <th>Categorical</th>\n",
       "      <th>Date</th>\n",
       "      <th>NAs</th>\n",
       "      <th>Numerical</th>\n",
       "      <th>dtype</th>\n",
       "    </tr>\n",
       "  </thead>\n",
       "  <tbody>\n",
       "    <tr>\n",
       "      <th>ID</th>\n",
       "      <td>False</td>\n",
       "      <td>False</td>\n",
       "      <td>False</td>\n",
       "      <td>0</td>\n",
       "      <td>True</td>\n",
       "      <td>int64</td>\n",
       "    </tr>\n",
       "    <tr>\n",
       "      <th>title</th>\n",
       "      <td>False</td>\n",
       "      <td>True</td>\n",
       "      <td>False</td>\n",
       "      <td>0</td>\n",
       "      <td>False</td>\n",
       "      <td>object</td>\n",
       "    </tr>\n",
       "    <tr>\n",
       "      <th>text</th>\n",
       "      <td>False</td>\n",
       "      <td>True</td>\n",
       "      <td>False</td>\n",
       "      <td>0</td>\n",
       "      <td>False</td>\n",
       "      <td>object</td>\n",
       "    </tr>\n",
       "  </tbody>\n",
       "</table>\n",
       "</div>"
      ],
      "text/plain": [
       "       Boolean  Categorical   Date  NAs  Numerical   dtype\n",
       "ID       False        False  False    0       True   int64\n",
       "title    False         True  False    0      False  object\n",
       "text     False         True  False    0      False  object"
      ]
     },
     "execution_count": 9,
     "metadata": {},
     "output_type": "execute_result"
    }
   ],
   "source": [
    "df_desc(test_news)"
   ]
  },
  {
   "cell_type": "markdown",
   "metadata": {
    "colab_type": "text",
    "id": "ytsqQ7HiGmpO"
   },
   "source": [
    "We notice here that the Train set has some values in the columns `X1` and `X2`, when they should be only filled with `NA`s. After investigation, we realized that some commas are present in some articles, and the function `read_csv` consider them as delimiters.  \n",
    "\n",
    "We tried using Regex to filter every occurence which would cause this error, but the function doesn't perform exactly the same way when Regex is used in the `delimiter` parameter. Thus, after several trials, we decided to correct the Train set manually, thanks to the small number of rows with issues.  "
   ]
  },
  {
   "cell_type": "code",
   "execution_count": 10,
   "metadata": {
    "colab": {},
    "colab_type": "code",
    "id": "cgR92o7T-2OK"
   },
   "outputs": [],
   "source": [
    "# Fixing bad lines in Train\n",
    "train_news.loc[train_news['X1'].notnull() & train_news['X2'].isnull(), 'title'] = train_news.loc[train_news['X1'].notnull(), 'title'] + ',' + train_news.loc[train_news['X1'].notnull(), 'text']\n",
    "train_news.loc[train_news['X1'].notnull() & train_news['X2'].isnull(), 'text'] = train_news.loc[train_news['X1'].notnull(), 'label']\n",
    "train_news.loc[train_news['X1'].notnull() & train_news['X2'].isnull(), 'label'] = train_news.loc[train_news['X1'].notnull(), 'X1']\n",
    "train_news.loc[train_news['X1'].notnull() & train_news['X2'].isnull(), 'X1'] = np.nan\n",
    "\n",
    "train_news.loc[train_news['title'] == train_news.loc[train_news['X2'].notnull(), 'title'].iloc[0], 'title'] = train_news.loc[train_news['title'] == train_news.loc[train_news['X2'].notnull(), 'title'].iloc[0], 'title'] + ',' + train_news.loc[train_news['title'] == train_news.loc[train_news['X2'].notnull(), 'title'].iloc[0], 'text'] + ', ' + train_news.loc[train_news['title'] == train_news.loc[train_news['X2'].notnull(), 'title'].iloc[0], 'label']\n",
    "train_news.loc[train_news['title'] == train_news.loc[train_news['X2'].notnull(), 'title'].iloc[0], 'text'] = train_news.loc[train_news['title'] == train_news.loc[train_news['X2'].notnull(), 'title'].iloc[0], 'X1']\n",
    "train_news.loc[train_news['title'] == train_news.loc[train_news['X2'].notnull(), 'title'].iloc[0], 'label'] = train_news.loc[train_news['title'] == train_news.loc[train_news['X2'].notnull(), 'title'].iloc[0], 'X2']\n",
    "\n",
    "train_news.loc[train_news['title'] == train_news.loc[train_news['X2'].notnull(), 'title'].iloc[1], 'title'] = train_news.loc[train_news['title'] == train_news.loc[train_news['X2'].notnull(), 'title'].iloc[1], 'title'] + ',' + train_news.loc[train_news['title'] == train_news.loc[train_news['X2'].notnull(), 'title'].iloc[1], 'text']\n",
    "train_news.loc[train_news['title'] == train_news.loc[train_news['X2'].notnull(), 'title'].iloc[1], 'text'] = train_news.loc[train_news['title'] == train_news.loc[train_news['X2'].notnull(), 'title'].iloc[1], 'label'] + ',' + train_news.loc[train_news['title'] == train_news.loc[train_news['X2'].notnull(), 'title'].iloc[1], 'X1']\n",
    "train_news.loc[train_news['title'] == train_news.loc[train_news['X2'].notnull(), 'title'].iloc[1], 'label'] = train_news.loc[train_news['title'] == train_news.loc[train_news['X2'].notnull(), 'title'].iloc[1], 'X2']\n",
    "\n",
    "train_news.loc[train_news['X2'].notnull(), 'X1'] = np.nan\n",
    "train_news.loc[train_news['X2'].notnull(), 'X2'] = np.nan"
   ]
  },
  {
   "cell_type": "markdown",
   "metadata": {
    "colab_type": "text",
    "id": "KZxSirXfrMbM"
   },
   "source": [
    "After this data manipulation, the datasets are cleaned and ready to use.  "
   ]
  },
  {
   "cell_type": "code",
   "execution_count": 11,
   "metadata": {
    "colab": {
     "base_uri": "https://localhost:8080/",
     "height": 485
    },
    "colab_type": "code",
    "executionInfo": {
     "elapsed": 921,
     "status": "ok",
     "timestamp": 1559373820295,
     "user": {
      "displayName": "Ashley O'Mahony",
      "photoUrl": "https://lh5.googleusercontent.com/-1kukuBnoGG8/AAAAAAAAAAI/AAAAAAAAAEc/SDLV7krtrG8/s64/photo.jpg",
      "userId": "14678637045665485587"
     },
     "user_tz": -120
    },
    "id": "NDkURCr8IZix",
    "outputId": "e640feee-1fe7-4bb5-9acb-a9c8a4c3f2db"
   },
   "outputs": [
    {
     "name": "stdout",
     "output_type": "stream",
     "text": [
      "Checking data quality for TRAIN\n",
      "\n",
      "<class 'pandas.core.frame.DataFrame'>\n",
      "RangeIndex: 3999 entries, 0 to 3998\n",
      "Data columns (total 6 columns):\n",
      "ID       3999 non-null int64\n",
      "title    3999 non-null object\n",
      "text     3999 non-null object\n",
      "label    3999 non-null object\n",
      "X1       0 non-null object\n",
      "X2       0 non-null object\n",
      "dtypes: int64(1), object(5)\n",
      "memory usage: 187.5+ KB\n",
      "check finished.\n",
      "\n",
      "Checking data quality for TEST\n",
      "\n",
      "<class 'pandas.core.frame.DataFrame'>\n",
      "RangeIndex: 2321 entries, 0 to 2320\n",
      "Data columns (total 3 columns):\n",
      "ID       2321 non-null int64\n",
      "title    2321 non-null object\n",
      "text     2321 non-null object\n",
      "dtypes: int64(1), object(2)\n",
      "memory usage: 54.5+ KB\n",
      "check finished.\n"
     ]
    }
   ],
   "source": [
    "# Run the below function call to see the quality check results\n",
    "data_qualityCheck()"
   ]
  },
  {
   "cell_type": "code",
   "execution_count": 12,
   "metadata": {
    "colab": {
     "base_uri": "https://localhost:8080/",
     "height": 235
    },
    "colab_type": "code",
    "executionInfo": {
     "elapsed": 707,
     "status": "ok",
     "timestamp": 1559373821693,
     "user": {
      "displayName": "Ashley O'Mahony",
      "photoUrl": "https://lh5.googleusercontent.com/-1kukuBnoGG8/AAAAAAAAAAI/AAAAAAAAAEc/SDLV7krtrG8/s64/photo.jpg",
      "userId": "14678637045665485587"
     },
     "user_tz": -120
    },
    "id": "w0Jo67qbGnlO",
    "outputId": "855c6434-300f-4782-8954-6c33cb5845e0"
   },
   "outputs": [
    {
     "data": {
      "text/html": [
       "<div>\n",
       "<style scoped>\n",
       "    .dataframe tbody tr th:only-of-type {\n",
       "        vertical-align: middle;\n",
       "    }\n",
       "\n",
       "    .dataframe tbody tr th {\n",
       "        vertical-align: top;\n",
       "    }\n",
       "\n",
       "    .dataframe thead th {\n",
       "        text-align: right;\n",
       "    }\n",
       "</style>\n",
       "<table border=\"1\" class=\"dataframe\">\n",
       "  <thead>\n",
       "    <tr style=\"text-align: right;\">\n",
       "      <th></th>\n",
       "      <th>Boolean</th>\n",
       "      <th>Categorical</th>\n",
       "      <th>Date</th>\n",
       "      <th>NAs</th>\n",
       "      <th>Numerical</th>\n",
       "      <th>dtype</th>\n",
       "    </tr>\n",
       "  </thead>\n",
       "  <tbody>\n",
       "    <tr>\n",
       "      <th>ID</th>\n",
       "      <td>False</td>\n",
       "      <td>False</td>\n",
       "      <td>False</td>\n",
       "      <td>0</td>\n",
       "      <td>True</td>\n",
       "      <td>int64</td>\n",
       "    </tr>\n",
       "    <tr>\n",
       "      <th>title</th>\n",
       "      <td>False</td>\n",
       "      <td>True</td>\n",
       "      <td>False</td>\n",
       "      <td>0</td>\n",
       "      <td>False</td>\n",
       "      <td>object</td>\n",
       "    </tr>\n",
       "    <tr>\n",
       "      <th>text</th>\n",
       "      <td>False</td>\n",
       "      <td>True</td>\n",
       "      <td>False</td>\n",
       "      <td>0</td>\n",
       "      <td>False</td>\n",
       "      <td>object</td>\n",
       "    </tr>\n",
       "    <tr>\n",
       "      <th>label</th>\n",
       "      <td>False</td>\n",
       "      <td>True</td>\n",
       "      <td>False</td>\n",
       "      <td>0</td>\n",
       "      <td>False</td>\n",
       "      <td>object</td>\n",
       "    </tr>\n",
       "    <tr>\n",
       "      <th>X1</th>\n",
       "      <td>False</td>\n",
       "      <td>True</td>\n",
       "      <td>False</td>\n",
       "      <td>3999</td>\n",
       "      <td>False</td>\n",
       "      <td>object</td>\n",
       "    </tr>\n",
       "    <tr>\n",
       "      <th>X2</th>\n",
       "      <td>False</td>\n",
       "      <td>True</td>\n",
       "      <td>False</td>\n",
       "      <td>3999</td>\n",
       "      <td>False</td>\n",
       "      <td>object</td>\n",
       "    </tr>\n",
       "  </tbody>\n",
       "</table>\n",
       "</div>"
      ],
      "text/plain": [
       "       Boolean  Categorical   Date   NAs  Numerical   dtype\n",
       "ID       False        False  False     0       True   int64\n",
       "title    False         True  False     0      False  object\n",
       "text     False         True  False     0      False  object\n",
       "label    False         True  False     0      False  object\n",
       "X1       False         True  False  3999      False  object\n",
       "X2       False         True  False  3999      False  object"
      ]
     },
     "execution_count": 12,
     "metadata": {},
     "output_type": "execute_result"
    }
   ],
   "source": [
    "df_desc(train_news)"
   ]
  },
  {
   "cell_type": "code",
   "execution_count": 13,
   "metadata": {
    "colab": {
     "base_uri": "https://localhost:8080/",
     "height": 142
    },
    "colab_type": "code",
    "executionInfo": {
     "elapsed": 998,
     "status": "ok",
     "timestamp": 1559373822958,
     "user": {
      "displayName": "Ashley O'Mahony",
      "photoUrl": "https://lh5.googleusercontent.com/-1kukuBnoGG8/AAAAAAAAAAI/AAAAAAAAAEc/SDLV7krtrG8/s64/photo.jpg",
      "userId": "14678637045665485587"
     },
     "user_tz": -120
    },
    "id": "R6kSpBfsGnlQ",
    "outputId": "7c919602-6ff9-4d5c-9f5f-9034e8a913eb"
   },
   "outputs": [
    {
     "data": {
      "text/html": [
       "<div>\n",
       "<style scoped>\n",
       "    .dataframe tbody tr th:only-of-type {\n",
       "        vertical-align: middle;\n",
       "    }\n",
       "\n",
       "    .dataframe tbody tr th {\n",
       "        vertical-align: top;\n",
       "    }\n",
       "\n",
       "    .dataframe thead th {\n",
       "        text-align: right;\n",
       "    }\n",
       "</style>\n",
       "<table border=\"1\" class=\"dataframe\">\n",
       "  <thead>\n",
       "    <tr style=\"text-align: right;\">\n",
       "      <th></th>\n",
       "      <th>Boolean</th>\n",
       "      <th>Categorical</th>\n",
       "      <th>Date</th>\n",
       "      <th>NAs</th>\n",
       "      <th>Numerical</th>\n",
       "      <th>dtype</th>\n",
       "    </tr>\n",
       "  </thead>\n",
       "  <tbody>\n",
       "    <tr>\n",
       "      <th>ID</th>\n",
       "      <td>False</td>\n",
       "      <td>False</td>\n",
       "      <td>False</td>\n",
       "      <td>0</td>\n",
       "      <td>True</td>\n",
       "      <td>int64</td>\n",
       "    </tr>\n",
       "    <tr>\n",
       "      <th>title</th>\n",
       "      <td>False</td>\n",
       "      <td>True</td>\n",
       "      <td>False</td>\n",
       "      <td>0</td>\n",
       "      <td>False</td>\n",
       "      <td>object</td>\n",
       "    </tr>\n",
       "    <tr>\n",
       "      <th>text</th>\n",
       "      <td>False</td>\n",
       "      <td>True</td>\n",
       "      <td>False</td>\n",
       "      <td>0</td>\n",
       "      <td>False</td>\n",
       "      <td>object</td>\n",
       "    </tr>\n",
       "  </tbody>\n",
       "</table>\n",
       "</div>"
      ],
      "text/plain": [
       "       Boolean  Categorical   Date  NAs  Numerical   dtype\n",
       "ID       False        False  False    0       True   int64\n",
       "title    False         True  False    0      False  object\n",
       "text     False         True  False    0      False  object"
      ]
     },
     "execution_count": 13,
     "metadata": {},
     "output_type": "execute_result"
    }
   ],
   "source": [
    "df_desc(test_news)"
   ]
  },
  {
   "cell_type": "markdown",
   "metadata": {
    "colab_type": "text",
    "id": "pqFHYhh8GnlT"
   },
   "source": [
    "# Data Preparation"
   ]
  },
  {
   "cell_type": "markdown",
   "metadata": {
    "colab_type": "text",
    "id": "LFNXrf8E43f9"
   },
   "source": [
    "We merge the `title` and `text` column into the **`full text`** column, as adding information from the article title that might be helpful for our analysis.  "
   ]
  },
  {
   "cell_type": "code",
   "execution_count": 14,
   "metadata": {
    "colab": {},
    "colab_type": "code",
    "id": "9lFsn-we43pI"
   },
   "outputs": [],
   "source": [
    "train_news['full_text'] = train_news['title'].str.cat(train_news['text'],sep=\" \")\n",
    "test_news['full_text'] = test_news['title'].str.cat(test_news['text'],sep=\" \")"
   ]
  },
  {
   "cell_type": "code",
   "execution_count": 15,
   "metadata": {
    "colab": {
     "base_uri": "https://localhost:8080/",
     "height": 204
    },
    "colab_type": "code",
    "executionInfo": {
     "elapsed": 436,
     "status": "ok",
     "timestamp": 1559373830208,
     "user": {
      "displayName": "Ashley O'Mahony",
      "photoUrl": "https://lh5.googleusercontent.com/-1kukuBnoGG8/AAAAAAAAAAI/AAAAAAAAAEc/SDLV7krtrG8/s64/photo.jpg",
      "userId": "14678637045665485587"
     },
     "user_tz": -120
    },
    "id": "kseF-rc45FNw",
    "outputId": "e3ca2f41-cd9e-4f9a-eab3-05dc7ffcd17e"
   },
   "outputs": [
    {
     "data": {
      "text/html": [
       "<div>\n",
       "<style scoped>\n",
       "    .dataframe tbody tr th:only-of-type {\n",
       "        vertical-align: middle;\n",
       "    }\n",
       "\n",
       "    .dataframe tbody tr th {\n",
       "        vertical-align: top;\n",
       "    }\n",
       "\n",
       "    .dataframe thead th {\n",
       "        text-align: right;\n",
       "    }\n",
       "</style>\n",
       "<table border=\"1\" class=\"dataframe\">\n",
       "  <thead>\n",
       "    <tr style=\"text-align: right;\">\n",
       "      <th></th>\n",
       "      <th>ID</th>\n",
       "      <th>title</th>\n",
       "      <th>text</th>\n",
       "      <th>label</th>\n",
       "      <th>X1</th>\n",
       "      <th>X2</th>\n",
       "      <th>full_text</th>\n",
       "    </tr>\n",
       "  </thead>\n",
       "  <tbody>\n",
       "    <tr>\n",
       "      <th>0</th>\n",
       "      <td>8476</td>\n",
       "      <td>You Can Smell Hillary’s Fear</td>\n",
       "      <td>Daniel Greenfield, a Shillman Journalism Fello...</td>\n",
       "      <td>FAKE</td>\n",
       "      <td>NaN</td>\n",
       "      <td>NaN</td>\n",
       "      <td>You Can Smell Hillary’s Fear Daniel Greenfield...</td>\n",
       "    </tr>\n",
       "    <tr>\n",
       "      <th>1</th>\n",
       "      <td>10294</td>\n",
       "      <td>Watch The Exact Moment Paul Ryan Committed Pol...</td>\n",
       "      <td>Google Pinterest Digg Linkedin Reddit Stumbleu...</td>\n",
       "      <td>FAKE</td>\n",
       "      <td>NaN</td>\n",
       "      <td>NaN</td>\n",
       "      <td>Watch The Exact Moment Paul Ryan Committed Pol...</td>\n",
       "    </tr>\n",
       "    <tr>\n",
       "      <th>2</th>\n",
       "      <td>3608</td>\n",
       "      <td>Kerry to go to Paris in gesture of sympathy</td>\n",
       "      <td>U.S. Secretary of State John F. Kerry said Mon...</td>\n",
       "      <td>REAL</td>\n",
       "      <td>NaN</td>\n",
       "      <td>NaN</td>\n",
       "      <td>Kerry to go to Paris in gesture of sympathy U....</td>\n",
       "    </tr>\n",
       "    <tr>\n",
       "      <th>3</th>\n",
       "      <td>10142</td>\n",
       "      <td>Bernie supporters on Twitter erupt in anger ag...</td>\n",
       "      <td>— Kaydee King (@KaydeeKing) November 9, 2016 T...</td>\n",
       "      <td>FAKE</td>\n",
       "      <td>NaN</td>\n",
       "      <td>NaN</td>\n",
       "      <td>Bernie supporters on Twitter erupt in anger ag...</td>\n",
       "    </tr>\n",
       "    <tr>\n",
       "      <th>4</th>\n",
       "      <td>875</td>\n",
       "      <td>The Battle of New York: Why This Primary Matters</td>\n",
       "      <td>It's primary day in New York and front-runners...</td>\n",
       "      <td>REAL</td>\n",
       "      <td>NaN</td>\n",
       "      <td>NaN</td>\n",
       "      <td>The Battle of New York: Why This Primary Matte...</td>\n",
       "    </tr>\n",
       "  </tbody>\n",
       "</table>\n",
       "</div>"
      ],
      "text/plain": [
       "      ID                                              title  \\\n",
       "0   8476                       You Can Smell Hillary’s Fear   \n",
       "1  10294  Watch The Exact Moment Paul Ryan Committed Pol...   \n",
       "2   3608        Kerry to go to Paris in gesture of sympathy   \n",
       "3  10142  Bernie supporters on Twitter erupt in anger ag...   \n",
       "4    875   The Battle of New York: Why This Primary Matters   \n",
       "\n",
       "                                                text label   X1   X2  \\\n",
       "0  Daniel Greenfield, a Shillman Journalism Fello...  FAKE  NaN  NaN   \n",
       "1  Google Pinterest Digg Linkedin Reddit Stumbleu...  FAKE  NaN  NaN   \n",
       "2  U.S. Secretary of State John F. Kerry said Mon...  REAL  NaN  NaN   \n",
       "3  — Kaydee King (@KaydeeKing) November 9, 2016 T...  FAKE  NaN  NaN   \n",
       "4  It's primary day in New York and front-runners...  REAL  NaN  NaN   \n",
       "\n",
       "                                           full_text  \n",
       "0  You Can Smell Hillary’s Fear Daniel Greenfield...  \n",
       "1  Watch The Exact Moment Paul Ryan Committed Pol...  \n",
       "2  Kerry to go to Paris in gesture of sympathy U....  \n",
       "3  Bernie supporters on Twitter erupt in anger ag...  \n",
       "4  The Battle of New York: Why This Primary Matte...  "
      ]
     },
     "execution_count": 15,
     "metadata": {},
     "output_type": "execute_result"
    }
   ],
   "source": [
    "train_news.head()"
   ]
  },
  {
   "cell_type": "markdown",
   "metadata": {
    "colab_type": "text",
    "id": "Bx_vEIqwyM41"
   },
   "source": [
    "We encode the `label` variable to **0 (REAL)** and **1 (FAKE)**."
   ]
  },
  {
   "cell_type": "code",
   "execution_count": 16,
   "metadata": {
    "colab": {},
    "colab_type": "code",
    "id": "g9LHW2Lsi9nU"
   },
   "outputs": [],
   "source": [
    "# Encoding labels to 0 (REAL) and 1 (FAKE)  \n",
    "train_news['label'] = np.where(train_news['label']=='FAKE', 1, 0)"
   ]
  },
  {
   "cell_type": "markdown",
   "metadata": {
    "colab_type": "text",
    "id": "lBpYgmC5yHj-"
   },
   "source": [
    "We then pre-process the `full text` in order to avoid common errors and noise on the text. The transformations are:  \n",
    "\n",
    "* Remove **special characters**  \n",
    "* Remove **single characters**  \n",
    "* Remove single characters **from the start**  \n",
    "* Substitute multiple spaces with **single space**  \n",
    "* Remove **prefixes**  \n",
    "* Format to **lower case**  \n",
    "* **Lemmatize**  "
   ]
  },
  {
   "cell_type": "code",
   "execution_count": 17,
   "metadata": {
    "colab": {},
    "colab_type": "code",
    "id": "TcCcnRJNyGRq"
   },
   "outputs": [],
   "source": [
    "train_news_fixed = train_news.copy()\n",
    "\n",
    "stemmer = WordNetLemmatizer()\n",
    "\n",
    "for sen in range(0, len(train_news_fixed['full_text'])):  \n",
    "    # Remove all the special characters\n",
    "    title = re.sub(r'\\W', ' ', str(train_news_fixed.loc[sen,'full_text']))\n",
    "\n",
    "    # Remove all single characters\n",
    "    title = re.sub(r'\\s+[a-zA-Z]\\s+', ' ', title)\n",
    "\n",
    "    # Remove single characters from the start\n",
    "    title = re.sub(r'\\^[a-zA-Z]\\s+', ' ', title) \n",
    "\n",
    "    # Substituting multiple spaces with single space\n",
    "    title = re.sub(r'\\s+', ' ', title, flags=re.I)\n",
    "\n",
    "    # Removing prefixed 'b'\n",
    "    title = re.sub(r'^b\\s+', '', title)\n",
    "\n",
    "    # Formating to lower case\n",
    "    title = title.lower()\n",
    "\n",
    "    # Lemmatization\n",
    "    title = title.split()\n",
    "\n",
    "    title = [stemmer.lemmatize(word) for word in title]\n",
    "    title = ' '.join(title)\n",
    "\n",
    "    train_news_fixed.loc[sen,'full_text'] = title"
   ]
  },
  {
   "cell_type": "code",
   "execution_count": 18,
   "metadata": {
    "colab": {
     "base_uri": "https://localhost:8080/",
     "height": 215
    },
    "colab_type": "code",
    "executionInfo": {
     "elapsed": 21889,
     "status": "ok",
     "timestamp": 1559373853942,
     "user": {
      "displayName": "Ashley O'Mahony",
      "photoUrl": "https://lh5.googleusercontent.com/-1kukuBnoGG8/AAAAAAAAAAI/AAAAAAAAAEc/SDLV7krtrG8/s64/photo.jpg",
      "userId": "14678637045665485587"
     },
     "user_tz": -120
    },
    "id": "f_3TdYCxdkQE",
    "outputId": "0bec272c-6198-438a-e9b2-7ddefd917228"
   },
   "outputs": [
    {
     "data": {
      "text/plain": [
       "0    You Can Smell Hillary’s Fear Daniel Greenfield...\n",
       "1    Watch The Exact Moment Paul Ryan Committed Pol...\n",
       "2    Kerry to go to Paris in gesture of sympathy U....\n",
       "3    Bernie supporters on Twitter erupt in anger ag...\n",
       "4    The Battle of New York: Why This Primary Matte...\n",
       "5    Tehran, USA   \\nI’m not an immigrant, but my g...\n",
       "6    Girl Horrified At What She Watches Boyfriend D...\n",
       "7    ‘Britain’s Schindler’ Dies at 106 A Czech stoc...\n",
       "8    Fact check: Trump and Clinton at the 'commande...\n",
       "9    Iran reportedly makes new push for uranium con...\n",
       "Name: full_text, dtype: object"
      ]
     },
     "execution_count": 18,
     "metadata": {},
     "output_type": "execute_result"
    }
   ],
   "source": [
    "train_news['full_text'].head(10)"
   ]
  },
  {
   "cell_type": "code",
   "execution_count": 19,
   "metadata": {
    "colab": {
     "base_uri": "https://localhost:8080/",
     "height": 215
    },
    "colab_type": "code",
    "executionInfo": {
     "elapsed": 20906,
     "status": "ok",
     "timestamp": 1559373853944,
     "user": {
      "displayName": "Ashley O'Mahony",
      "photoUrl": "https://lh5.googleusercontent.com/-1kukuBnoGG8/AAAAAAAAAAI/AAAAAAAAAEc/SDLV7krtrG8/s64/photo.jpg",
      "userId": "14678637045665485587"
     },
     "user_tz": -120
    },
    "id": "_o_VCT6If-q7",
    "outputId": "44dbb690-8fd1-44e0-fc1d-0ced2762aa10"
   },
   "outputs": [
    {
     "data": {
      "text/plain": [
       "0    you can smell hillary fear daniel greenfield s...\n",
       "1    watch the exact moment paul ryan committed pol...\n",
       "2    kerry to go to paris in gesture of sympathy s ...\n",
       "3    bernie supporter on twitter erupt in anger aga...\n",
       "4    the battle of new york why this primary matter...\n",
       "5    tehran usa m not an immigrant but my grandpare...\n",
       "6    girl horrified at what she watch boyfriend do ...\n",
       "7    britain schindler dy at 106 czech stockbroker ...\n",
       "8    fact check trump and clinton at the commander ...\n",
       "9    iran reportedly make new push for uranium conc...\n",
       "Name: full_text, dtype: object"
      ]
     },
     "execution_count": 19,
     "metadata": {},
     "output_type": "execute_result"
    }
   ],
   "source": [
    "train_news_fixed['full_text'].head(10)"
   ]
  },
  {
   "cell_type": "code",
   "execution_count": 20,
   "metadata": {
    "colab": {},
    "colab_type": "code",
    "id": "A0Eura4lf-t_"
   },
   "outputs": [],
   "source": [
    "test_news_fixed = test_news.copy()\n",
    "\n",
    "stemmer = WordNetLemmatizer()\n",
    "\n",
    "for sen in range(0, len(test_news_fixed['full_text'])):  \n",
    "    # Remove all the special characters\n",
    "    title = re.sub(r'\\W', ' ', str(test_news_fixed.loc[sen,'full_text']))\n",
    "\n",
    "    # Remove all single characters\n",
    "    title = re.sub(r'\\s+[a-zA-Z]\\s+', ' ', title)\n",
    "\n",
    "    # Remove single characters from the start\n",
    "    title = re.sub(r'\\^[a-zA-Z]\\s+', ' ', title) \n",
    "\n",
    "    # Substituting multiple spaces with single space\n",
    "    title = re.sub(r'\\s+', ' ', title, flags=re.I)\n",
    "\n",
    "    # Removing prefixed 'b'\n",
    "    title = re.sub(r'^b\\s+', '', title)\n",
    "\n",
    "    # Formating to lower case\n",
    "    title = title.lower()\n",
    "\n",
    "    # Lemmatization\n",
    "    title = title.split()\n",
    "\n",
    "    title = [stemmer.lemmatize(word) for word in title]\n",
    "    title = ' '.join(title)\n",
    "\n",
    "    test_news_fixed.loc[sen,'full_text'] = title"
   ]
  },
  {
   "cell_type": "code",
   "execution_count": 21,
   "metadata": {
    "colab": {
     "base_uri": "https://localhost:8080/",
     "height": 215
    },
    "colab_type": "code",
    "executionInfo": {
     "elapsed": 30748,
     "status": "ok",
     "timestamp": 1559373864761,
     "user": {
      "displayName": "Ashley O'Mahony",
      "photoUrl": "https://lh5.googleusercontent.com/-1kukuBnoGG8/AAAAAAAAAAI/AAAAAAAAAEc/SDLV7krtrG8/s64/photo.jpg",
      "userId": "14678637045665485587"
     },
     "user_tz": -120
    },
    "id": "jjv_h_kxgTW5",
    "outputId": "f5fcdbd8-2edd-410e-a5d7-9f3c33a2fb27"
   },
   "outputs": [
    {
     "data": {
      "text/plain": [
       "2311    Will the Media Reset After the Election or Are...\n",
       "2312    DOJ COMPLAINT: Comey Under Fire Over Partisan ...\n",
       "2313    GOP Senator David Perdue Jokes About Praying f...\n",
       "2314    Radio Derb Is On The Air–Leonardo And Brazil’s...\n",
       "2315    Assange claims ‘crazed’ Clinton campaign tried...\n",
       "2316    State Department says it can't find emails fro...\n",
       "2317    The ‘P’ in PBS Should Stand for ‘Plutocratic’ ...\n",
       "2318    Anti-Trump Protesters Are Tools of the Oligarc...\n",
       "2319    In Ethiopia, Obama seeks progress on peace, se...\n",
       "2320    Jeb Bush Is Suddenly Attacking Trump. Here's W...\n",
       "Name: full_text, dtype: object"
      ]
     },
     "execution_count": 21,
     "metadata": {},
     "output_type": "execute_result"
    }
   ],
   "source": [
    "test_news['full_text'].tail(10)"
   ]
  },
  {
   "cell_type": "code",
   "execution_count": 22,
   "metadata": {
    "colab": {
     "base_uri": "https://localhost:8080/",
     "height": 215
    },
    "colab_type": "code",
    "executionInfo": {
     "elapsed": 30373,
     "status": "ok",
     "timestamp": 1559373864761,
     "user": {
      "displayName": "Ashley O'Mahony",
      "photoUrl": "https://lh5.googleusercontent.com/-1kukuBnoGG8/AAAAAAAAAAI/AAAAAAAAAEc/SDLV7krtrG8/s64/photo.jpg",
      "userId": "14678637045665485587"
     },
     "user_tz": -120
    },
    "id": "95_b_UzQgTZk",
    "outputId": "fd4a3181-32ec-4495-b1a4-7385bca68979"
   },
   "outputs": [
    {
     "data": {
      "text/plain": [
       "2311    will the medium reset after the election or ar...\n",
       "2312    doj complaint comey under fire over partisan w...\n",
       "2313    gop senator david perdue joke about praying fo...\n",
       "2314    radio derb is on the air leonardo and brazil m...\n",
       "2315    assange claim crazed clinton campaign tried to...\n",
       "2316    state department say it can find email from cl...\n",
       "2317    the in pb should stand for plutocratic or pent...\n",
       "2318    anti trump protester are tool of the oligarchy...\n",
       "2319    in ethiopia obama seek progress on peace secur...\n",
       "2320    jeb bush is suddenly attacking trump here why ...\n",
       "Name: full_text, dtype: object"
      ]
     },
     "execution_count": 22,
     "metadata": {},
     "output_type": "execute_result"
    }
   ],
   "source": [
    "test_news_fixed['full_text'].tail(10)"
   ]
  },
  {
   "cell_type": "markdown",
   "metadata": {
    "colab_type": "text",
    "id": "84qW1pY80jLK"
   },
   "source": [
    "# Train/Validation Split"
   ]
  },
  {
   "cell_type": "markdown",
   "metadata": {
    "colab_type": "text",
    "id": "9G-hubDkMIbo"
   },
   "source": [
    "We split our Train set into **Train** and **Validation** sets using a 90|10 ratio.  "
   ]
  },
  {
   "cell_type": "code",
   "execution_count": 23,
   "metadata": {
    "colab": {},
    "colab_type": "code",
    "id": "T2AXUOF40jTB"
   },
   "outputs": [],
   "source": [
    "# Split the data (90% Train, 10% Validation)\n",
    "train_data, valid_data, train_labels, valid_labels = sklearn.model_selection.train_test_split(train_news_fixed['full_text'], train_news_fixed['label'], test_size=0.10, random_state=42)"
   ]
  },
  {
   "cell_type": "markdown",
   "metadata": {
    "colab_type": "text",
    "id": "9QyHfZBduEDD"
   },
   "source": [
    "# Transform into different formats for Machine Learning"
   ]
  },
  {
   "cell_type": "markdown",
   "metadata": {
    "colab_type": "text",
    "id": "dyzRWiOhGnlW"
   },
   "source": [
    "### Count Vectorizer"
   ]
  },
  {
   "cell_type": "markdown",
   "metadata": {
    "colab_type": "text",
    "id": "KjdICcF8GnlW"
   },
   "source": [
    "A **Count Vector** is a matrix notation of the dataset in which every row represents a document from the corpus, every column represents a term from the corpus, and every cell represents the frequency of appearance of the term in this document.  "
   ]
  },
  {
   "cell_type": "code",
   "execution_count": 24,
   "metadata": {
    "colab": {
     "base_uri": "https://localhost:8080/",
     "height": 71
    },
    "colab_type": "code",
    "executionInfo": {
     "elapsed": 31611,
     "status": "ok",
     "timestamp": 1559373868639,
     "user": {
      "displayName": "Ashley O'Mahony",
      "photoUrl": "https://lh5.googleusercontent.com/-1kukuBnoGG8/AAAAAAAAAAI/AAAAAAAAAEc/SDLV7krtrG8/s64/photo.jpg",
      "userId": "14678637045665485587"
     },
     "user_tz": -120
    },
    "id": "btvbAvXXGnlW",
    "outputId": "31af454a-0ef1-478d-f07f-c8aa763c70f2"
   },
   "outputs": [
    {
     "name": "stdout",
     "output_type": "stream",
     "text": [
      "The shape of Train Text Count Vector is  (3599, 47427)\n",
      "The shape of Valid Text Count Vector is   (400, 47427)\n",
      "The shape of Test Text Count Vector is   (2321, 47427)\n"
     ]
    }
   ],
   "source": [
    "# Create a Count Vectorizer object\n",
    "count_vect = CountVectorizer(analyzer='word', token_pattern=r'\\w{1,}', stop_words='english')\n",
    "count_vect.fit(train_data)\n",
    "\n",
    "# Transform the Train and Test sets using Count Vectorizer object\n",
    "train_text_count =  count_vect.transform(train_data)\n",
    "valid_text_count  =  count_vect.transform(valid_data)\n",
    "test_text_count   =  count_vect.transform(test_news_fixed['full_text'])\n",
    "\n",
    "print('The shape of Train Text Count Vector is ', train_text_count.shape)\n",
    "print('The shape of Valid Text Count Vector is  ', valid_text_count.shape)\n",
    "print('The shape of Test Text Count Vector is  ', test_text_count.shape)"
   ]
  },
  {
   "cell_type": "markdown",
   "metadata": {
    "colab_type": "text",
    "id": "_28Nd1AwGnlY"
   },
   "source": [
    "### TF-IDF (Term Frequency - Inverse Document Frequency)"
   ]
  },
  {
   "cell_type": "markdown",
   "metadata": {
    "colab_type": "text",
    "id": "KTpTDlUcGnlY"
   },
   "source": [
    "The **TF-IDF** score represents the relative importance of a term in the document and in the entire corpus. TF-IDF score consists in two terms:  \n",
    "* the first term computes the normalized **Term Frequency (TF)**,\n",
    "* the second term is the **Inverse Document Frequency (IDF)**, computed as the logarithm of the number of the documents in the corpus divided by the number of documents where the specific term appears.  \n",
    "\n",
    "*TF(t) = (Number of times term t appears in a document) / (Total number of terms in the document)*   \n",
    "\n",
    "*IDF(t) = log(Total number of documents / Number of documents with term t in it)*\n",
    "\n",
    "</br>\n",
    "\n",
    "We performed this transformation at 3 levels:  \n",
    "\n",
    "1. **Word Level TF-IDF**: matrix representing TF-IDF scores of every term in different documents.  \n",
    "2. **N-gram Level TF-IDF**: N-grams are the combination of N terms together. This matrix represents the TF-IDF scores of N-grams.  \n",
    "3. **Character Level TF-IDF**: matrix representing TF-IDF scores of character N-grams in the corpus.  \n",
    "\n",
    "**Normalization : `L1`, `L2` or `None`, optional (default = `L2`)**"
   ]
  },
  {
   "cell_type": "markdown",
   "metadata": {
    "colab_type": "text",
    "id": "chpIvSL0uhbG"
   },
   "source": [
    "#### Word Level\n"
   ]
  },
  {
   "cell_type": "code",
   "execution_count": 25,
   "metadata": {
    "colab": {
     "base_uri": "https://localhost:8080/",
     "height": 71
    },
    "colab_type": "code",
    "executionInfo": {
     "elapsed": 34092,
     "status": "ok",
     "timestamp": 1559373872736,
     "user": {
      "displayName": "Ashley O'Mahony",
      "photoUrl": "https://lh5.googleusercontent.com/-1kukuBnoGG8/AAAAAAAAAAI/AAAAAAAAAEc/SDLV7krtrG8/s64/photo.jpg",
      "userId": "14678637045665485587"
     },
     "user_tz": -120
    },
    "id": "Rsl0ZNGGGnlY",
    "outputId": "32610c9d-3679-47d9-b651-2e8661f9482b"
   },
   "outputs": [
    {
     "name": "stdout",
     "output_type": "stream",
     "text": [
      "The shape of Train Text TF-IDF Word Vector is  (3599, 25000)\n",
      "The shape of Valid Text TF-IDF Word Vector is   (400, 25000)\n",
      "The shape of Test Text TF-IDF Word Vector is   (2321, 25000)\n"
     ]
    }
   ],
   "source": [
    "# Word level TF-IDF\n",
    "tfidf_vect = TfidfVectorizer(analyzer='word', token_pattern=r'\\w{1,}', max_features=25000, stop_words='english')\n",
    "tfidf_vect.fit(train_data)\n",
    "train_tfidf =  tfidf_vect.transform(train_data)\n",
    "valid_tfidf =  tfidf_vect.transform(valid_data)\n",
    "test_tfidf  =  tfidf_vect.transform(test_news_fixed['full_text'])\n",
    "\n",
    "print('The shape of Train Text TF-IDF Word Vector is ', train_tfidf.shape)\n",
    "print('The shape of Valid Text TF-IDF Word Vector is  ', valid_tfidf.shape)\n",
    "print('The shape of Test Text TF-IDF Word Vector is  ', test_tfidf.shape)"
   ]
  },
  {
   "cell_type": "markdown",
   "metadata": {
    "colab_type": "text",
    "id": "I6wZ_Xs7ums8"
   },
   "source": [
    "#### N-gram Level"
   ]
  },
  {
   "cell_type": "code",
   "execution_count": 26,
   "metadata": {
    "colab": {
     "base_uri": "https://localhost:8080/",
     "height": 71
    },
    "colab_type": "code",
    "executionInfo": {
     "elapsed": 51554,
     "status": "ok",
     "timestamp": 1559373891563,
     "user": {
      "displayName": "Ashley O'Mahony",
      "photoUrl": "https://lh5.googleusercontent.com/-1kukuBnoGG8/AAAAAAAAAAI/AAAAAAAAAEc/SDLV7krtrG8/s64/photo.jpg",
      "userId": "14678637045665485587"
     },
     "user_tz": -120
    },
    "id": "7KbuPVi9Gnla",
    "outputId": "dd749e2f-01a0-4130-88b1-09c25915fdd4"
   },
   "outputs": [
    {
     "name": "stdout",
     "output_type": "stream",
     "text": [
      "The shape of Train Text TF-IDF N-gram Vector is  (3599, 42000)\n",
      "The shape of Valid Text TF-IDF N-gram Vector is  (400, 42000)\n",
      "The shape of Test Text TF-IDF N-gram Vector is  (2321, 42000)\n"
     ]
    }
   ],
   "source": [
    "# N-gram level TF-IDF \n",
    "tfidf_vect_ngram = TfidfVectorizer(analyzer='word', token_pattern=r'\\w{1,}', ngram_range=(2,3), max_features=42000, stop_words='english')\n",
    "tfidf_vect_ngram.fit(train_data)\n",
    "train_tfidf_ngram =  tfidf_vect_ngram.transform(train_data)\n",
    "valid_tfidf_ngram =  tfidf_vect_ngram.transform(valid_data)\n",
    "test_tfidf_ngram =  tfidf_vect_ngram.transform(test_news_fixed['full_text'])\n",
    "\n",
    "print('The shape of Train Text TF-IDF N-gram Vector is ', train_tfidf_ngram.shape)\n",
    "print('The shape of Valid Text TF-IDF N-gram Vector is ', valid_tfidf_ngram.shape)\n",
    "print('The shape of Test Text TF-IDF N-gram Vector is ', test_tfidf_ngram.shape)"
   ]
  },
  {
   "cell_type": "markdown",
   "metadata": {
    "colab_type": "text",
    "id": "ZgaEQmv3uuDD"
   },
   "source": [
    "#### Character Level"
   ]
  },
  {
   "cell_type": "code",
   "execution_count": 27,
   "metadata": {
    "colab": {
     "base_uri": "https://localhost:8080/",
     "height": 71
    },
    "colab_type": "code",
    "executionInfo": {
     "elapsed": 143496,
     "status": "ok",
     "timestamp": 1559373984732,
     "user": {
      "displayName": "Ashley O'Mahony",
      "photoUrl": "https://lh5.googleusercontent.com/-1kukuBnoGG8/AAAAAAAAAAI/AAAAAAAAAEc/SDLV7krtrG8/s64/photo.jpg",
      "userId": "14678637045665485587"
     },
     "user_tz": -120
    },
    "id": "fHemPOvOGnlc",
    "outputId": "9b1f6a57-a6a9-47a7-eb51-61443377d821"
   },
   "outputs": [
    {
     "name": "stdout",
     "output_type": "stream",
     "text": [
      "The shape of Train Text TF-IDF N-gram Character Vector is  (3599, 6600)\n",
      "The shape of Valid Text TF-IDF N-gram Character Vector is   (400, 6600)\n",
      "The shape of Test Text TF-IDF N-gram Character Vector is   (2321, 6600)\n"
     ]
    }
   ],
   "source": [
    "# Character level TF-IDF\n",
    "tfidf_vect_ngram_chars = TfidfVectorizer(analyzer='char', token_pattern=r'\\w{1,}', ngram_range=(2,5), max_features=6600)\n",
    "tfidf_vect_ngram_chars.fit(train_data)\n",
    "train_tfidf_ngram_chars =  tfidf_vect_ngram_chars.transform(train_data) \n",
    "valid_tfidf_ngram_chars =  tfidf_vect_ngram_chars.transform(valid_data) \n",
    "test_tfidf_ngram_chars  =  tfidf_vect_ngram_chars.transform(test_news_fixed['full_text'])\n",
    "\n",
    "print('The shape of Train Text TF-IDF N-gram Character Vector is ', train_tfidf_ngram_chars.shape)\n",
    "print('The shape of Valid Text TF-IDF N-gram Character Vector is  ', valid_tfidf_ngram_chars.shape)\n",
    "print('The shape of Test Text TF-IDF N-gram Character Vector is  ', test_tfidf_ngram_chars.shape)"
   ]
  },
  {
   "cell_type": "markdown",
   "metadata": {
    "colab_type": "text",
    "id": "6ZD91h8hxcbW"
   },
   "source": [
    "## Feature Engineering"
   ]
  },
  {
   "cell_type": "markdown",
   "metadata": {
    "colab_type": "text",
    "id": "pz0StmN0vM-f"
   },
   "source": [
    "Throughout our pre-processing steps, we decided the create new variables out of the text to incorporate them in our models, in order to improve our prediction performance. The new variables can be grouped in two types:  \n",
    "\n",
    "</br>\n",
    "\n",
    "Features related to the **Text Structure**  \n",
    "* **Characters** count\n",
    "* **Word** count\n",
    "* **Word density** = characters count / (word count + 1)\n",
    "* **Punctuation** count\n",
    "* **Title word** count\n",
    "* **Upper case** word count\n",
    "\n",
    "---\n",
    "\n",
    "Features related to **Meaning and Intention**  \n",
    "*   **Noun** count  \n",
    "*   **Verb** count  \n",
    "*   **Adjective** count  \n",
    "*   **Adverb** count  \n",
    "*   **Pronoun** count  "
   ]
  },
  {
   "cell_type": "markdown",
   "metadata": {
    "colab_type": "text",
    "id": "JdglgGvIzD2X"
   },
   "source": [
    "### Creating Text Structure Variables"
   ]
  },
  {
   "cell_type": "code",
   "execution_count": 28,
   "metadata": {
    "colab": {},
    "colab_type": "code",
    "id": "eCLLBPvNxfdd"
   },
   "outputs": [],
   "source": [
    "train_news_fixed['char_count']            = train_news_fixed['full_text'].apply(len)\n",
    "train_news_fixed['word_count']            = train_news_fixed['full_text'].apply(lambda x: len(x.split()))\n",
    "train_news_fixed['word_density']          = train_news_fixed['char_count'] / (train_news_fixed['word_count']+1)\n",
    "train_news_fixed['punctuation_count']     = train_news_fixed['full_text'].apply(lambda x: len(\"\".join(_ for _ in x if _ in string.punctuation))) \n",
    "train_news_fixed['title_word_count']      = train_news_fixed['title'].apply(lambda x: len([wrd for wrd in x.split() if wrd.istitle()]))\n",
    "train_news_fixed['upper_case_word_count'] = train_news_fixed['full_text'].apply(lambda x: len([wrd for wrd in x.split() if wrd.isupper()]))\n",
    "\n",
    "\n",
    "test_news_fixed['char_count']            = test_news_fixed['full_text'].apply(len)\n",
    "test_news_fixed['word_count']            = test_news_fixed['full_text'].apply(lambda x: len(x.split()))\n",
    "test_news_fixed['word_density']          = test_news_fixed['char_count'] / (test_news_fixed['word_count']+1)\n",
    "test_news_fixed['punctuation_count']     = test_news_fixed['full_text'].apply(lambda x: len(\"\".join(_ for _ in x if _ in string.punctuation))) \n",
    "test_news_fixed['title_word_count']      = test_news_fixed['title'].apply(lambda x: len([wrd for wrd in x.split() if wrd.istitle()]))\n",
    "test_news_fixed['upper_case_word_count'] = test_news_fixed['full_text'].apply(lambda x: len([wrd for wrd in x.split() if wrd.isupper()]))"
   ]
  },
  {
   "cell_type": "code",
   "execution_count": 29,
   "metadata": {
    "colab": {
     "base_uri": "https://localhost:8080/",
     "height": 452
    },
    "colab_type": "code",
    "executionInfo": {
     "elapsed": 143154,
     "status": "ok",
     "timestamp": 1559373988038,
     "user": {
      "displayName": "Ashley O'Mahony",
      "photoUrl": "https://lh5.googleusercontent.com/-1kukuBnoGG8/AAAAAAAAAAI/AAAAAAAAAEc/SDLV7krtrG8/s64/photo.jpg",
      "userId": "14678637045665485587"
     },
     "user_tz": -120
    },
    "id": "O8C8r_nbmU1J",
    "outputId": "cfd3532f-1159-443b-f54b-c9fa550d4844"
   },
   "outputs": [
    {
     "data": {
      "text/html": [
       "<div>\n",
       "<style scoped>\n",
       "    .dataframe tbody tr th:only-of-type {\n",
       "        vertical-align: middle;\n",
       "    }\n",
       "\n",
       "    .dataframe tbody tr th {\n",
       "        vertical-align: top;\n",
       "    }\n",
       "\n",
       "    .dataframe thead th {\n",
       "        text-align: right;\n",
       "    }\n",
       "</style>\n",
       "<table border=\"1\" class=\"dataframe\">\n",
       "  <thead>\n",
       "    <tr style=\"text-align: right;\">\n",
       "      <th></th>\n",
       "      <th>Boolean</th>\n",
       "      <th>Categorical</th>\n",
       "      <th>Date</th>\n",
       "      <th>NAs</th>\n",
       "      <th>Numerical</th>\n",
       "      <th>dtype</th>\n",
       "    </tr>\n",
       "  </thead>\n",
       "  <tbody>\n",
       "    <tr>\n",
       "      <th>ID</th>\n",
       "      <td>False</td>\n",
       "      <td>False</td>\n",
       "      <td>False</td>\n",
       "      <td>0</td>\n",
       "      <td>True</td>\n",
       "      <td>int64</td>\n",
       "    </tr>\n",
       "    <tr>\n",
       "      <th>title</th>\n",
       "      <td>False</td>\n",
       "      <td>True</td>\n",
       "      <td>False</td>\n",
       "      <td>0</td>\n",
       "      <td>False</td>\n",
       "      <td>object</td>\n",
       "    </tr>\n",
       "    <tr>\n",
       "      <th>text</th>\n",
       "      <td>False</td>\n",
       "      <td>True</td>\n",
       "      <td>False</td>\n",
       "      <td>0</td>\n",
       "      <td>False</td>\n",
       "      <td>object</td>\n",
       "    </tr>\n",
       "    <tr>\n",
       "      <th>label</th>\n",
       "      <td>True</td>\n",
       "      <td>False</td>\n",
       "      <td>False</td>\n",
       "      <td>0</td>\n",
       "      <td>False</td>\n",
       "      <td>int64</td>\n",
       "    </tr>\n",
       "    <tr>\n",
       "      <th>X1</th>\n",
       "      <td>False</td>\n",
       "      <td>True</td>\n",
       "      <td>False</td>\n",
       "      <td>3999</td>\n",
       "      <td>False</td>\n",
       "      <td>object</td>\n",
       "    </tr>\n",
       "    <tr>\n",
       "      <th>X2</th>\n",
       "      <td>False</td>\n",
       "      <td>True</td>\n",
       "      <td>False</td>\n",
       "      <td>3999</td>\n",
       "      <td>False</td>\n",
       "      <td>object</td>\n",
       "    </tr>\n",
       "    <tr>\n",
       "      <th>full_text</th>\n",
       "      <td>False</td>\n",
       "      <td>True</td>\n",
       "      <td>False</td>\n",
       "      <td>0</td>\n",
       "      <td>False</td>\n",
       "      <td>object</td>\n",
       "    </tr>\n",
       "    <tr>\n",
       "      <th>char_count</th>\n",
       "      <td>False</td>\n",
       "      <td>False</td>\n",
       "      <td>False</td>\n",
       "      <td>0</td>\n",
       "      <td>True</td>\n",
       "      <td>int64</td>\n",
       "    </tr>\n",
       "    <tr>\n",
       "      <th>word_count</th>\n",
       "      <td>False</td>\n",
       "      <td>False</td>\n",
       "      <td>False</td>\n",
       "      <td>0</td>\n",
       "      <td>True</td>\n",
       "      <td>int64</td>\n",
       "    </tr>\n",
       "    <tr>\n",
       "      <th>word_density</th>\n",
       "      <td>False</td>\n",
       "      <td>False</td>\n",
       "      <td>False</td>\n",
       "      <td>0</td>\n",
       "      <td>True</td>\n",
       "      <td>float64</td>\n",
       "    </tr>\n",
       "    <tr>\n",
       "      <th>punctuation_count</th>\n",
       "      <td>False</td>\n",
       "      <td>False</td>\n",
       "      <td>False</td>\n",
       "      <td>0</td>\n",
       "      <td>True</td>\n",
       "      <td>int64</td>\n",
       "    </tr>\n",
       "    <tr>\n",
       "      <th>title_word_count</th>\n",
       "      <td>False</td>\n",
       "      <td>False</td>\n",
       "      <td>False</td>\n",
       "      <td>0</td>\n",
       "      <td>True</td>\n",
       "      <td>int64</td>\n",
       "    </tr>\n",
       "    <tr>\n",
       "      <th>upper_case_word_count</th>\n",
       "      <td>True</td>\n",
       "      <td>False</td>\n",
       "      <td>False</td>\n",
       "      <td>0</td>\n",
       "      <td>False</td>\n",
       "      <td>int64</td>\n",
       "    </tr>\n",
       "  </tbody>\n",
       "</table>\n",
       "</div>"
      ],
      "text/plain": [
       "                       Boolean  Categorical   Date   NAs  Numerical    dtype\n",
       "ID                       False        False  False     0       True    int64\n",
       "title                    False         True  False     0      False   object\n",
       "text                     False         True  False     0      False   object\n",
       "label                     True        False  False     0      False    int64\n",
       "X1                       False         True  False  3999      False   object\n",
       "X2                       False         True  False  3999      False   object\n",
       "full_text                False         True  False     0      False   object\n",
       "char_count               False        False  False     0       True    int64\n",
       "word_count               False        False  False     0       True    int64\n",
       "word_density             False        False  False     0       True  float64\n",
       "punctuation_count        False        False  False     0       True    int64\n",
       "title_word_count         False        False  False     0       True    int64\n",
       "upper_case_word_count     True        False  False     0      False    int64"
      ]
     },
     "execution_count": 29,
     "metadata": {},
     "output_type": "execute_result"
    }
   ],
   "source": [
    "df_desc(train_news_fixed)"
   ]
  },
  {
   "cell_type": "code",
   "execution_count": 30,
   "metadata": {
    "colab": {
     "base_uri": "https://localhost:8080/",
     "height": 359
    },
    "colab_type": "code",
    "executionInfo": {
     "elapsed": 141661,
     "status": "ok",
     "timestamp": 1559373988039,
     "user": {
      "displayName": "Ashley O'Mahony",
      "photoUrl": "https://lh5.googleusercontent.com/-1kukuBnoGG8/AAAAAAAAAAI/AAAAAAAAAEc/SDLV7krtrG8/s64/photo.jpg",
      "userId": "14678637045665485587"
     },
     "user_tz": -120
    },
    "id": "EG-0FSwrnWUX",
    "outputId": "f93572dc-50ff-42c4-aa20-b3c7b645c4b0"
   },
   "outputs": [
    {
     "data": {
      "text/html": [
       "<div>\n",
       "<style scoped>\n",
       "    .dataframe tbody tr th:only-of-type {\n",
       "        vertical-align: middle;\n",
       "    }\n",
       "\n",
       "    .dataframe tbody tr th {\n",
       "        vertical-align: top;\n",
       "    }\n",
       "\n",
       "    .dataframe thead th {\n",
       "        text-align: right;\n",
       "    }\n",
       "</style>\n",
       "<table border=\"1\" class=\"dataframe\">\n",
       "  <thead>\n",
       "    <tr style=\"text-align: right;\">\n",
       "      <th></th>\n",
       "      <th>Boolean</th>\n",
       "      <th>Categorical</th>\n",
       "      <th>Date</th>\n",
       "      <th>NAs</th>\n",
       "      <th>Numerical</th>\n",
       "      <th>dtype</th>\n",
       "    </tr>\n",
       "  </thead>\n",
       "  <tbody>\n",
       "    <tr>\n",
       "      <th>ID</th>\n",
       "      <td>False</td>\n",
       "      <td>False</td>\n",
       "      <td>False</td>\n",
       "      <td>0</td>\n",
       "      <td>True</td>\n",
       "      <td>int64</td>\n",
       "    </tr>\n",
       "    <tr>\n",
       "      <th>title</th>\n",
       "      <td>False</td>\n",
       "      <td>True</td>\n",
       "      <td>False</td>\n",
       "      <td>0</td>\n",
       "      <td>False</td>\n",
       "      <td>object</td>\n",
       "    </tr>\n",
       "    <tr>\n",
       "      <th>text</th>\n",
       "      <td>False</td>\n",
       "      <td>True</td>\n",
       "      <td>False</td>\n",
       "      <td>0</td>\n",
       "      <td>False</td>\n",
       "      <td>object</td>\n",
       "    </tr>\n",
       "    <tr>\n",
       "      <th>full_text</th>\n",
       "      <td>False</td>\n",
       "      <td>True</td>\n",
       "      <td>False</td>\n",
       "      <td>0</td>\n",
       "      <td>False</td>\n",
       "      <td>object</td>\n",
       "    </tr>\n",
       "    <tr>\n",
       "      <th>char_count</th>\n",
       "      <td>False</td>\n",
       "      <td>False</td>\n",
       "      <td>False</td>\n",
       "      <td>0</td>\n",
       "      <td>True</td>\n",
       "      <td>int64</td>\n",
       "    </tr>\n",
       "    <tr>\n",
       "      <th>word_count</th>\n",
       "      <td>False</td>\n",
       "      <td>False</td>\n",
       "      <td>False</td>\n",
       "      <td>0</td>\n",
       "      <td>True</td>\n",
       "      <td>int64</td>\n",
       "    </tr>\n",
       "    <tr>\n",
       "      <th>word_density</th>\n",
       "      <td>False</td>\n",
       "      <td>False</td>\n",
       "      <td>False</td>\n",
       "      <td>0</td>\n",
       "      <td>True</td>\n",
       "      <td>float64</td>\n",
       "    </tr>\n",
       "    <tr>\n",
       "      <th>punctuation_count</th>\n",
       "      <td>False</td>\n",
       "      <td>False</td>\n",
       "      <td>False</td>\n",
       "      <td>0</td>\n",
       "      <td>True</td>\n",
       "      <td>int64</td>\n",
       "    </tr>\n",
       "    <tr>\n",
       "      <th>title_word_count</th>\n",
       "      <td>False</td>\n",
       "      <td>False</td>\n",
       "      <td>False</td>\n",
       "      <td>0</td>\n",
       "      <td>True</td>\n",
       "      <td>int64</td>\n",
       "    </tr>\n",
       "    <tr>\n",
       "      <th>upper_case_word_count</th>\n",
       "      <td>True</td>\n",
       "      <td>False</td>\n",
       "      <td>False</td>\n",
       "      <td>0</td>\n",
       "      <td>False</td>\n",
       "      <td>int64</td>\n",
       "    </tr>\n",
       "  </tbody>\n",
       "</table>\n",
       "</div>"
      ],
      "text/plain": [
       "                       Boolean  Categorical   Date  NAs  Numerical    dtype\n",
       "ID                       False        False  False    0       True    int64\n",
       "title                    False         True  False    0      False   object\n",
       "text                     False         True  False    0      False   object\n",
       "full_text                False         True  False    0      False   object\n",
       "char_count               False        False  False    0       True    int64\n",
       "word_count               False        False  False    0       True    int64\n",
       "word_density             False        False  False    0       True  float64\n",
       "punctuation_count        False        False  False    0       True    int64\n",
       "title_word_count         False        False  False    0       True    int64\n",
       "upper_case_word_count     True        False  False    0      False    int64"
      ]
     },
     "execution_count": 30,
     "metadata": {},
     "output_type": "execute_result"
    }
   ],
   "source": [
    "df_desc(test_news_fixed)"
   ]
  },
  {
   "cell_type": "markdown",
   "metadata": {
    "colab_type": "text",
    "id": "Inpzj2gpzJCg"
   },
   "source": [
    "### Creating Meaning and Intention Variables"
   ]
  },
  {
   "cell_type": "code",
   "execution_count": 31,
   "metadata": {
    "colab": {},
    "colab_type": "code",
    "id": "O-An_48myzmk"
   },
   "outputs": [],
   "source": [
    "pos_family = {\n",
    "    'noun' : ['NN','NNS','NNP','NNPS'],\n",
    "    'pron' : ['PRP','PRP$','WP','WP$'],\n",
    "    'verb' : ['VB','VBD','VBG','VBN','VBP','VBZ'],\n",
    "    'adj' :  ['JJ','JJR','JJS'],\n",
    "    'adv' : ['RB','RBR','RBS','WRB']\n",
    "}\n",
    "\n",
    "# function to check and get the part of speech tag count of a words in a given sentence\n",
    "def check_pos_tag(x, flag):\n",
    "    cnt = 0\n",
    "    try:\n",
    "        wiki = textblob.TextBlob(x)\n",
    "        for tup in wiki.tags:\n",
    "            ppo = list(tup)[1]\n",
    "            if ppo in pos_family[flag]:\n",
    "                cnt += 1\n",
    "    except:\n",
    "        pass\n",
    "    return cnt\n",
    "\n",
    "train_news_fixed['noun_count'] = train_news_fixed['full_text'].apply(lambda x: check_pos_tag(x, 'noun'))\n",
    "train_news_fixed['verb_count'] = train_news_fixed['full_text'].apply(lambda x: check_pos_tag(x, 'verb'))\n",
    "train_news_fixed['adj_count']  = train_news_fixed['full_text'].apply(lambda x: check_pos_tag(x, 'adj'))\n",
    "train_news_fixed['adv_count']  = train_news_fixed['full_text'].apply(lambda x: check_pos_tag(x, 'adv'))\n",
    "train_news_fixed['pron_count'] = train_news_fixed['full_text'].apply(lambda x: check_pos_tag(x, 'pron'))\n",
    "\n",
    "test_news_fixed['noun_count'] = test_news_fixed['full_text'].apply(lambda x: check_pos_tag(x, 'noun'))\n",
    "test_news_fixed['verb_count'] = test_news_fixed['full_text'].apply(lambda x: check_pos_tag(x, 'verb'))\n",
    "test_news_fixed['adj_count']  = test_news_fixed['full_text'].apply(lambda x: check_pos_tag(x, 'adj'))\n",
    "test_news_fixed['adv_count']  = test_news_fixed['full_text'].apply(lambda x: check_pos_tag(x, 'adv'))\n",
    "test_news_fixed['pron_count'] = test_news_fixed['full_text'].apply(lambda x: check_pos_tag(x, 'pron'))"
   ]
  },
  {
   "cell_type": "code",
   "execution_count": 32,
   "metadata": {
    "colab": {
     "base_uri": "https://localhost:8080/",
     "height": 607
    },
    "colab_type": "code",
    "executionInfo": {
     "elapsed": 139019,
     "status": "ok",
     "timestamp": 1559373988041,
     "user": {
      "displayName": "Ashley O'Mahony",
      "photoUrl": "https://lh5.googleusercontent.com/-1kukuBnoGG8/AAAAAAAAAAI/AAAAAAAAAEc/SDLV7krtrG8/s64/photo.jpg",
      "userId": "14678637045665485587"
     },
     "user_tz": -120
    },
    "id": "XrwnlAw2nb0B",
    "outputId": "5a2b3cb2-9c62-41fc-ea6a-3572e10899be"
   },
   "outputs": [
    {
     "data": {
      "text/html": [
       "<div>\n",
       "<style scoped>\n",
       "    .dataframe tbody tr th:only-of-type {\n",
       "        vertical-align: middle;\n",
       "    }\n",
       "\n",
       "    .dataframe tbody tr th {\n",
       "        vertical-align: top;\n",
       "    }\n",
       "\n",
       "    .dataframe thead th {\n",
       "        text-align: right;\n",
       "    }\n",
       "</style>\n",
       "<table border=\"1\" class=\"dataframe\">\n",
       "  <thead>\n",
       "    <tr style=\"text-align: right;\">\n",
       "      <th></th>\n",
       "      <th>Boolean</th>\n",
       "      <th>Categorical</th>\n",
       "      <th>Date</th>\n",
       "      <th>NAs</th>\n",
       "      <th>Numerical</th>\n",
       "      <th>dtype</th>\n",
       "    </tr>\n",
       "  </thead>\n",
       "  <tbody>\n",
       "    <tr>\n",
       "      <th>ID</th>\n",
       "      <td>False</td>\n",
       "      <td>False</td>\n",
       "      <td>False</td>\n",
       "      <td>0</td>\n",
       "      <td>True</td>\n",
       "      <td>int64</td>\n",
       "    </tr>\n",
       "    <tr>\n",
       "      <th>title</th>\n",
       "      <td>False</td>\n",
       "      <td>True</td>\n",
       "      <td>False</td>\n",
       "      <td>0</td>\n",
       "      <td>False</td>\n",
       "      <td>object</td>\n",
       "    </tr>\n",
       "    <tr>\n",
       "      <th>text</th>\n",
       "      <td>False</td>\n",
       "      <td>True</td>\n",
       "      <td>False</td>\n",
       "      <td>0</td>\n",
       "      <td>False</td>\n",
       "      <td>object</td>\n",
       "    </tr>\n",
       "    <tr>\n",
       "      <th>label</th>\n",
       "      <td>True</td>\n",
       "      <td>False</td>\n",
       "      <td>False</td>\n",
       "      <td>0</td>\n",
       "      <td>False</td>\n",
       "      <td>int64</td>\n",
       "    </tr>\n",
       "    <tr>\n",
       "      <th>X1</th>\n",
       "      <td>False</td>\n",
       "      <td>True</td>\n",
       "      <td>False</td>\n",
       "      <td>3999</td>\n",
       "      <td>False</td>\n",
       "      <td>object</td>\n",
       "    </tr>\n",
       "    <tr>\n",
       "      <th>X2</th>\n",
       "      <td>False</td>\n",
       "      <td>True</td>\n",
       "      <td>False</td>\n",
       "      <td>3999</td>\n",
       "      <td>False</td>\n",
       "      <td>object</td>\n",
       "    </tr>\n",
       "    <tr>\n",
       "      <th>full_text</th>\n",
       "      <td>False</td>\n",
       "      <td>True</td>\n",
       "      <td>False</td>\n",
       "      <td>0</td>\n",
       "      <td>False</td>\n",
       "      <td>object</td>\n",
       "    </tr>\n",
       "    <tr>\n",
       "      <th>char_count</th>\n",
       "      <td>False</td>\n",
       "      <td>False</td>\n",
       "      <td>False</td>\n",
       "      <td>0</td>\n",
       "      <td>True</td>\n",
       "      <td>int64</td>\n",
       "    </tr>\n",
       "    <tr>\n",
       "      <th>word_count</th>\n",
       "      <td>False</td>\n",
       "      <td>False</td>\n",
       "      <td>False</td>\n",
       "      <td>0</td>\n",
       "      <td>True</td>\n",
       "      <td>int64</td>\n",
       "    </tr>\n",
       "    <tr>\n",
       "      <th>word_density</th>\n",
       "      <td>False</td>\n",
       "      <td>False</td>\n",
       "      <td>False</td>\n",
       "      <td>0</td>\n",
       "      <td>True</td>\n",
       "      <td>float64</td>\n",
       "    </tr>\n",
       "    <tr>\n",
       "      <th>punctuation_count</th>\n",
       "      <td>False</td>\n",
       "      <td>False</td>\n",
       "      <td>False</td>\n",
       "      <td>0</td>\n",
       "      <td>True</td>\n",
       "      <td>int64</td>\n",
       "    </tr>\n",
       "    <tr>\n",
       "      <th>title_word_count</th>\n",
       "      <td>False</td>\n",
       "      <td>False</td>\n",
       "      <td>False</td>\n",
       "      <td>0</td>\n",
       "      <td>True</td>\n",
       "      <td>int64</td>\n",
       "    </tr>\n",
       "    <tr>\n",
       "      <th>upper_case_word_count</th>\n",
       "      <td>True</td>\n",
       "      <td>False</td>\n",
       "      <td>False</td>\n",
       "      <td>0</td>\n",
       "      <td>False</td>\n",
       "      <td>int64</td>\n",
       "    </tr>\n",
       "    <tr>\n",
       "      <th>noun_count</th>\n",
       "      <td>True</td>\n",
       "      <td>False</td>\n",
       "      <td>False</td>\n",
       "      <td>0</td>\n",
       "      <td>False</td>\n",
       "      <td>int64</td>\n",
       "    </tr>\n",
       "    <tr>\n",
       "      <th>verb_count</th>\n",
       "      <td>True</td>\n",
       "      <td>False</td>\n",
       "      <td>False</td>\n",
       "      <td>0</td>\n",
       "      <td>False</td>\n",
       "      <td>int64</td>\n",
       "    </tr>\n",
       "    <tr>\n",
       "      <th>adj_count</th>\n",
       "      <td>True</td>\n",
       "      <td>False</td>\n",
       "      <td>False</td>\n",
       "      <td>0</td>\n",
       "      <td>False</td>\n",
       "      <td>int64</td>\n",
       "    </tr>\n",
       "    <tr>\n",
       "      <th>adv_count</th>\n",
       "      <td>True</td>\n",
       "      <td>False</td>\n",
       "      <td>False</td>\n",
       "      <td>0</td>\n",
       "      <td>False</td>\n",
       "      <td>int64</td>\n",
       "    </tr>\n",
       "    <tr>\n",
       "      <th>pron_count</th>\n",
       "      <td>True</td>\n",
       "      <td>False</td>\n",
       "      <td>False</td>\n",
       "      <td>0</td>\n",
       "      <td>False</td>\n",
       "      <td>int64</td>\n",
       "    </tr>\n",
       "  </tbody>\n",
       "</table>\n",
       "</div>"
      ],
      "text/plain": [
       "                       Boolean  Categorical   Date   NAs  Numerical    dtype\n",
       "ID                       False        False  False     0       True    int64\n",
       "title                    False         True  False     0      False   object\n",
       "text                     False         True  False     0      False   object\n",
       "label                     True        False  False     0      False    int64\n",
       "X1                       False         True  False  3999      False   object\n",
       "X2                       False         True  False  3999      False   object\n",
       "full_text                False         True  False     0      False   object\n",
       "char_count               False        False  False     0       True    int64\n",
       "word_count               False        False  False     0       True    int64\n",
       "word_density             False        False  False     0       True  float64\n",
       "punctuation_count        False        False  False     0       True    int64\n",
       "title_word_count         False        False  False     0       True    int64\n",
       "upper_case_word_count     True        False  False     0      False    int64\n",
       "noun_count                True        False  False     0      False    int64\n",
       "verb_count                True        False  False     0      False    int64\n",
       "adj_count                 True        False  False     0      False    int64\n",
       "adv_count                 True        False  False     0      False    int64\n",
       "pron_count                True        False  False     0      False    int64"
      ]
     },
     "execution_count": 32,
     "metadata": {},
     "output_type": "execute_result"
    }
   ],
   "source": [
    "df_desc(train_news_fixed)\n",
    "#train_news_fixed.head(10)"
   ]
  },
  {
   "cell_type": "code",
   "execution_count": 33,
   "metadata": {
    "colab": {
     "base_uri": "https://localhost:8080/",
     "height": 514
    },
    "colab_type": "code",
    "executionInfo": {
     "elapsed": 138451,
     "status": "ok",
     "timestamp": 1559373988500,
     "user": {
      "displayName": "Ashley O'Mahony",
      "photoUrl": "https://lh5.googleusercontent.com/-1kukuBnoGG8/AAAAAAAAAAI/AAAAAAAAAEc/SDLV7krtrG8/s64/photo.jpg",
      "userId": "14678637045665485587"
     },
     "user_tz": -120
    },
    "id": "PhC3ffiwnb26",
    "outputId": "f94d989b-916b-4c79-9144-f2ebc5ee8d7e"
   },
   "outputs": [
    {
     "data": {
      "text/html": [
       "<div>\n",
       "<style scoped>\n",
       "    .dataframe tbody tr th:only-of-type {\n",
       "        vertical-align: middle;\n",
       "    }\n",
       "\n",
       "    .dataframe tbody tr th {\n",
       "        vertical-align: top;\n",
       "    }\n",
       "\n",
       "    .dataframe thead th {\n",
       "        text-align: right;\n",
       "    }\n",
       "</style>\n",
       "<table border=\"1\" class=\"dataframe\">\n",
       "  <thead>\n",
       "    <tr style=\"text-align: right;\">\n",
       "      <th></th>\n",
       "      <th>Boolean</th>\n",
       "      <th>Categorical</th>\n",
       "      <th>Date</th>\n",
       "      <th>NAs</th>\n",
       "      <th>Numerical</th>\n",
       "      <th>dtype</th>\n",
       "    </tr>\n",
       "  </thead>\n",
       "  <tbody>\n",
       "    <tr>\n",
       "      <th>ID</th>\n",
       "      <td>False</td>\n",
       "      <td>False</td>\n",
       "      <td>False</td>\n",
       "      <td>0</td>\n",
       "      <td>True</td>\n",
       "      <td>int64</td>\n",
       "    </tr>\n",
       "    <tr>\n",
       "      <th>title</th>\n",
       "      <td>False</td>\n",
       "      <td>True</td>\n",
       "      <td>False</td>\n",
       "      <td>0</td>\n",
       "      <td>False</td>\n",
       "      <td>object</td>\n",
       "    </tr>\n",
       "    <tr>\n",
       "      <th>text</th>\n",
       "      <td>False</td>\n",
       "      <td>True</td>\n",
       "      <td>False</td>\n",
       "      <td>0</td>\n",
       "      <td>False</td>\n",
       "      <td>object</td>\n",
       "    </tr>\n",
       "    <tr>\n",
       "      <th>full_text</th>\n",
       "      <td>False</td>\n",
       "      <td>True</td>\n",
       "      <td>False</td>\n",
       "      <td>0</td>\n",
       "      <td>False</td>\n",
       "      <td>object</td>\n",
       "    </tr>\n",
       "    <tr>\n",
       "      <th>char_count</th>\n",
       "      <td>False</td>\n",
       "      <td>False</td>\n",
       "      <td>False</td>\n",
       "      <td>0</td>\n",
       "      <td>True</td>\n",
       "      <td>int64</td>\n",
       "    </tr>\n",
       "    <tr>\n",
       "      <th>word_count</th>\n",
       "      <td>False</td>\n",
       "      <td>False</td>\n",
       "      <td>False</td>\n",
       "      <td>0</td>\n",
       "      <td>True</td>\n",
       "      <td>int64</td>\n",
       "    </tr>\n",
       "    <tr>\n",
       "      <th>word_density</th>\n",
       "      <td>False</td>\n",
       "      <td>False</td>\n",
       "      <td>False</td>\n",
       "      <td>0</td>\n",
       "      <td>True</td>\n",
       "      <td>float64</td>\n",
       "    </tr>\n",
       "    <tr>\n",
       "      <th>punctuation_count</th>\n",
       "      <td>False</td>\n",
       "      <td>False</td>\n",
       "      <td>False</td>\n",
       "      <td>0</td>\n",
       "      <td>True</td>\n",
       "      <td>int64</td>\n",
       "    </tr>\n",
       "    <tr>\n",
       "      <th>title_word_count</th>\n",
       "      <td>False</td>\n",
       "      <td>False</td>\n",
       "      <td>False</td>\n",
       "      <td>0</td>\n",
       "      <td>True</td>\n",
       "      <td>int64</td>\n",
       "    </tr>\n",
       "    <tr>\n",
       "      <th>upper_case_word_count</th>\n",
       "      <td>True</td>\n",
       "      <td>False</td>\n",
       "      <td>False</td>\n",
       "      <td>0</td>\n",
       "      <td>False</td>\n",
       "      <td>int64</td>\n",
       "    </tr>\n",
       "    <tr>\n",
       "      <th>noun_count</th>\n",
       "      <td>True</td>\n",
       "      <td>False</td>\n",
       "      <td>False</td>\n",
       "      <td>0</td>\n",
       "      <td>False</td>\n",
       "      <td>int64</td>\n",
       "    </tr>\n",
       "    <tr>\n",
       "      <th>verb_count</th>\n",
       "      <td>True</td>\n",
       "      <td>False</td>\n",
       "      <td>False</td>\n",
       "      <td>0</td>\n",
       "      <td>False</td>\n",
       "      <td>int64</td>\n",
       "    </tr>\n",
       "    <tr>\n",
       "      <th>adj_count</th>\n",
       "      <td>True</td>\n",
       "      <td>False</td>\n",
       "      <td>False</td>\n",
       "      <td>0</td>\n",
       "      <td>False</td>\n",
       "      <td>int64</td>\n",
       "    </tr>\n",
       "    <tr>\n",
       "      <th>adv_count</th>\n",
       "      <td>True</td>\n",
       "      <td>False</td>\n",
       "      <td>False</td>\n",
       "      <td>0</td>\n",
       "      <td>False</td>\n",
       "      <td>int64</td>\n",
       "    </tr>\n",
       "    <tr>\n",
       "      <th>pron_count</th>\n",
       "      <td>True</td>\n",
       "      <td>False</td>\n",
       "      <td>False</td>\n",
       "      <td>0</td>\n",
       "      <td>False</td>\n",
       "      <td>int64</td>\n",
       "    </tr>\n",
       "  </tbody>\n",
       "</table>\n",
       "</div>"
      ],
      "text/plain": [
       "                       Boolean  Categorical   Date  NAs  Numerical    dtype\n",
       "ID                       False        False  False    0       True    int64\n",
       "title                    False         True  False    0      False   object\n",
       "text                     False         True  False    0      False   object\n",
       "full_text                False         True  False    0      False   object\n",
       "char_count               False        False  False    0       True    int64\n",
       "word_count               False        False  False    0       True    int64\n",
       "word_density             False        False  False    0       True  float64\n",
       "punctuation_count        False        False  False    0       True    int64\n",
       "title_word_count         False        False  False    0       True    int64\n",
       "upper_case_word_count     True        False  False    0      False    int64\n",
       "noun_count                True        False  False    0      False    int64\n",
       "verb_count                True        False  False    0      False    int64\n",
       "adj_count                 True        False  False    0      False    int64\n",
       "adv_count                 True        False  False    0      False    int64\n",
       "pron_count                True        False  False    0      False    int64"
      ]
     },
     "execution_count": 33,
     "metadata": {},
     "output_type": "execute_result"
    }
   ],
   "source": [
    "df_desc(test_news_fixed)"
   ]
  },
  {
   "cell_type": "markdown",
   "metadata": {
    "colab_type": "text",
    "id": "AMFwTPwczodH"
   },
   "source": [
    "# Functions for Training\n",
    "\n",
    "At this stage, we define four functions that automate the training and validation process, and visualize and summarize the results after training process.  \n",
    "\n",
    "1.   **Train models**\n",
    "2.   **Cross-Validation**\n",
    "3.   **Print Metrics**\n",
    "4.   **Plot Confusion Matrix**\n",
    "\n"
   ]
  },
  {
   "cell_type": "markdown",
   "metadata": {
    "colab_type": "text",
    "id": "M4MYq9hYmXm3"
   },
   "source": [
    "## Training Function"
   ]
  },
  {
   "cell_type": "code",
   "execution_count": 34,
   "metadata": {
    "colab": {},
    "colab_type": "code",
    "id": "ifktOemvznoO"
   },
   "outputs": [],
   "source": [
    "def train_model(classifier, feature_vector_train, label, feature_vector_valid, is_neural_net=False, param = None):\n",
    "    if param != None:\n",
    "        # Type of scoring used to compare parameter combinations\n",
    "        acc_scorer = make_scorer(accuracy_score)\n",
    "\n",
    "        # Run the Grid Search\n",
    "        grid_obj = GridSearchCV(classifier, param, scoring=acc_scorer)\n",
    "\n",
    "        # Fit the Train dataset on the classifier\n",
    "        grid_obj = grid_obj.fit(feature_vector_train, label)\n",
    "\n",
    "        # Fit using the best combination of parameters\n",
    "        grid_obj = grid_obj.best_estimator_\n",
    "        grid_obj = grid_obj.fit(feature_vector_train, label)\n",
    "\n",
    "        # Predict the labels on Validation dataset\n",
    "        predictions = grid_obj.predict(feature_vector_valid)\n",
    "\n",
    "        # print (\"Accuracy on Validation set:\",metrics.accuracy_score(predictions, valid_labels))\n",
    "\n",
    "        return grid_obj, metrics.accuracy_score(predictions, valid_labels), predictions\n",
    "    else :\n",
    "        # Fit the Training dataset on the classifier\n",
    "        classifier.fit(feature_vector_train, label)\n",
    "\n",
    "        # Predict the labels on Validation dataset\n",
    "        predictions = classifier.predict(feature_vector_valid)\n",
    "\n",
    "        if is_neural_net:\n",
    "            predictions = predictions.argmax(axis=-1)\n",
    "\n",
    "    return metrics.accuracy_score(predictions, valid_labels), predictions"
   ]
  },
  {
   "cell_type": "markdown",
   "metadata": {
    "colab_type": "text",
    "id": "2gWP2DRjzWc7"
   },
   "source": [
    "## Cross-Validation Function"
   ]
  },
  {
   "cell_type": "code",
   "execution_count": 35,
   "metadata": {
    "colab": {},
    "colab_type": "code",
    "id": "4A3v_JeltKXH"
   },
   "outputs": [],
   "source": [
    "def cv_acc (model, X_train, y_train, n_splits, seed):\n",
    "    kfold = model_selection.KFold(n_splits=n_splits, random_state=seed)\n",
    "    scoring = 'accuracy'\n",
    "    results = model_selection.cross_val_score(model, X_train, y_train.values.ravel(), cv=kfold, scoring=scoring)\n",
    "    print(\"10-fold cross validation average accuracy: %.3f\" % (results.mean()))\n",
    "    print()\n",
    "    for i in range(len(results)):\n",
    "        print('Iteration', '{:>2}'.format(i+1), '| Accuracy: {:.2f}'.format(results[i]))"
   ]
  },
  {
   "cell_type": "markdown",
   "metadata": {
    "colab_type": "text",
    "id": "kgctRpeCzayp"
   },
   "source": [
    "## Print Metrics Function"
   ]
  },
  {
   "cell_type": "code",
   "execution_count": 36,
   "metadata": {
    "colab": {},
    "colab_type": "code",
    "id": "b2heQeRGaCI8"
   },
   "outputs": [],
   "source": [
    "def print_metrics (y_true, y_pred):\n",
    "    from sklearn.metrics import accuracy_score, f1_score, precision_score, recall_score, classification_report\n",
    "    print('F1 score: %.3f'% f1_score(y_true, y_pred, average=\"macro\"))\n",
    "    print('Precision: %.3f'%precision_score(y_true, y_pred, average=\"macro\"))\n",
    "    print('Recall: %.3f'% recall_score(y_true, y_pred, average=\"macro\"))"
   ]
  },
  {
   "cell_type": "markdown",
   "metadata": {
    "colab_type": "text",
    "id": "zfpou6I5zeDX"
   },
   "source": [
    "## Plot Confusion Matrix Function"
   ]
  },
  {
   "cell_type": "code",
   "execution_count": 37,
   "metadata": {
    "colab": {},
    "colab_type": "code",
    "id": "a2a3h83BV-lk"
   },
   "outputs": [],
   "source": [
    "def plot_confusion_matrix(y_true,\n",
    "                          y_pred,\n",
    "                          target_names,\n",
    "                          title='Confusion matrix',\n",
    "                          cmap=None,\n",
    "                          normalize=True):\n",
    "    cm = confusion_matrix(y_true, y_pred)\n",
    "\n",
    "    accuracy = np.trace(cm) / float(np.sum(cm))\n",
    "    misclass = 1 - accuracy\n",
    "\n",
    "    if cmap is None:\n",
    "        cmap = plt.get_cmap('Blues')\n",
    "\n",
    "    plt.figure(figsize=(5, 3))\n",
    "    plt.imshow(cm, interpolation='nearest', cmap=cmap)\n",
    "    plt.title(title)\n",
    "    # plt.colorbar()\n",
    "\n",
    "    if target_names is not None:\n",
    "        tick_marks = np.arange(len(target_names))\n",
    "        plt.xticks(tick_marks, target_names)\n",
    "        plt.yticks(tick_marks, target_names)\n",
    "\n",
    "    if normalize:\n",
    "        cm = cm.astype('float') / cm.sum(axis=1)[:, np.newaxis]\n",
    "\n",
    "\n",
    "    thresh = cm.max() / 1.5 if normalize else cm.max() / 2\n",
    "    for i, j in itertools.product(range(cm.shape[0]), range(cm.shape[1])):\n",
    "        if normalize:\n",
    "            plt.text(j, i, \"{:0.4f}\".format(cm[i, j]),\n",
    "                     horizontalalignment=\"center\",\n",
    "                     color=\"white\" if cm[i, j] > thresh else \"black\")\n",
    "        else:\n",
    "            plt.text(j, i, \"{:,}\".format(cm[i, j]),\n",
    "                     horizontalalignment=\"center\",\n",
    "                     color=\"white\" if cm[i, j] > thresh else \"black\")\n",
    "\n",
    "    plt.tight_layout()\n",
    "    # plt.ylabel('True label')\n",
    "    # plt.xlabel('Predicted label\\naccuracy={:0.4f}; misclass={:0.4f}'.format(accuracy, misclass))\n",
    "    plt.show()"
   ]
  },
  {
   "cell_type": "markdown",
   "metadata": {
    "colab_type": "text",
    "id": "_y8vruXIz_US"
   },
   "source": [
    "# Modelling"
   ]
  },
  {
   "cell_type": "markdown",
   "metadata": {
    "colab_type": "text",
    "id": "_ctY0jBj75gj"
   },
   "source": [
    "After making sure we have all the necesssary elements for the Machine Learning Pipeline, it is time now to start the modelling part. The algorithms that we are going to test are split in two main categories:  \n",
    "\n",
    "* **Regular Algorithms**\n",
    "* **Deep Learning**\n",
    "\n",
    "Within each algorithm, we test all the possible data formats (which we transformed the text to, in previous steps) and perform an extensive **Grid Search** in order to determine the optimal number of parameters per algorithm per data format."
   ]
  },
  {
   "cell_type": "markdown",
   "metadata": {
    "colab_type": "text",
    "id": "A3dExCPT0ggt"
   },
   "source": [
    "## Regular Algorithms"
   ]
  },
  {
   "cell_type": "markdown",
   "metadata": {
    "colab_type": "text",
    "id": "-vP5ygR7zzSy"
   },
   "source": [
    "### Naive Bayes"
   ]
  },
  {
   "cell_type": "markdown",
   "metadata": {
    "colab_type": "text",
    "id": "HvOZA3D7ASam"
   },
   "source": [
    "Naive Bayes methods are a set of supervised learning algorithms based on applying based on Bayes’ theorem with the “naive” assumption of conditional independence between every pair of features given the value of the class variable.  \n",
    "\n",
    "For this study, we use the **Multinomial Naive Bayes**, which implements the naive Bayes algorithm for multinomially distributed data, and is one of the two classic naive Bayes variants used in text classification."
   ]
  },
  {
   "cell_type": "code",
   "execution_count": 38,
   "metadata": {
    "colab": {
     "base_uri": "https://localhost:8080/",
     "height": 2111
    },
    "colab_type": "code",
    "executionInfo": {
     "elapsed": 175585,
     "status": "ok",
     "timestamp": 1559322992166,
     "user": {
      "displayName": "Ashley O'Mahony",
      "photoUrl": "https://lh5.googleusercontent.com/-1kukuBnoGG8/AAAAAAAAAAI/AAAAAAAAAEc/SDLV7krtrG8/s64/photo.jpg",
      "userId": "14678637045665485587"
     },
     "user_tz": -120
    },
    "id": "CjInCH9hz0-4",
    "outputId": "106053b8-d18d-4f83-c196-a6ee8c8d7747",
    "scrolled": false
   },
   "outputs": [
    {
     "name": "stderr",
     "output_type": "stream",
     "text": [
      "/anaconda3/envs/tensorflow/lib/python3.5/site-packages/sklearn/model_selection/_split.py:1943: FutureWarning: You should specify a value for 'cv' instead of relying on the default value. The default value will change from 3 to 5 in version 0.22.\n",
      "  warnings.warn(CV_WARNING, FutureWarning)\n"
     ]
    },
    {
     "name": "stdout",
     "output_type": "stream",
     "text": [
      "NB, Count Vectors:  0.9025\n",
      "F1 score: 0.902\n",
      "Precision: 0.902\n",
      "Recall: 0.902\n",
      "10-fold cross validation average accuracy: 0.899\n",
      "\n",
      "Iteration  1 | Accuracy: 0.90\n",
      "Iteration  2 | Accuracy: 0.91\n",
      "Iteration  3 | Accuracy: 0.91\n",
      "Iteration  4 | Accuracy: 0.88\n",
      "Iteration  5 | Accuracy: 0.93\n",
      "Iteration  6 | Accuracy: 0.90\n",
      "Iteration  7 | Accuracy: 0.88\n",
      "Iteration  8 | Accuracy: 0.91\n",
      "Iteration  9 | Accuracy: 0.89\n",
      "Iteration 10 | Accuracy: 0.89\n",
      "\n"
     ]
    },
    {
     "data": {
      "image/png": "[encoded data removed]",
      "text/plain": [
       "<Figure size 360x216 with 1 Axes>"
      ]
     },
     "metadata": {
      "needs_background": "light"
     },
     "output_type": "display_data"
    },
    {
     "name": "stdout",
     "output_type": "stream",
     "text": [
      "\n"
     ]
    },
    {
     "name": "stderr",
     "output_type": "stream",
     "text": [
      "/anaconda3/envs/tensorflow/lib/python3.5/site-packages/sklearn/model_selection/_split.py:1943: FutureWarning: You should specify a value for 'cv' instead of relying on the default value. The default value will change from 3 to 5 in version 0.22.\n",
      "  warnings.warn(CV_WARNING, FutureWarning)\n"
     ]
    },
    {
     "name": "stdout",
     "output_type": "stream",
     "text": [
      "NB, WordLevel TF-IDF:  0.9125\n",
      "F1 score: 0.912\n",
      "Precision: 0.912\n",
      "Recall: 0.913\n",
      "10-fold cross validation average accuracy: 0.907\n",
      "\n",
      "Iteration  1 | Accuracy: 0.91\n",
      "Iteration  2 | Accuracy: 0.93\n",
      "Iteration  3 | Accuracy: 0.90\n",
      "Iteration  4 | Accuracy: 0.88\n",
      "Iteration  5 | Accuracy: 0.93\n",
      "Iteration  6 | Accuracy: 0.92\n",
      "Iteration  7 | Accuracy: 0.89\n",
      "Iteration  8 | Accuracy: 0.91\n",
      "Iteration  9 | Accuracy: 0.91\n",
      "Iteration 10 | Accuracy: 0.89\n",
      "\n"
     ]
    },
    {
     "data": {
      "image/png": "[encoded data removed]",
      "text/plain": [
       "<Figure size 360x216 with 1 Axes>"
      ]
     },
     "metadata": {
      "needs_background": "light"
     },
     "output_type": "display_data"
    },
    {
     "name": "stdout",
     "output_type": "stream",
     "text": [
      "\n"
     ]
    },
    {
     "name": "stderr",
     "output_type": "stream",
     "text": [
      "/anaconda3/envs/tensorflow/lib/python3.5/site-packages/sklearn/model_selection/_split.py:1943: FutureWarning: You should specify a value for 'cv' instead of relying on the default value. The default value will change from 3 to 5 in version 0.22.\n",
      "  warnings.warn(CV_WARNING, FutureWarning)\n"
     ]
    },
    {
     "name": "stdout",
     "output_type": "stream",
     "text": [
      "NB, N-Gram Vectors:  0.935\n",
      "F1 score: 0.935\n",
      "Precision: 0.936\n",
      "Recall: 0.934\n",
      "10-fold cross validation average accuracy: 0.927\n",
      "\n",
      "Iteration  1 | Accuracy: 0.93\n",
      "Iteration  2 | Accuracy: 0.93\n",
      "Iteration  3 | Accuracy: 0.94\n",
      "Iteration  4 | Accuracy: 0.91\n",
      "Iteration  5 | Accuracy: 0.94\n",
      "Iteration  6 | Accuracy: 0.92\n",
      "Iteration  7 | Accuracy: 0.91\n",
      "Iteration  8 | Accuracy: 0.93\n",
      "Iteration  9 | Accuracy: 0.93\n",
      "Iteration 10 | Accuracy: 0.92\n",
      "\n"
     ]
    },
    {
     "data": {
      "image/png": "[encoded data removed]",
      "text/plain": [
       "<Figure size 360x216 with 1 Axes>"
      ]
     },
     "metadata": {
      "needs_background": "light"
     },
     "output_type": "display_data"
    },
    {
     "name": "stdout",
     "output_type": "stream",
     "text": [
      "\n"
     ]
    },
    {
     "name": "stderr",
     "output_type": "stream",
     "text": [
      "/anaconda3/envs/tensorflow/lib/python3.5/site-packages/sklearn/model_selection/_split.py:1943: FutureWarning: You should specify a value for 'cv' instead of relying on the default value. The default value will change from 3 to 5 in version 0.22.\n",
      "  warnings.warn(CV_WARNING, FutureWarning)\n"
     ]
    },
    {
     "name": "stdout",
     "output_type": "stream",
     "text": [
      "NB, CharLevel Vectors:  0.8175\n",
      "F1 score: 0.817\n",
      "Precision: 0.830\n",
      "Recall: 0.823\n",
      "10-fold cross validation average accuracy: 0.846\n",
      "\n",
      "Iteration  1 | Accuracy: 0.84\n",
      "Iteration  2 | Accuracy: 0.89\n",
      "Iteration  3 | Accuracy: 0.86\n",
      "Iteration  4 | Accuracy: 0.84\n",
      "Iteration  5 | Accuracy: 0.86\n",
      "Iteration  6 | Accuracy: 0.84\n",
      "Iteration  7 | Accuracy: 0.85\n",
      "Iteration  8 | Accuracy: 0.83\n",
      "Iteration  9 | Accuracy: 0.82\n",
      "Iteration 10 | Accuracy: 0.83\n"
     ]
    },
    {
     "data": {
      "image/png": "[encoded data removed]",
      "text/plain": [
       "<Figure size 360x216 with 1 Axes>"
      ]
     },
     "metadata": {
      "needs_background": "light"
     },
     "output_type": "display_data"
    },
    {
     "name": "stdout",
     "output_type": "stream",
     "text": [
      "\n"
     ]
    }
   ],
   "source": [
    "alpha_list = np.linspace(0.006, 0.1, 40)\n",
    "alpha_list = np.around(alpha_list, decimals=4)\n",
    "alpha_list\n",
    "parameter_NB = [{\"alpha\":alpha_list}]\n",
    "\n",
    "# Naive Bayes on Count Vectors\n",
    "best_model, accuracy, predictions  = train_model(naive_bayes.MultinomialNB(), train_text_count, train_labels, valid_text_count, param = parameter_NB)\n",
    "print (\"NB, Count Vectors: \", accuracy)\n",
    "print_metrics(valid_labels, predictions)\n",
    "cv_acc(best_model, train_text_count, train_labels, 10, 2019)\n",
    "print('')\n",
    "plot_confusion_matrix(y_true = valid_labels,\n",
    "                      y_pred = predictions,\n",
    "                      normalize    = False,\n",
    "                      target_names = ['REAL', 'FAKE'],\n",
    "                      title        = \"Confusion Matrix\")\n",
    "print('')\n",
    "\n",
    "# Naive Bayes on Word Level TF IDF Vectors\n",
    "best_model, accuracy, predictions = train_model(naive_bayes.MultinomialNB(), train_tfidf, train_labels, valid_tfidf, param = parameter_NB)\n",
    "print (\"NB, WordLevel TF-IDF: \", accuracy)\n",
    "print_metrics(valid_labels, predictions)\n",
    "cv_acc(best_model, train_tfidf, train_labels, 10, 2019)\n",
    "print('')\n",
    "plot_confusion_matrix(y_true = valid_labels,\n",
    "                      y_pred = predictions,\n",
    "                      normalize    = False,\n",
    "                      target_names = ['REAL', 'FAKE'],\n",
    "                      title        = \"Confusion Matrix\")\n",
    "print('')\n",
    "\n",
    "# Naive Bayes on Ngram Level TF IDF Vectors\n",
    "best_model, accuracy, predictions = train_model(naive_bayes.MultinomialNB(), train_tfidf_ngram, train_labels, valid_tfidf_ngram, param = parameter_NB)\n",
    "print (\"NB, N-Gram Vectors: \", accuracy)\n",
    "print_metrics(valid_labels, predictions)\n",
    "cv_acc(best_model, train_tfidf_ngram, train_labels, 10, 2019)\n",
    "print('')\n",
    "plot_confusion_matrix(y_true = valid_labels,\n",
    "                      y_pred = predictions,\n",
    "                      normalize    = False,\n",
    "                      target_names = ['REAL', 'FAKE'],\n",
    "                      title        = \"Confusion Matrix\")\n",
    "print('')\n",
    "\n",
    "# Naive Bayes on Character Level TF IDF Vectors\n",
    "best_model, accuracy, predictions = train_model(naive_bayes.MultinomialNB(), train_tfidf_ngram_chars, train_labels, valid_tfidf_ngram_chars, param = parameter_NB)\n",
    "print (\"NB, CharLevel Vectors: \", accuracy)\n",
    "print_metrics(valid_labels, predictions)\n",
    "cv_acc(best_model, train_tfidf_ngram_chars, train_labels, 10, 2019)\n",
    "plot_confusion_matrix(y_true = valid_labels,\n",
    "                      y_pred = predictions,\n",
    "                      normalize    = False,\n",
    "                      target_names = ['REAL', 'FAKE'],\n",
    "                      title        = \"Confusion Matrix\")\n",
    "print('')\n",
    "\n",
    "# N gram 40000(2,3) = 92.7"
   ]
  },
  {
   "cell_type": "markdown",
   "metadata": {
    "colab_type": "text",
    "id": "QoNAxxpsDzRD"
   },
   "source": [
    "With the Naive Bayes algorithm, we obtain a good accuracy of **0.927 in Cross-Validation using the TF-IDF N-gram** dataset.  \n",
    "\n",
    "In the opposite, the result of the TF-IDF at Character level is really disappointing, with an accuracy of 0.846 only in Cross-Validation.  "
   ]
  },
  {
   "cell_type": "markdown",
   "metadata": {
    "colab_type": "text",
    "id": "iF640Be_q492"
   },
   "source": [
    "### Passive Aggresive Classifier"
   ]
  },
  {
   "cell_type": "markdown",
   "metadata": {
    "colab_type": "text",
    "id": "ry3u0THnC_Nf"
   },
   "source": [
    "The passive-aggressive algorithms are a family of algorithms for large-scale learning. They don't require a learning rate, but include a regularization parameter `c`."
   ]
  },
  {
   "cell_type": "code",
   "execution_count": 82,
   "metadata": {
    "colab": {
     "base_uri": "https://localhost:8080/",
     "height": 2129
    },
    "colab_type": "code",
    "executionInfo": {
     "elapsed": 600737,
     "status": "ok",
     "timestamp": 1559323417336,
     "user": {
      "displayName": "Ashley O'Mahony",
      "photoUrl": "https://lh5.googleusercontent.com/-1kukuBnoGG8/AAAAAAAAAAI/AAAAAAAAAEc/SDLV7krtrG8/s64/photo.jpg",
      "userId": "14678637045665485587"
     },
     "user_tz": -120
    },
    "id": "ok6spkT3q4S3",
    "outputId": "6fce9862-0702-4063-d9d0-a63d495ed18a",
    "scrolled": false
   },
   "outputs": [
    {
     "name": "stderr",
     "output_type": "stream",
     "text": [
      "/anaconda3/envs/tensorflow/lib/python3.5/site-packages/sklearn/model_selection/_split.py:1943: FutureWarning: You should specify a value for 'cv' instead of relying on the default value. The default value will change from 3 to 5 in version 0.22.\n",
      "  warnings.warn(CV_WARNING, FutureWarning)\n",
      "/anaconda3/envs/tensorflow/lib/python3.5/site-packages/sklearn/linear_model/stochastic_gradient.py:144: FutureWarning: max_iter and tol parameters have been added in PassiveAggressiveClassifier in 0.19. If both are left unset, they default to max_iter=5 and tol=None. If tol is not None, max_iter defaults to max_iter=1000. From 0.21, default max_iter will be 1000, and default tol will be 1e-3.\n",
      "  FutureWarning)\n"
     ]
    },
    {
     "name": "stdout",
     "output_type": "stream",
     "text": [
      "PAC, Count Vectors:  0.9125\n",
      "F1 score: 0.912\n",
      "Precision: 0.912\n",
      "Recall: 0.914\n",
      "10-fold cross validation average accuracy: 0.904\n",
      "\n",
      "Iteration  1 | Accuracy: 0.91\n",
      "Iteration  2 | Accuracy: 0.91\n",
      "Iteration  3 | Accuracy: 0.91\n",
      "Iteration  4 | Accuracy: 0.88\n",
      "Iteration  5 | Accuracy: 0.92\n",
      "Iteration  6 | Accuracy: 0.89\n",
      "Iteration  7 | Accuracy: 0.90\n",
      "Iteration  8 | Accuracy: 0.89\n",
      "Iteration  9 | Accuracy: 0.92\n",
      "Iteration 10 | Accuracy: 0.90\n",
      "\n"
     ]
    },
    {
     "data": {
      "image/png": "[encoded data removed]",
      "text/plain": [
       "<Figure size 360x216 with 1 Axes>"
      ]
     },
     "metadata": {
      "needs_background": "light"
     },
     "output_type": "display_data"
    },
    {
     "name": "stdout",
     "output_type": "stream",
     "text": [
      "\n"
     ]
    },
    {
     "name": "stderr",
     "output_type": "stream",
     "text": [
      "/anaconda3/envs/tensorflow/lib/python3.5/site-packages/sklearn/model_selection/_split.py:1943: FutureWarning: You should specify a value for 'cv' instead of relying on the default value. The default value will change from 3 to 5 in version 0.22.\n",
      "  warnings.warn(CV_WARNING, FutureWarning)\n",
      "/anaconda3/envs/tensorflow/lib/python3.5/site-packages/sklearn/linear_model/stochastic_gradient.py:144: FutureWarning: max_iter and tol parameters have been added in PassiveAggressiveClassifier in 0.19. If both are left unset, they default to max_iter=5 and tol=None. If tol is not None, max_iter defaults to max_iter=1000. From 0.21, default max_iter will be 1000, and default tol will be 1e-3.\n",
      "  FutureWarning)\n"
     ]
    },
    {
     "name": "stdout",
     "output_type": "stream",
     "text": [
      "PAC, WordLevel TF-IDF:  0.9325\n",
      "F1 score: 0.932\n",
      "Precision: 0.932\n",
      "Recall: 0.933\n",
      "10-fold cross validation average accuracy: 0.919\n",
      "\n",
      "Iteration  1 | Accuracy: 0.91\n",
      "Iteration  2 | Accuracy: 0.92\n",
      "Iteration  3 | Accuracy: 0.93\n",
      "Iteration  4 | Accuracy: 0.90\n",
      "Iteration  5 | Accuracy: 0.93\n",
      "Iteration  6 | Accuracy: 0.93\n",
      "Iteration  7 | Accuracy: 0.93\n",
      "Iteration  8 | Accuracy: 0.92\n",
      "Iteration  9 | Accuracy: 0.92\n",
      "Iteration 10 | Accuracy: 0.91\n",
      "\n"
     ]
    },
    {
     "data": {
      "image/png": "[encoded data removed]",
      "text/plain": [
       "<Figure size 360x216 with 1 Axes>"
      ]
     },
     "metadata": {
      "needs_background": "light"
     },
     "output_type": "display_data"
    },
    {
     "name": "stdout",
     "output_type": "stream",
     "text": [
      "\n"
     ]
    },
    {
     "name": "stderr",
     "output_type": "stream",
     "text": [
      "/anaconda3/envs/tensorflow/lib/python3.5/site-packages/sklearn/model_selection/_split.py:1943: FutureWarning: You should specify a value for 'cv' instead of relying on the default value. The default value will change from 3 to 5 in version 0.22.\n",
      "  warnings.warn(CV_WARNING, FutureWarning)\n",
      "/anaconda3/envs/tensorflow/lib/python3.5/site-packages/sklearn/linear_model/stochastic_gradient.py:144: FutureWarning: max_iter and tol parameters have been added in PassiveAggressiveClassifier in 0.19. If both are left unset, they default to max_iter=5 and tol=None. If tol is not None, max_iter defaults to max_iter=1000. From 0.21, default max_iter will be 1000, and default tol will be 1e-3.\n",
      "  FutureWarning)\n"
     ]
    },
    {
     "name": "stdout",
     "output_type": "stream",
     "text": [
      "PAC, N-Gram Vectors:  0.92\n",
      "F1 score: 0.920\n",
      "Precision: 0.920\n",
      "Recall: 0.921\n",
      "10-fold cross validation average accuracy: 0.925\n",
      "\n",
      "Iteration  1 | Accuracy: 0.91\n",
      "Iteration  2 | Accuracy: 0.92\n",
      "Iteration  3 | Accuracy: 0.95\n",
      "Iteration  4 | Accuracy: 0.92\n",
      "Iteration  5 | Accuracy: 0.94\n",
      "Iteration  6 | Accuracy: 0.93\n",
      "Iteration  7 | Accuracy: 0.91\n",
      "Iteration  8 | Accuracy: 0.93\n",
      "Iteration  9 | Accuracy: 0.91\n",
      "Iteration 10 | Accuracy: 0.92\n",
      "\n"
     ]
    },
    {
     "data": {
      "image/png": "[encoded data removed]",
      "text/plain": [
       "<Figure size 360x216 with 1 Axes>"
      ]
     },
     "metadata": {
      "needs_background": "light"
     },
     "output_type": "display_data"
    },
    {
     "name": "stdout",
     "output_type": "stream",
     "text": [
      "\n"
     ]
    },
    {
     "name": "stderr",
     "output_type": "stream",
     "text": [
      "/anaconda3/envs/tensorflow/lib/python3.5/site-packages/sklearn/model_selection/_split.py:1943: FutureWarning: You should specify a value for 'cv' instead of relying on the default value. The default value will change from 3 to 5 in version 0.22.\n",
      "  warnings.warn(CV_WARNING, FutureWarning)\n",
      "/anaconda3/envs/tensorflow/lib/python3.5/site-packages/sklearn/linear_model/stochastic_gradient.py:144: FutureWarning: max_iter and tol parameters have been added in PassiveAggressiveClassifier in 0.19. If both are left unset, they default to max_iter=5 and tol=None. If tol is not None, max_iter defaults to max_iter=1000. From 0.21, default max_iter will be 1000, and default tol will be 1e-3.\n",
      "  FutureWarning)\n"
     ]
    },
    {
     "name": "stdout",
     "output_type": "stream",
     "text": [
      "NB, CharLevel Vectors:  0.8575\n",
      "F1 score: 0.857\n",
      "Precision: 0.867\n",
      "Recall: 0.862\n",
      "10-fold cross validation average accuracy: 0.879\n",
      "\n",
      "Iteration  1 | Accuracy: 0.86\n",
      "Iteration  2 | Accuracy: 0.90\n",
      "Iteration  3 | Accuracy: 0.87\n",
      "Iteration  4 | Accuracy: 0.84\n",
      "Iteration  5 | Accuracy: 0.89\n",
      "Iteration  6 | Accuracy: 0.88\n",
      "Iteration  7 | Accuracy: 0.88\n",
      "Iteration  8 | Accuracy: 0.88\n",
      "Iteration  9 | Accuracy: 0.88\n",
      "Iteration 10 | Accuracy: 0.90\n",
      "\n"
     ]
    },
    {
     "data": {
      "image/png": "[encoded data removed]",
      "text/plain": [
       "<Figure size 360x216 with 1 Axes>"
      ]
     },
     "metadata": {
      "needs_background": "light"
     },
     "output_type": "display_data"
    },
    {
     "name": "stdout",
     "output_type": "stream",
     "text": [
      "\n"
     ]
    }
   ],
   "source": [
    "c_list = np.linspace(0.006, 0.1, 40)\n",
    "c_list = np.around(c_list, decimals=4)\n",
    "parameter_PAC = [{\"C\":c_list}]\n",
    "\n",
    "\n",
    "# PAC on Count Vectors\n",
    "best_model, accuracy, predictions  = train_model(PassiveAggressiveClassifier(), train_text_count, train_labels, valid_text_count, param = parameter_PAC)\n",
    "print (\"PAC, Count Vectors: \", accuracy)\n",
    "print_metrics(valid_labels, predictions)\n",
    "cv_acc(best_model, train_text_count, train_labels, 10, 2019)\n",
    "print('')\n",
    "plot_confusion_matrix(y_true = valid_labels,\n",
    "                      y_pred = predictions,\n",
    "                      normalize    = False,\n",
    "                      target_names = ['REAL', 'FAKE'],\n",
    "                      title        = \"Confusion Matrix\")\n",
    "print('')\n",
    "\n",
    "# PAC on Word Level TF IDF Vectors\n",
    "best_model, accuracy, predictions = train_model(PassiveAggressiveClassifier(), train_tfidf, train_labels, valid_tfidf, param = parameter_PAC)\n",
    "print (\"PAC, WordLevel TF-IDF: \", accuracy)\n",
    "print_metrics(valid_labels, predictions)\n",
    "cv_acc(best_model, train_tfidf, train_labels, 10, 2019)\n",
    "print('')\n",
    "plot_confusion_matrix(y_true = valid_labels,\n",
    "                      y_pred = predictions,\n",
    "                      normalize    = False,\n",
    "                      target_names = ['REAL', 'FAKE'],\n",
    "                      title        = \"Confusion Matrix\")\n",
    "print('')\n",
    "\n",
    "# PAC on Ngram Level TF IDF Vectors\n",
    "best_model_pac, accuracy, predictions = train_model(PassiveAggressiveClassifier(), train_tfidf_ngram, train_labels, valid_tfidf_ngram, param = parameter_PAC)\n",
    "print (\"PAC, N-Gram Vectors: \", accuracy)\n",
    "print_metrics(valid_labels, predictions)\n",
    "cv_acc(best_model_pac, train_tfidf_ngram, train_labels, 10, 2019)\n",
    "print('')\n",
    "plot_confusion_matrix(y_true = valid_labels,\n",
    "                      y_pred = predictions,\n",
    "                      normalize    = False,\n",
    "                      target_names = ['REAL', 'FAKE'],\n",
    "                      title        = \"Confusion Matrix\")\n",
    "print('')\n",
    "\n",
    "# PAC on Character Level TF IDF Vectors\n",
    "best_model, accuracy, predictions = train_model(PassiveAggressiveClassifier(), train_tfidf_ngram_chars, train_labels, valid_tfidf_ngram_chars, param = parameter_PAC)\n",
    "print (\"NB, CharLevel Vectors: \", accuracy)\n",
    "print_metrics(valid_labels, predictions)\n",
    "cv_acc(best_model, train_tfidf_ngram_chars, train_labels, 10, 2019)\n",
    "print('')\n",
    "plot_confusion_matrix(y_true = valid_labels,\n",
    "                      y_pred = predictions,\n",
    "                      normalize    = False,\n",
    "                      target_names = ['REAL', 'FAKE'],\n",
    "                      title        = \"Confusion Matrix\")\n",
    "print('')\n"
   ]
  },
  {
   "cell_type": "markdown",
   "metadata": {
    "colab_type": "text",
    "id": "6tp7FS5hFziM"
   },
   "source": [
    "With Passive Aggressive Classifier, the TF-IDF at N-gram level is again better, with a value of **0.927 in Cross-Validation**.  "
   ]
  },
  {
   "cell_type": "markdown",
   "metadata": {
    "colab_type": "text",
    "id": "O_Lu0IVd5Sh3"
   },
   "source": [
    "### Linear Classifier | Logistic Regression"
   ]
  },
  {
   "cell_type": "markdown",
   "metadata": {
    "colab_type": "text",
    "id": "eLhjMAgjG4EG"
   },
   "source": [
    "The Logisitic Regression, also known as logit regression, maximum-entropy classification (MaxEnt) or the log-linear classifier, is a linear classifier providing the probabilities of the possible outcomes.  \n",
    "\n",
    "For this analysis, we also tested the impact of `L1` and `L2` regularizations on the models.  "
   ]
  },
  {
   "cell_type": "code",
   "execution_count": 40,
   "metadata": {
    "colab": {
     "base_uri": "https://localhost:8080/",
     "height": 2129
    },
    "colab_type": "code",
    "executionInfo": {
     "elapsed": 825326,
     "status": "ok",
     "timestamp": 1559323641944,
     "user": {
      "displayName": "Ashley O'Mahony",
      "photoUrl": "https://lh5.googleusercontent.com/-1kukuBnoGG8/AAAAAAAAAAI/AAAAAAAAAEc/SDLV7krtrG8/s64/photo.jpg",
      "userId": "14678637045665485587"
     },
     "user_tz": -120
    },
    "id": "0Mrp9ZPL5Sq-",
    "outputId": "5385ef76-09e8-49a0-c187-998a592241d2",
    "scrolled": false
   },
   "outputs": [
    {
     "name": "stderr",
     "output_type": "stream",
     "text": [
      "/anaconda3/envs/tensorflow/lib/python3.5/site-packages/sklearn/model_selection/_split.py:1943: FutureWarning: You should specify a value for 'cv' instead of relying on the default value. The default value will change from 3 to 5 in version 0.22.\n",
      "  warnings.warn(CV_WARNING, FutureWarning)\n",
      "/anaconda3/envs/tensorflow/lib/python3.5/site-packages/sklearn/linear_model/logistic.py:432: FutureWarning: Default solver will be changed to 'lbfgs' in 0.22. Specify a solver to silence this warning.\n",
      "  FutureWarning)\n"
     ]
    },
    {
     "name": "stdout",
     "output_type": "stream",
     "text": [
      "LR, Count Vectors:  0.9175\n",
      "F1 score: 0.917\n",
      "Precision: 0.917\n",
      "Recall: 0.918\n",
      "10-fold cross validation average accuracy: 0.918\n",
      "\n",
      "Iteration  1 | Accuracy: 0.91\n",
      "Iteration  2 | Accuracy: 0.92\n",
      "Iteration  3 | Accuracy: 0.94\n",
      "Iteration  4 | Accuracy: 0.90\n",
      "Iteration  5 | Accuracy: 0.93\n",
      "Iteration  6 | Accuracy: 0.92\n",
      "Iteration  7 | Accuracy: 0.92\n",
      "Iteration  8 | Accuracy: 0.91\n",
      "Iteration  9 | Accuracy: 0.92\n",
      "Iteration 10 | Accuracy: 0.91\n",
      "\n"
     ]
    },
    {
     "data": {
      "image/png": "[encoded data removed]",
      "text/plain": [
       "<Figure size 360x216 with 1 Axes>"
      ]
     },
     "metadata": {
      "needs_background": "light"
     },
     "output_type": "display_data"
    },
    {
     "name": "stdout",
     "output_type": "stream",
     "text": [
      "\n"
     ]
    },
    {
     "name": "stderr",
     "output_type": "stream",
     "text": [
      "/anaconda3/envs/tensorflow/lib/python3.5/site-packages/sklearn/model_selection/_split.py:1943: FutureWarning: You should specify a value for 'cv' instead of relying on the default value. The default value will change from 3 to 5 in version 0.22.\n",
      "  warnings.warn(CV_WARNING, FutureWarning)\n",
      "/anaconda3/envs/tensorflow/lib/python3.5/site-packages/sklearn/linear_model/logistic.py:432: FutureWarning: Default solver will be changed to 'lbfgs' in 0.22. Specify a solver to silence this warning.\n",
      "  FutureWarning)\n"
     ]
    },
    {
     "name": "stdout",
     "output_type": "stream",
     "text": [
      "LR, WordLevel TF-IDF:  0.9325\n",
      "F1 score: 0.932\n",
      "Precision: 0.932\n",
      "Recall: 0.933\n",
      "10-fold cross validation average accuracy: 0.930\n",
      "\n",
      "Iteration  1 | Accuracy: 0.95\n",
      "Iteration  2 | Accuracy: 0.92\n",
      "Iteration  3 | Accuracy: 0.95\n",
      "Iteration  4 | Accuracy: 0.90\n",
      "Iteration  5 | Accuracy: 0.95\n",
      "Iteration  6 | Accuracy: 0.93\n",
      "Iteration  7 | Accuracy: 0.92\n",
      "Iteration  8 | Accuracy: 0.93\n",
      "Iteration  9 | Accuracy: 0.93\n",
      "Iteration 10 | Accuracy: 0.92\n",
      "\n"
     ]
    },
    {
     "data": {
      "image/png": "[encoded data removed]",
      "text/plain": [
       "<Figure size 360x216 with 1 Axes>"
      ]
     },
     "metadata": {
      "needs_background": "light"
     },
     "output_type": "display_data"
    },
    {
     "name": "stdout",
     "output_type": "stream",
     "text": [
      "\n"
     ]
    },
    {
     "name": "stderr",
     "output_type": "stream",
     "text": [
      "/anaconda3/envs/tensorflow/lib/python3.5/site-packages/sklearn/model_selection/_split.py:1943: FutureWarning: You should specify a value for 'cv' instead of relying on the default value. The default value will change from 3 to 5 in version 0.22.\n",
      "  warnings.warn(CV_WARNING, FutureWarning)\n",
      "/anaconda3/envs/tensorflow/lib/python3.5/site-packages/sklearn/linear_model/logistic.py:432: FutureWarning: Default solver will be changed to 'lbfgs' in 0.22. Specify a solver to silence this warning.\n",
      "  FutureWarning)\n"
     ]
    },
    {
     "name": "stdout",
     "output_type": "stream",
     "text": [
      "LR, N-Gram Vectors:  0.935\n",
      "F1 score: 0.935\n",
      "Precision: 0.935\n",
      "Recall: 0.936\n",
      "10-fold cross validation average accuracy: 0.924\n",
      "\n",
      "Iteration  1 | Accuracy: 0.93\n",
      "Iteration  2 | Accuracy: 0.92\n",
      "Iteration  3 | Accuracy: 0.95\n",
      "Iteration  4 | Accuracy: 0.92\n",
      "Iteration  5 | Accuracy: 0.94\n",
      "Iteration  6 | Accuracy: 0.92\n",
      "Iteration  7 | Accuracy: 0.90\n",
      "Iteration  8 | Accuracy: 0.91\n",
      "Iteration  9 | Accuracy: 0.92\n",
      "Iteration 10 | Accuracy: 0.92\n",
      "\n"
     ]
    },
    {
     "data": {
      "image/png": "[encoded data removed]",
      "text/plain": [
       "<Figure size 360x216 with 1 Axes>"
      ]
     },
     "metadata": {
      "needs_background": "light"
     },
     "output_type": "display_data"
    },
    {
     "name": "stdout",
     "output_type": "stream",
     "text": [
      "\n"
     ]
    },
    {
     "name": "stderr",
     "output_type": "stream",
     "text": [
      "/anaconda3/envs/tensorflow/lib/python3.5/site-packages/sklearn/model_selection/_split.py:1943: FutureWarning: You should specify a value for 'cv' instead of relying on the default value. The default value will change from 3 to 5 in version 0.22.\n",
      "  warnings.warn(CV_WARNING, FutureWarning)\n",
      "/anaconda3/envs/tensorflow/lib/python3.5/site-packages/sklearn/linear_model/logistic.py:432: FutureWarning: Default solver will be changed to 'lbfgs' in 0.22. Specify a solver to silence this warning.\n",
      "  FutureWarning)\n"
     ]
    },
    {
     "name": "stdout",
     "output_type": "stream",
     "text": [
      "LR, CharLevel Vectors:  0.895\n",
      "F1 score: 0.895\n",
      "Precision: 0.895\n",
      "Recall: 0.896\n",
      "10-fold cross validation average accuracy: 0.909\n",
      "\n",
      "Iteration  1 | Accuracy: 0.89\n",
      "Iteration  2 | Accuracy: 0.92\n",
      "Iteration  3 | Accuracy: 0.90\n",
      "Iteration  4 | Accuracy: 0.89\n",
      "Iteration  5 | Accuracy: 0.91\n",
      "Iteration  6 | Accuracy: 0.89\n",
      "Iteration  7 | Accuracy: 0.92\n",
      "Iteration  8 | Accuracy: 0.94\n",
      "Iteration  9 | Accuracy: 0.92\n",
      "Iteration 10 | Accuracy: 0.91\n",
      "\n"
     ]
    },
    {
     "data": {
      "image/png": "[encoded data removed]",
      "text/plain": [
       "<Figure size 360x216 with 1 Axes>"
      ]
     },
     "metadata": {
      "needs_background": "light"
     },
     "output_type": "display_data"
    },
    {
     "name": "stdout",
     "output_type": "stream",
     "text": [
      "\n"
     ]
    }
   ],
   "source": [
    "parameters_lr={\"C\":np.logspace(-3,3,10), \"penalty\":[\"l1\",\"l2\"]}# l1 lasso l2 ridge\n",
    "\n",
    "# Linear Classifier on Count Vectors\n",
    "best_model, accuracy, predictions = train_model(linear_model.LogisticRegression(), train_text_count, train_labels, valid_text_count, param = parameters_lr)\n",
    "print (\"LR, Count Vectors: \", accuracy)\n",
    "print_metrics(valid_labels, predictions)\n",
    "cv_acc(best_model, train_text_count, train_labels, 10, 2019)\n",
    "print('')\n",
    "plot_confusion_matrix(y_true = valid_labels,\n",
    "                      y_pred = predictions,\n",
    "                      normalize    = False,\n",
    "                      target_names = ['REAL', 'FAKE'],\n",
    "                      title        = \"Confusion Matrix\")\n",
    "print('')\n",
    "\n",
    "# Linear Classifier on Word Level TF IDF Vectors\n",
    "best_model, accuracy, predictions = train_model(linear_model.LogisticRegression(), train_tfidf, train_labels, valid_tfidf, param = parameters_lr)\n",
    "print (\"LR, WordLevel TF-IDF: \", accuracy)\n",
    "print_metrics(valid_labels, predictions)\n",
    "cv_acc(best_model, train_tfidf, train_labels, 10, 2019)\n",
    "print('')\n",
    "plot_confusion_matrix(y_true = valid_labels,\n",
    "                      y_pred = predictions,\n",
    "                      normalize    = False,\n",
    "                      target_names = ['REAL', 'FAKE'],\n",
    "                      title        = \"Confusion Matrix\")\n",
    "print('')\n",
    "\n",
    "# Linear Classifier on Ngram Level TF IDF Vectors\n",
    "best_model, accuracy, predictions = train_model(linear_model.LogisticRegression(), train_tfidf_ngram, train_labels, valid_tfidf_ngram, param = parameters_lr)\n",
    "print (\"LR, N-Gram Vectors: \", accuracy)\n",
    "print_metrics(valid_labels, predictions)\n",
    "cv_acc(best_model, train_tfidf_ngram, train_labels, 10, 2019)\n",
    "print('')\n",
    "plot_confusion_matrix(y_true = valid_labels,\n",
    "                      y_pred = predictions,\n",
    "                      normalize    = False,\n",
    "                      target_names = ['REAL', 'FAKE'],\n",
    "                      title        = \"Confusion Matrix\")\n",
    "print('')\n",
    "\n",
    "# Linear Classifier on Character Level TF IDF Vectors\n",
    "best_model, accuracy, predictions = train_model(linear_model.LogisticRegression(), train_tfidf_ngram_chars, train_labels, valid_tfidf_ngram_chars, param = parameters_lr)\n",
    "print (\"LR, CharLevel Vectors: \", accuracy)\n",
    "print_metrics(valid_labels, predictions)\n",
    "cv_acc(best_model, train_tfidf_ngram_chars, train_labels, 10, 2019)\n",
    "print('')\n",
    "plot_confusion_matrix(y_true = valid_labels,\n",
    "                      y_pred = predictions,\n",
    "                      normalize    = False,\n",
    "                      target_names = ['REAL', 'FAKE'],\n",
    "                      title        = \"Confusion Matrix\")\n",
    "print('')\n",
    "\n",
    "# Best 25000 with TFIDF Word Level 93\n",
    "# Best 45000(2,5) with TFIDF N gram Level 92.7"
   ]
  },
  {
   "cell_type": "markdown",
   "metadata": {
    "colab_type": "text",
    "id": "3VHpmCcWJH2f"
   },
   "source": [
    "This time again, the TF-IDF at Word level and at N-gram level provide the best results, but favour would go to the **TF-IDF at Word level**, thanks to its accuracy of **0.930 in Cross-Validation**, which beats the one of TF-IDF at N-gram level.  "
   ]
  },
  {
   "cell_type": "markdown",
   "metadata": {
    "colab_type": "text",
    "id": "eLkIUnmJ5sey"
   },
   "source": [
    "### Support Vector Machines\n"
   ]
  },
  {
   "cell_type": "markdown",
   "metadata": {
    "colab_type": "text",
    "id": "z3AOhzbGJjE1"
   },
   "source": [
    "Also known as SVM, Support Vector Machines are effective in high dimensional spaces, and quite effective when the number of features if greater than the number of samples.  "
   ]
  },
  {
   "cell_type": "code",
   "execution_count": 41,
   "metadata": {
    "colab": {
     "base_uri": "https://localhost:8080/",
     "height": 2365
    },
    "colab_type": "code",
    "executionInfo": {
     "elapsed": 4014035,
     "status": "ok",
     "timestamp": 1559326830672,
     "user": {
      "displayName": "Ashley O'Mahony",
      "photoUrl": "https://lh5.googleusercontent.com/-1kukuBnoGG8/AAAAAAAAAAI/AAAAAAAAAEc/SDLV7krtrG8/s64/photo.jpg",
      "userId": "14678637045665485587"
     },
     "user_tz": -120
    },
    "id": "fsDoj1GO5sqz",
    "outputId": "9f57f353-ce4e-4d10-82c1-d81739a458d3",
    "scrolled": false
   },
   "outputs": [
    {
     "name": "stderr",
     "output_type": "stream",
     "text": [
      "/anaconda3/envs/tensorflow/lib/python3.5/site-packages/sklearn/svm/base.py:196: FutureWarning: The default value of gamma will change from 'auto' to 'scale' in version 0.22 to account better for unscaled features. Set gamma explicitly to 'auto' or 'scale' to avoid this warning.\n",
      "  \"avoid this warning.\", FutureWarning)\n"
     ]
    },
    {
     "name": "stdout",
     "output_type": "stream",
     "text": [
      "SVM, Count Vectors:  0.78\n",
      "F1 score: 0.776\n",
      "Precision: 0.823\n",
      "Recall: 0.790\n",
      "10-fold cross validation average accuracy: 0.777\n",
      "\n",
      "Iteration  1 | Accuracy: 0.75\n",
      "Iteration  2 | Accuracy: 0.81\n",
      "Iteration  3 | Accuracy: 0.80\n",
      "Iteration  4 | Accuracy: 0.78\n",
      "Iteration  5 | Accuracy: 0.78\n",
      "Iteration  6 | Accuracy: 0.81\n",
      "Iteration  7 | Accuracy: 0.76\n",
      "Iteration  8 | Accuracy: 0.77\n",
      "Iteration  9 | Accuracy: 0.76\n",
      "Iteration 10 | Accuracy: 0.76\n",
      "\n"
     ]
    },
    {
     "data": {
      "image/png": "[encoded data removed]",
      "text/plain": [
       "<Figure size 360x216 with 1 Axes>"
      ]
     },
     "metadata": {
      "needs_background": "light"
     },
     "output_type": "display_data"
    },
    {
     "name": "stdout",
     "output_type": "stream",
     "text": [
      "\n",
      "SVM, WordLevel TF-IDF:  0.4725\n",
      "F1 score: 0.321\n",
      "Precision: 0.236\n",
      "Recall: 0.500\n"
     ]
    },
    {
     "name": "stderr",
     "output_type": "stream",
     "text": [
      "/anaconda3/envs/tensorflow/lib/python3.5/site-packages/sklearn/metrics/classification.py:1143: UndefinedMetricWarning: F-score is ill-defined and being set to 0.0 in labels with no predicted samples.\n",
      "  'precision', 'predicted', average, warn_for)\n",
      "/anaconda3/envs/tensorflow/lib/python3.5/site-packages/sklearn/metrics/classification.py:1143: UndefinedMetricWarning: Precision is ill-defined and being set to 0.0 in labels with no predicted samples.\n",
      "  'precision', 'predicted', average, warn_for)\n"
     ]
    },
    {
     "name": "stdout",
     "output_type": "stream",
     "text": [
      "10-fold cross validation average accuracy: 0.477\n",
      "\n",
      "Iteration  1 | Accuracy: 0.48\n",
      "Iteration  2 | Accuracy: 0.47\n",
      "Iteration  3 | Accuracy: 0.47\n",
      "Iteration  4 | Accuracy: 0.49\n",
      "Iteration  5 | Accuracy: 0.49\n",
      "Iteration  6 | Accuracy: 0.44\n",
      "Iteration  7 | Accuracy: 0.48\n",
      "Iteration  8 | Accuracy: 0.49\n",
      "Iteration  9 | Accuracy: 0.48\n",
      "Iteration 10 | Accuracy: 0.48\n",
      "\n"
     ]
    },
    {
     "data": {
      "image/png": "[encoded data removed]",
      "text/plain": [
       "<Figure size 360x216 with 1 Axes>"
      ]
     },
     "metadata": {
      "needs_background": "light"
     },
     "output_type": "display_data"
    },
    {
     "name": "stdout",
     "output_type": "stream",
     "text": [
      "\n",
      "SVM, N-Gram Vectors:  0.4725\n",
      "F1 score: 0.321\n",
      "Precision: 0.236\n",
      "Recall: 0.500\n",
      "10-fold cross validation average accuracy: 0.477\n",
      "\n",
      "Iteration  1 | Accuracy: 0.48\n",
      "Iteration  2 | Accuracy: 0.47\n",
      "Iteration  3 | Accuracy: 0.47\n",
      "Iteration  4 | Accuracy: 0.49\n",
      "Iteration  5 | Accuracy: 0.49\n",
      "Iteration  6 | Accuracy: 0.44\n",
      "Iteration  7 | Accuracy: 0.48\n",
      "Iteration  8 | Accuracy: 0.49\n",
      "Iteration  9 | Accuracy: 0.48\n",
      "Iteration 10 | Accuracy: 0.48\n",
      "\n"
     ]
    },
    {
     "data": {
      "image/png": "[encoded data removed]",
      "text/plain": [
       "<Figure size 360x216 with 1 Axes>"
      ]
     },
     "metadata": {
      "needs_background": "light"
     },
     "output_type": "display_data"
    },
    {
     "name": "stdout",
     "output_type": "stream",
     "text": [
      "\n",
      "SVM, CharLevel Vectors:  0.4725\n",
      "F1 score: 0.321\n",
      "Precision: 0.236\n",
      "Recall: 0.500\n",
      "10-fold cross validation average accuracy: 0.477\n",
      "\n",
      "Iteration  1 | Accuracy: 0.48\n",
      "Iteration  2 | Accuracy: 0.47\n",
      "Iteration  3 | Accuracy: 0.47\n",
      "Iteration  4 | Accuracy: 0.49\n",
      "Iteration  5 | Accuracy: 0.49\n",
      "Iteration  6 | Accuracy: 0.44\n",
      "Iteration  7 | Accuracy: 0.48\n",
      "Iteration  8 | Accuracy: 0.49\n",
      "Iteration  9 | Accuracy: 0.48\n",
      "Iteration 10 | Accuracy: 0.48\n",
      "\n"
     ]
    },
    {
     "data": {
      "image/png": "[encoded data removed]",
      "text/plain": [
       "<Figure size 360x216 with 1 Axes>"
      ]
     },
     "metadata": {
      "needs_background": "light"
     },
     "output_type": "display_data"
    },
    {
     "name": "stdout",
     "output_type": "stream",
     "text": [
      "\n"
     ]
    }
   ],
   "source": [
    "# SVM on Count Vectors\n",
    "accuracy, predictions = train_model(svm.SVC(), train_text_count, train_labels, valid_text_count)\n",
    "print (\"SVM, Count Vectors: \", accuracy)\n",
    "print_metrics(valid_labels, predictions)\n",
    "cv_acc(svm.SVC(), train_text_count, train_labels, 10, 2019)\n",
    "print('')\n",
    "plot_confusion_matrix(y_true = valid_labels,\n",
    "                      y_pred = predictions,\n",
    "                      normalize    = False,\n",
    "                      target_names = ['REAL', 'FAKE'],\n",
    "                      title        = \"Confusion Matrix\")\n",
    "print('')\n",
    "\n",
    "# SVM on Word Level TF IDF Vectors\n",
    "accuracy, predictions = train_model(svm.SVC(), train_tfidf, train_labels, valid_tfidf)\n",
    "print (\"SVM, WordLevel TF-IDF: \", accuracy)\n",
    "print_metrics(valid_labels, predictions)\n",
    "cv_acc(svm.SVC(), train_tfidf, train_labels, 10, 2019)\n",
    "print('')\n",
    "plot_confusion_matrix(y_true = valid_labels,\n",
    "                      y_pred = predictions,\n",
    "                      normalize    = False,\n",
    "                      target_names = ['REAL', 'FAKE'],\n",
    "                      title        = \"Confusion Matrix\")\n",
    "print('')\n",
    "\n",
    "# SVM on Ngram Level TF IDF Vectors\n",
    "accuracy, predictions = train_model(svm.SVC(), train_tfidf_ngram, train_labels, valid_tfidf_ngram)\n",
    "print (\"SVM, N-Gram Vectors: \", accuracy)\n",
    "print_metrics(valid_labels, predictions)\n",
    "cv_acc(svm.SVC(), train_tfidf_ngram, train_labels, 10, 2019)\n",
    "print('')\n",
    "plot_confusion_matrix(y_true = valid_labels,\n",
    "                      y_pred = predictions,\n",
    "                      normalize    = False,\n",
    "                      target_names = ['REAL', 'FAKE'],\n",
    "                      title        = \"Confusion Matrix\")\n",
    "print('')\n",
    "\n",
    "# SVM on Character Level TF IDF Vectors\n",
    "accuracy, predictions = train_model(svm.SVC(), train_tfidf_ngram_chars, train_labels, valid_tfidf_ngram_chars)\n",
    "print (\"SVM, CharLevel Vectors: \", accuracy)\n",
    "print_metrics(valid_labels, predictions)\n",
    "cv_acc(svm.SVC(), train_tfidf_ngram_chars, train_labels, 10, 2019)\n",
    "print('')\n",
    "plot_confusion_matrix(y_true = valid_labels,\n",
    "                      y_pred = predictions,\n",
    "                      normalize    = False,\n",
    "                      target_names = ['REAL', 'FAKE'],\n",
    "                      title        = \"Confusion Matrix\")\n",
    "print('')"
   ]
  },
  {
   "cell_type": "markdown",
   "metadata": {
    "colab_type": "text",
    "id": "iRq7hMudK0ZY"
   },
   "source": [
    "Support Vector Machines don't seem adapted to our dataset, with terrible accuracy scores, not exceeding **0.777 in Cross-Validation**. We also can note that the TF-IDF formats give the same results.  "
   ]
  },
  {
   "cell_type": "markdown",
   "metadata": {
    "colab_type": "text",
    "id": "M4SjpLWF50PX"
   },
   "source": [
    "### Bagging | Random Forest"
   ]
  },
  {
   "cell_type": "markdown",
   "metadata": {
    "colab_type": "text",
    "id": "bcGns6QhQN_q"
   },
   "source": [
    "Random Forest algorithm is an averaging algorithm based on randomized decision-trees. Each tree in the ensemble is built from a sample drawn with replacement from the training set, and when splitting a node, the best split among a random subset of the features is picked.  \n",
    "\n",
    "For this analysis, we use an extensive Grid Search playing with 6 parameters to find the best model.  "
   ]
  },
  {
   "cell_type": "code",
   "execution_count": 73,
   "metadata": {
    "colab": {
     "base_uri": "https://localhost:8080/",
     "height": 2129
    },
    "colab_type": "code",
    "executionInfo": {
     "elapsed": 1092471,
     "status": "ok",
     "timestamp": 1559379790925,
     "user": {
      "displayName": "Ashley O'Mahony",
      "photoUrl": "https://lh5.googleusercontent.com/-1kukuBnoGG8/AAAAAAAAAAI/AAAAAAAAAEc/SDLV7krtrG8/s64/photo.jpg",
      "userId": "14678637045665485587"
     },
     "user_tz": -120
    },
    "id": "FjCZugOl50X9",
    "outputId": "b604866a-1443-4deb-dbf3-f3c38e388a88",
    "scrolled": false
   },
   "outputs": [
    {
     "name": "stderr",
     "output_type": "stream",
     "text": [
      "/anaconda3/envs/tensorflow/lib/python3.5/site-packages/sklearn/model_selection/_split.py:1943: FutureWarning: You should specify a value for 'cv' instead of relying on the default value. The default value will change from 3 to 5 in version 0.22.\n",
      "  warnings.warn(CV_WARNING, FutureWarning)\n"
     ]
    },
    {
     "name": "stdout",
     "output_type": "stream",
     "text": [
      "RF, Count Vectors:  0.8175\n",
      "F1 score: 0.817\n",
      "Precision: 0.823\n",
      "Recall: 0.821\n",
      "10-fold cross validation average accuracy: 0.787\n",
      "\n",
      "Iteration  1 | Accuracy: 0.79\n",
      "Iteration  2 | Accuracy: 0.81\n",
      "Iteration  3 | Accuracy: 0.83\n",
      "Iteration  4 | Accuracy: 0.77\n",
      "Iteration  5 | Accuracy: 0.76\n",
      "Iteration  6 | Accuracy: 0.82\n",
      "Iteration  7 | Accuracy: 0.75\n",
      "Iteration  8 | Accuracy: 0.79\n",
      "Iteration  9 | Accuracy: 0.75\n",
      "Iteration 10 | Accuracy: 0.81\n",
      "\n"
     ]
    },
    {
     "data": {
      "image/png": "[encoded data removed]",
      "text/plain": [
       "<Figure size 360x216 with 1 Axes>"
      ]
     },
     "metadata": {
      "needs_background": "light"
     },
     "output_type": "display_data"
    },
    {
     "name": "stdout",
     "output_type": "stream",
     "text": [
      "\n"
     ]
    },
    {
     "name": "stderr",
     "output_type": "stream",
     "text": [
      "/anaconda3/envs/tensorflow/lib/python3.5/site-packages/sklearn/model_selection/_split.py:1943: FutureWarning: You should specify a value for 'cv' instead of relying on the default value. The default value will change from 3 to 5 in version 0.22.\n",
      "  warnings.warn(CV_WARNING, FutureWarning)\n"
     ]
    },
    {
     "name": "stdout",
     "output_type": "stream",
     "text": [
      "RF, WordLevel TF-IDF  0.785\n",
      "F1 score: 0.784\n",
      "Precision: 0.800\n",
      "Recall: 0.791\n",
      "10-fold cross validation average accuracy: 0.797\n",
      "\n",
      "Iteration  1 | Accuracy: 0.81\n",
      "Iteration  2 | Accuracy: 0.82\n",
      "Iteration  3 | Accuracy: 0.81\n",
      "Iteration  4 | Accuracy: 0.76\n",
      "Iteration  5 | Accuracy: 0.80\n",
      "Iteration  6 | Accuracy: 0.79\n",
      "Iteration  7 | Accuracy: 0.79\n",
      "Iteration  8 | Accuracy: 0.80\n",
      "Iteration  9 | Accuracy: 0.80\n",
      "Iteration 10 | Accuracy: 0.79\n",
      "\n"
     ]
    },
    {
     "data": {
      "image/png": "[encoded data removed]",
      "text/plain": [
       "<Figure size 360x216 with 1 Axes>"
      ]
     },
     "metadata": {
      "needs_background": "light"
     },
     "output_type": "display_data"
    },
    {
     "name": "stdout",
     "output_type": "stream",
     "text": [
      "\n"
     ]
    },
    {
     "name": "stderr",
     "output_type": "stream",
     "text": [
      "/anaconda3/envs/tensorflow/lib/python3.5/site-packages/sklearn/model_selection/_split.py:1943: FutureWarning: You should specify a value for 'cv' instead of relying on the default value. The default value will change from 3 to 5 in version 0.22.\n",
      "  warnings.warn(CV_WARNING, FutureWarning)\n"
     ]
    },
    {
     "name": "stdout",
     "output_type": "stream",
     "text": [
      "RF, N-Gram Vectors  0.7725\n",
      "F1 score: 0.770\n",
      "Precision: 0.800\n",
      "Recall: 0.780\n",
      "10-fold cross validation average accuracy: 0.771\n",
      "\n",
      "Iteration  1 | Accuracy: 0.76\n",
      "Iteration  2 | Accuracy: 0.81\n",
      "Iteration  3 | Accuracy: 0.78\n",
      "Iteration  4 | Accuracy: 0.78\n",
      "Iteration  5 | Accuracy: 0.79\n",
      "Iteration  6 | Accuracy: 0.78\n",
      "Iteration  7 | Accuracy: 0.76\n",
      "Iteration  8 | Accuracy: 0.78\n",
      "Iteration  9 | Accuracy: 0.78\n",
      "Iteration 10 | Accuracy: 0.70\n",
      "\n"
     ]
    },
    {
     "data": {
      "image/png": "[encoded data removed]",
      "text/plain": [
       "<Figure size 360x216 with 1 Axes>"
      ]
     },
     "metadata": {
      "needs_background": "light"
     },
     "output_type": "display_data"
    },
    {
     "name": "stdout",
     "output_type": "stream",
     "text": [
      "\n"
     ]
    },
    {
     "name": "stderr",
     "output_type": "stream",
     "text": [
      "/anaconda3/envs/tensorflow/lib/python3.5/site-packages/sklearn/ensemble/forest.py:248: FutureWarning: The default value of n_estimators will change from 10 in version 0.20 to 100 in 0.22.\n",
      "  \"10 in version 0.20 to 100 in 0.22.\", FutureWarning)\n"
     ]
    },
    {
     "name": "stdout",
     "output_type": "stream",
     "text": [
      "RF, CharLevel Vectors  0.8625\n",
      "F1 score: 0.862\n",
      "Precision: 0.862\n",
      "Recall: 0.863\n",
      "10-fold cross validation average accuracy: 0.809\n",
      "\n",
      "Iteration  1 | Accuracy: 0.81\n",
      "Iteration  2 | Accuracy: 0.78\n",
      "Iteration  3 | Accuracy: 0.86\n",
      "Iteration  4 | Accuracy: 0.82\n",
      "Iteration  5 | Accuracy: 0.79\n",
      "Iteration  6 | Accuracy: 0.82\n",
      "Iteration  7 | Accuracy: 0.79\n",
      "Iteration  8 | Accuracy: 0.82\n",
      "Iteration  9 | Accuracy: 0.82\n",
      "Iteration 10 | Accuracy: 0.78\n",
      "\n"
     ]
    },
    {
     "data": {
      "image/png": "[encoded data removed]",
      "text/plain": [
       "<Figure size 360x216 with 1 Axes>"
      ]
     },
     "metadata": {
      "needs_background": "light"
     },
     "output_type": "display_data"
    },
    {
     "name": "stdout",
     "output_type": "stream",
     "text": [
      "\n"
     ]
    }
   ],
   "source": [
    "# parameters = {'n_estimators': [4,5,6,7,8,9], \n",
    "#               'max_features': ['log2', 'sqrt','auto'], \n",
    "#               'criterion': ['entropy', 'gini'],\n",
    "#               'max_depth': [2,3,4,5,6,7,8,9,10], \n",
    "#               'min_samples_split': [2,3,4,5,6,7],\n",
    "#               'min_samples_leaf': [1,2,3,4,5,6,7,8]\n",
    "#              }\n",
    "\n",
    "# # RF on Count Vectors\n",
    "# best_model, accuracy, predictions = train_model(RandomForestClassifier(), train_text_count, train_labels, valid_text_count, param=parameters)\n",
    "# print (\"RF, Count Vectors: \", accuracy)\n",
    "# print_metrics(valid_labels, predictions)\n",
    "# cv_acc(best_model, train_text_count, train_labels, 10, 2019)\n",
    "# print('')\n",
    "# plot_confusion_matrix(y_true = valid_labels,\n",
    "#                       y_pred = predictions,\n",
    "#                       normalize    = False,\n",
    "#                       target_names = ['REAL', 'FAKE'],\n",
    "#                       title        = \"Confusion Matrix\")\n",
    "# print('')\n",
    "\n",
    "# # RF on Word Level TF IDF Vectors\n",
    "# best_model, accuracy, predictions = train_model(RandomForestClassifier(), train_tfidf, train_labels, valid_tfidf, param=parameters)\n",
    "# print (\"RF, WordLevel TF-IDF \", accuracy)\n",
    "# print_metrics(valid_labels, predictions)\n",
    "# cv_acc(best_model, train_tfidf, train_labels, 10, 2019)\n",
    "# print('')\n",
    "# plot_confusion_matrix(y_true = valid_labels,\n",
    "#                       y_pred = predictions,\n",
    "#                       normalize    = False,\n",
    "#                       target_names = ['REAL', 'FAKE'],\n",
    "#                       title        = \"Confusion Matrix\")\n",
    "# print('')\n",
    "\n",
    "# # RF on Ngram Level TF IDF Vectors\n",
    "# best_model, accuracy, predictions = train_model(RandomForestClassifier(), train_tfidf_ngram, train_labels, valid_tfidf_ngram, param=parameters)\n",
    "# print (\"RF, N-Gram Vectors \", accuracy)\n",
    "# print_metrics(valid_labels, predictions)\n",
    "# cv_acc(best_model, train_tfidf_ngram, train_labels, 10, 2019)\n",
    "# print('')\n",
    "# plot_confusion_matrix(y_true = valid_labels,\n",
    "#                       y_pred = predictions,\n",
    "#                       normalize    = False,\n",
    "#                       target_names = ['REAL', 'FAKE'],\n",
    "#                       title        = \"Confusion Matrix\")\n",
    "# print('')\n",
    "\n",
    "# # RF on Character Level TF IDF Vectors\n",
    "# accuracy, predictions = train_model(RandomForestClassifier(), train_tfidf_ngram_chars, train_labels, valid_tfidf_ngram_chars)\n",
    "# print (\"RF, CharLevel Vectors \", accuracy)\n",
    "# print_metrics(valid_labels, predictions)\n",
    "# cv_acc(best_model, train_tfidf_ngram_chars, train_labels, 10, 2019)\n",
    "# print('')\n",
    "# plot_confusion_matrix(y_true = valid_labels,\n",
    "#                       y_pred = predictions,\n",
    "#                       normalize    = False,\n",
    "#                       target_names = ['REAL', 'FAKE'],\n",
    "#                       title        = \"Confusion Matrix\")\n",
    "# print('')"
   ]
  },
  {
   "cell_type": "markdown",
   "metadata": {
    "colab_type": "text",
    "id": "u2rxeArjVxV1"
   },
   "source": [
    "With Random Forest, the TF-IDF at Character level gives an accuracy of **0.809 in Cross-Validation**.  "
   ]
  },
  {
   "cell_type": "markdown",
   "metadata": {
    "colab_type": "text",
    "id": "oP357tyC59J1"
   },
   "source": [
    "### XGBoost\n"
   ]
  },
  {
   "cell_type": "markdown",
   "metadata": {
    "colab_type": "text",
    "id": "42N0AsDKWVeh"
   },
   "source": [
    "XGBoost stands for Extreme Gradient Boosting, which is one of the most popular and efficient implementations of the Gradient Boosted Trees algorithm, a supervised learning method that is based on function approximation by optimizing specific loss functions as well as applying several regularization techniques.  \n",
    "\n",
    "For this analysis, we use an extensive Grid Search playing with 5 parameters to find the best model.  "
   ]
  },
  {
   "cell_type": "code",
   "execution_count": 75,
   "metadata": {
    "colab": {},
    "colab_type": "code",
    "id": "DU7dn-eS59Rj",
    "scrolled": false
   },
   "outputs": [
    {
     "name": "stdout",
     "output_type": "stream",
     "text": [
      "Xgb, Count Vectors:  0.8975\n",
      "F1 score: 0.897\n",
      "Precision: 0.898\n",
      "Recall: 0.899\n",
      "10-fold cross validation average accuracy: 0.893\n",
      "\n",
      "Iteration  1 | Accuracy: 0.87\n",
      "Iteration  2 | Accuracy: 0.91\n",
      "Iteration  3 | Accuracy: 0.91\n",
      "Iteration  4 | Accuracy: 0.86\n",
      "Iteration  5 | Accuracy: 0.90\n",
      "Iteration  6 | Accuracy: 0.90\n",
      "Iteration  7 | Accuracy: 0.89\n",
      "Iteration  8 | Accuracy: 0.90\n",
      "Iteration  9 | Accuracy: 0.89\n",
      "Iteration 10 | Accuracy: 0.90\n",
      "\n"
     ]
    },
    {
     "data": {
      "image/png": "[encoded data removed]",
      "text/plain": [
       "<Figure size 360x216 with 1 Axes>"
      ]
     },
     "metadata": {
      "needs_background": "light"
     },
     "output_type": "display_data"
    },
    {
     "name": "stdout",
     "output_type": "stream",
     "text": [
      "\n",
      "Xgb, WordLevel TF-IDF:  0.8825\n",
      "F1 score: 0.882\n",
      "Precision: 0.884\n",
      "Recall: 0.884\n",
      "10-fold cross validation average accuracy: 0.896\n",
      "\n",
      "Iteration  1 | Accuracy: 0.86\n",
      "Iteration  2 | Accuracy: 0.90\n",
      "Iteration  3 | Accuracy: 0.93\n",
      "Iteration  4 | Accuracy: 0.87\n",
      "Iteration  5 | Accuracy: 0.91\n",
      "Iteration  6 | Accuracy: 0.91\n",
      "Iteration  7 | Accuracy: 0.87\n",
      "Iteration  8 | Accuracy: 0.90\n",
      "Iteration  9 | Accuracy: 0.91\n",
      "Iteration 10 | Accuracy: 0.90\n",
      "\n"
     ]
    },
    {
     "data": {
      "image/png": "[encoded data removed]",
      "text/plain": [
       "<Figure size 360x216 with 1 Axes>"
      ]
     },
     "metadata": {
      "needs_background": "light"
     },
     "output_type": "display_data"
    },
    {
     "name": "stdout",
     "output_type": "stream",
     "text": [
      "\n",
      "Xgb, Ngram Vectors:  0.8225\n",
      "F1 score: 0.822\n",
      "Precision: 0.835\n",
      "Recall: 0.828\n",
      "10-fold cross validation average accuracy: 0.837\n",
      "\n",
      "Iteration  1 | Accuracy: 0.81\n",
      "Iteration  2 | Accuracy: 0.85\n",
      "Iteration  3 | Accuracy: 0.89\n",
      "Iteration  4 | Accuracy: 0.82\n",
      "Iteration  5 | Accuracy: 0.84\n",
      "Iteration  6 | Accuracy: 0.86\n",
      "Iteration  7 | Accuracy: 0.81\n",
      "Iteration  8 | Accuracy: 0.82\n",
      "Iteration  9 | Accuracy: 0.84\n",
      "Iteration 10 | Accuracy: 0.83\n",
      "\n"
     ]
    },
    {
     "data": {
      "image/png": "[encoded data removed]",
      "text/plain": [
       "<Figure size 360x216 with 1 Axes>"
      ]
     },
     "metadata": {
      "needs_background": "light"
     },
     "output_type": "display_data"
    },
    {
     "name": "stdout",
     "output_type": "stream",
     "text": [
      "\n",
      "Xgb, CharLevel Vectors:  0.9025\n",
      "F1 score: 0.902\n",
      "Precision: 0.903\n",
      "Recall: 0.904\n",
      "10-fold cross validation average accuracy: 0.899\n",
      "\n",
      "Iteration  1 | Accuracy: 0.88\n",
      "Iteration  2 | Accuracy: 0.89\n",
      "Iteration  3 | Accuracy: 0.92\n",
      "Iteration  4 | Accuracy: 0.90\n",
      "Iteration  5 | Accuracy: 0.90\n",
      "Iteration  6 | Accuracy: 0.91\n",
      "Iteration  7 | Accuracy: 0.89\n",
      "Iteration  8 | Accuracy: 0.91\n",
      "Iteration  9 | Accuracy: 0.89\n",
      "Iteration 10 | Accuracy: 0.91\n",
      "\n"
     ]
    },
    {
     "data": {
      "image/png": "[encoded data removed]",
      "text/plain": [
       "<Figure size 360x216 with 1 Axes>"
      ]
     },
     "metadata": {
      "needs_background": "light"
     },
     "output_type": "display_data"
    },
    {
     "name": "stdout",
     "output_type": "stream",
     "text": [
      "\n"
     ]
    }
   ],
   "source": [
    "# # parameters_xgb = {\n",
    "# #         'min_child_weight': [1, 5, 10],\n",
    "# #         'gamma': [0.5, 1, 1.5, 2, 5],\n",
    "# #         'subsample': [0.6, 0.8, 1.0],\n",
    "# #         'colsample_bytree': [0.6, 0.8, 1.0],\n",
    "# #         'max_depth': [3, 4, 5]\n",
    "# #         }\n",
    "\n",
    "# # Extereme Gradient Boosting on Count Vectors\n",
    "# # best_model,\n",
    "# accuracy, predictions = train_model(xgboost.XGBClassifier(), train_text_count.tocsc(), train_labels, valid_text_count.tocsc())#, param = parameters_xgb)\n",
    "# print (\"Xgb, Count Vectors: \", accuracy)\n",
    "# print_metrics(valid_labels, predictions)\n",
    "# cv_acc(xgboost.XGBClassifier(), train_text_count, train_labels, 10, 2019)\n",
    "# print('')\n",
    "# plot_confusion_matrix(y_true = valid_labels,\n",
    "#                       y_pred = predictions,\n",
    "#                       normalize    = False,\n",
    "#                       target_names = ['REAL', 'FAKE'],\n",
    "#                       title        = \"Confusion Matrix\")\n",
    "# print('')\n",
    "\n",
    "# # Extereme Gradient Boosting on Word Level TF IDF Vectors\n",
    "# # best_model,\n",
    "# accuracy, predictions = train_model(xgboost.XGBClassifier(), train_tfidf.tocsc(), train_labels, valid_tfidf.tocsc())#, param = parameters_xgb)\n",
    "# print (\"Xgb, WordLevel TF-IDF: \", accuracy)\n",
    "# print_metrics(valid_labels, predictions)\n",
    "# cv_acc(xgboost.XGBClassifier(), train_tfidf, train_labels, 10, 2019)\n",
    "# print('')\n",
    "# plot_confusion_matrix(y_true = valid_labels,\n",
    "#                       y_pred = predictions,\n",
    "#                       normalize    = False,\n",
    "#                       target_names = ['REAL', 'FAKE'],\n",
    "#                       title        = \"Confusion Matrix\")\n",
    "# print('')\n",
    "\n",
    "# # Extereme Gradient Boosting on Ngram Level TF IDF Vectors\n",
    "# # best_model,\n",
    "# accuracy, predictions = train_model(xgboost.XGBClassifier(), train_tfidf_ngram.tocsc(), train_labels, valid_tfidf_ngram.tocsc())#, param = parameters_xgb)\n",
    "# print (\"Xgb, Ngram Vectors: \", accuracy)\n",
    "# print_metrics(valid_labels, predictions)\n",
    "# cv_acc(xgboost.XGBClassifier(), train_tfidf_ngram, train_labels, 10, 2019)\n",
    "# print('')\n",
    "# plot_confusion_matrix(y_true = valid_labels,\n",
    "#                       y_pred = predictions,\n",
    "#                       normalize    = False,\n",
    "#                       target_names = ['REAL', 'FAKE'],\n",
    "#                       title        = \"Confusion Matrix\")\n",
    "# print('')\n",
    "\n",
    "# # Extereme Gradient Boosting on Character Level TF IDF Vectors\n",
    "# # best_model,\n",
    "# accuracy, predictions = train_model(xgboost.XGBClassifier(), train_tfidf_ngram_chars.tocsc(), train_labels, valid_tfidf_ngram_chars.tocsc())#, param = parameters_xgb)\n",
    "# print (\"Xgb, CharLevel Vectors: \", accuracy)\n",
    "# print_metrics(valid_labels, predictions)\n",
    "# cv_acc(xgboost.XGBClassifier(), train_tfidf_ngram_chars, train_labels, 10, 2019)\n",
    "# print('')\n",
    "# plot_confusion_matrix(y_true = valid_labels,\n",
    "#                       y_pred = predictions,\n",
    "#                       normalize    = False,\n",
    "#                       target_names = ['REAL', 'FAKE'],\n",
    "#                       title        = \"Confusion Matrix\")\n",
    "# print('')"
   ]
  },
  {
   "cell_type": "markdown",
   "metadata": {
    "colab_type": "text",
    "id": "crOwMf41YSUd"
   },
   "source": [
    "With XGBoost, the **TF-IDF at Character level** provides the best result with an Accuracy of **0.899 in Cross-Validation**.  "
   ]
  },
  {
   "cell_type": "markdown",
   "metadata": {
    "colab_type": "text",
    "id": "gBAyypdmFJqD"
   },
   "source": [
    "## Deep Learning"
   ]
  },
  {
   "cell_type": "markdown",
   "metadata": {
    "colab_type": "text",
    "id": "v_n5ywOsIpno"
   },
   "source": [
    "At this point, we decide to try more advanced algorithms included in the **Deep Learning** family.  \n",
    "\n",
    "We first define a few things:  \n",
    "\n",
    "1. A function called **train_model_nn** that defines the training process of all the algorithms in an easier and more reproducable way.  \n",
    "2. Creating **text sequences** for Train and Test sets out of the already cleaned text, which is the receivable format for neural networks.   \n",
    "3. Filtering the stop words out of the tokens"
   ]
  },
  {
   "cell_type": "markdown",
   "metadata": {
    "colab_type": "text",
    "id": "vMlfhNAfkyri"
   },
   "source": [
    "### Training Pipeline for Neural Network"
   ]
  },
  {
   "cell_type": "code",
   "execution_count": 44,
   "metadata": {
    "colab": {},
    "colab_type": "code",
    "id": "F6sVO3KCmnI9"
   },
   "outputs": [],
   "source": [
    "def train_model_nn(classifier, feature_vector_train, label, feature_vector_valid, is_neural_net=False, n_epochs=4):\n",
    "    # fit the training dataset on the classifier\n",
    "    classifier.fit(feature_vector_train, label,  epochs=n_epochs)\n",
    "    \n",
    "    # predict the labels on validation dataset\n",
    "    predictions = classifier.predict(feature_vector_valid)\n",
    "    \n",
    "    if is_neural_net:\n",
    "        predictions = predictions.argmax(axis=-1)\n",
    "    \n",
    "    return metrics.accuracy_score(predictions, valid_labels), predictions"
   ]
  },
  {
   "cell_type": "markdown",
   "metadata": {
    "colab_type": "text",
    "id": "VISJmqrvk8f9"
   },
   "source": [
    "### Text Sequences"
   ]
  },
  {
   "cell_type": "code",
   "execution_count": 45,
   "metadata": {
    "colab": {},
    "colab_type": "code",
    "id": "ADrxhk_sIlWL"
   },
   "outputs": [],
   "source": [
    "max_features = 20000\n",
    "tokenizer = Tokenizer(num_words=max_features)\n",
    "tokenizer.fit_on_texts(train_news_fixed['full_text'])\n",
    "list_tokenized_train = tokenizer.texts_to_sequences(train_news_fixed['full_text'])\n",
    "\n",
    "maxlen = 200\n",
    "X_t = pad_sequences(list_tokenized_train, maxlen=maxlen)\n",
    "y = train_news_fixed['label']"
   ]
  },
  {
   "cell_type": "markdown",
   "metadata": {
    "colab_type": "text",
    "id": "mMFNdq18k_fS"
   },
   "source": [
    "### Filtering Stop Words"
   ]
  },
  {
   "cell_type": "code",
   "execution_count": 46,
   "metadata": {
    "colab": {},
    "colab_type": "code",
    "id": "BPUFuYpBQuu5"
   },
   "outputs": [
    {
     "data": {
      "text/html": [
       "<div>\n",
       "<style scoped>\n",
       "    .dataframe tbody tr th:only-of-type {\n",
       "        vertical-align: middle;\n",
       "    }\n",
       "\n",
       "    .dataframe tbody tr th {\n",
       "        vertical-align: top;\n",
       "    }\n",
       "\n",
       "    .dataframe thead th {\n",
       "        text-align: right;\n",
       "    }\n",
       "</style>\n",
       "<table border=\"1\" class=\"dataframe\">\n",
       "  <thead>\n",
       "    <tr style=\"text-align: right;\">\n",
       "      <th></th>\n",
       "      <th>ID</th>\n",
       "      <th>title</th>\n",
       "      <th>text</th>\n",
       "      <th>label</th>\n",
       "      <th>X1</th>\n",
       "      <th>X2</th>\n",
       "      <th>full_text</th>\n",
       "      <th>char_count</th>\n",
       "      <th>word_count</th>\n",
       "      <th>word_density</th>\n",
       "      <th>punctuation_count</th>\n",
       "      <th>title_word_count</th>\n",
       "      <th>upper_case_word_count</th>\n",
       "      <th>noun_count</th>\n",
       "      <th>verb_count</th>\n",
       "      <th>adj_count</th>\n",
       "      <th>adv_count</th>\n",
       "      <th>pron_count</th>\n",
       "      <th>tokens</th>\n",
       "    </tr>\n",
       "  </thead>\n",
       "  <tbody>\n",
       "    <tr>\n",
       "      <th>0</th>\n",
       "      <td>8476</td>\n",
       "      <td>You Can Smell Hillary’s Fear</td>\n",
       "      <td>Daniel Greenfield, a Shillman Journalism Fello...</td>\n",
       "      <td>1</td>\n",
       "      <td>NaN</td>\n",
       "      <td>NaN</td>\n",
       "      <td>you can smell hillary fear daniel greenfield s...</td>\n",
       "      <td>7165</td>\n",
       "      <td>1264</td>\n",
       "      <td>5.664032</td>\n",
       "      <td>0</td>\n",
       "      <td>4</td>\n",
       "      <td>0</td>\n",
       "      <td>0</td>\n",
       "      <td>0</td>\n",
       "      <td>0</td>\n",
       "      <td>0</td>\n",
       "      <td>0</td>\n",
       "      <td>[smell, hillary, fear, daniel, greenfield, shi...</td>\n",
       "    </tr>\n",
       "    <tr>\n",
       "      <th>1</th>\n",
       "      <td>10294</td>\n",
       "      <td>Watch The Exact Moment Paul Ryan Committed Pol...</td>\n",
       "      <td>Google Pinterest Digg Linkedin Reddit Stumbleu...</td>\n",
       "      <td>1</td>\n",
       "      <td>NaN</td>\n",
       "      <td>NaN</td>\n",
       "      <td>watch the exact moment paul ryan committed pol...</td>\n",
       "      <td>2580</td>\n",
       "      <td>448</td>\n",
       "      <td>5.746102</td>\n",
       "      <td>0</td>\n",
       "      <td>13</td>\n",
       "      <td>0</td>\n",
       "      <td>0</td>\n",
       "      <td>0</td>\n",
       "      <td>0</td>\n",
       "      <td>0</td>\n",
       "      <td>0</td>\n",
       "      <td>[watch, exact, moment, paul, ryan, committed, ...</td>\n",
       "    </tr>\n",
       "    <tr>\n",
       "      <th>2</th>\n",
       "      <td>3608</td>\n",
       "      <td>Kerry to go to Paris in gesture of sympathy</td>\n",
       "      <td>U.S. Secretary of State John F. Kerry said Mon...</td>\n",
       "      <td>0</td>\n",
       "      <td>NaN</td>\n",
       "      <td>NaN</td>\n",
       "      <td>kerry to go to paris in gesture of sympathy s ...</td>\n",
       "      <td>2455</td>\n",
       "      <td>429</td>\n",
       "      <td>5.709302</td>\n",
       "      <td>0</td>\n",
       "      <td>2</td>\n",
       "      <td>0</td>\n",
       "      <td>0</td>\n",
       "      <td>0</td>\n",
       "      <td>0</td>\n",
       "      <td>0</td>\n",
       "      <td>0</td>\n",
       "      <td>[kerry, go, paris, gesture, sympathy, secretar...</td>\n",
       "    </tr>\n",
       "    <tr>\n",
       "      <th>3</th>\n",
       "      <td>10142</td>\n",
       "      <td>Bernie supporters on Twitter erupt in anger ag...</td>\n",
       "      <td>— Kaydee King (@KaydeeKing) November 9, 2016 T...</td>\n",
       "      <td>1</td>\n",
       "      <td>NaN</td>\n",
       "      <td>NaN</td>\n",
       "      <td>bernie supporter on twitter erupt in anger aga...</td>\n",
       "      <td>2571</td>\n",
       "      <td>415</td>\n",
       "      <td>6.180288</td>\n",
       "      <td>0</td>\n",
       "      <td>3</td>\n",
       "      <td>0</td>\n",
       "      <td>0</td>\n",
       "      <td>0</td>\n",
       "      <td>0</td>\n",
       "      <td>0</td>\n",
       "      <td>0</td>\n",
       "      <td>[bernie, supporter, twitter, erupt, anger, dnc...</td>\n",
       "    </tr>\n",
       "    <tr>\n",
       "      <th>4</th>\n",
       "      <td>875</td>\n",
       "      <td>The Battle of New York: Why This Primary Matters</td>\n",
       "      <td>It's primary day in New York and front-runners...</td>\n",
       "      <td>0</td>\n",
       "      <td>NaN</td>\n",
       "      <td>NaN</td>\n",
       "      <td>the battle of new york why this primary matter...</td>\n",
       "      <td>1761</td>\n",
       "      <td>328</td>\n",
       "      <td>5.352584</td>\n",
       "      <td>0</td>\n",
       "      <td>8</td>\n",
       "      <td>0</td>\n",
       "      <td>0</td>\n",
       "      <td>0</td>\n",
       "      <td>0</td>\n",
       "      <td>0</td>\n",
       "      <td>0</td>\n",
       "      <td>[battle, new, york, primary, matter, primary, ...</td>\n",
       "    </tr>\n",
       "  </tbody>\n",
       "</table>\n",
       "</div>"
      ],
      "text/plain": [
       "      ID                                              title  \\\n",
       "0   8476                       You Can Smell Hillary’s Fear   \n",
       "1  10294  Watch The Exact Moment Paul Ryan Committed Pol...   \n",
       "2   3608        Kerry to go to Paris in gesture of sympathy   \n",
       "3  10142  Bernie supporters on Twitter erupt in anger ag...   \n",
       "4    875   The Battle of New York: Why This Primary Matters   \n",
       "\n",
       "                                                text  label   X1   X2  \\\n",
       "0  Daniel Greenfield, a Shillman Journalism Fello...      1  NaN  NaN   \n",
       "1  Google Pinterest Digg Linkedin Reddit Stumbleu...      1  NaN  NaN   \n",
       "2  U.S. Secretary of State John F. Kerry said Mon...      0  NaN  NaN   \n",
       "3  — Kaydee King (@KaydeeKing) November 9, 2016 T...      1  NaN  NaN   \n",
       "4  It's primary day in New York and front-runners...      0  NaN  NaN   \n",
       "\n",
       "                                           full_text  char_count  word_count  \\\n",
       "0  you can smell hillary fear daniel greenfield s...        7165        1264   \n",
       "1  watch the exact moment paul ryan committed pol...        2580         448   \n",
       "2  kerry to go to paris in gesture of sympathy s ...        2455         429   \n",
       "3  bernie supporter on twitter erupt in anger aga...        2571         415   \n",
       "4  the battle of new york why this primary matter...        1761         328   \n",
       "\n",
       "   word_density  punctuation_count  title_word_count  upper_case_word_count  \\\n",
       "0      5.664032                  0                 4                      0   \n",
       "1      5.746102                  0                13                      0   \n",
       "2      5.709302                  0                 2                      0   \n",
       "3      6.180288                  0                 3                      0   \n",
       "4      5.352584                  0                 8                      0   \n",
       "\n",
       "   noun_count  verb_count  adj_count  adv_count  pron_count  \\\n",
       "0           0           0          0          0           0   \n",
       "1           0           0          0          0           0   \n",
       "2           0           0          0          0           0   \n",
       "3           0           0          0          0           0   \n",
       "4           0           0          0          0           0   \n",
       "\n",
       "                                              tokens  \n",
       "0  [smell, hillary, fear, daniel, greenfield, shi...  \n",
       "1  [watch, exact, moment, paul, ryan, committed, ...  \n",
       "2  [kerry, go, paris, gesture, sympathy, secretar...  \n",
       "3  [bernie, supporter, twitter, erupt, anger, dnc...  \n",
       "4  [battle, new, york, primary, matter, primary, ...  "
      ]
     },
     "execution_count": 46,
     "metadata": {},
     "output_type": "execute_result"
    }
   ],
   "source": [
    "stop_words = set(stopwords.words('english'))\n",
    "\n",
    "tokenizer = RegexpTokenizer(r'\\w+')\n",
    "clean_train_comments = train_news_fixed.copy()\n",
    "clean_train_comments['full_text'] = clean_train_comments['full_text'].astype('str') \n",
    "clean_train_comments.dtypes\n",
    "clean_train_comments[\"tokens\"] = clean_train_comments[\"full_text\"].apply(tokenizer.tokenize)\n",
    "# delete Stop Words\n",
    "clean_train_comments[\"tokens\"] = clean_train_comments[\"tokens\"].apply(lambda vec: [word for word in vec if word not in stop_words])\n",
    "clean_train_comments.head()"
   ]
  },
  {
   "cell_type": "markdown",
   "metadata": {
    "colab_type": "text",
    "id": "OdwMMI_6lYbK"
   },
   "source": [
    "For Neural Networks, we need to format the datasets slightly differently: the tokens are included in a separate column. We created new datasets with this specificity.  "
   ]
  },
  {
   "cell_type": "code",
   "execution_count": 47,
   "metadata": {
    "colab": {},
    "colab_type": "code",
    "id": "mF4lWa-fQuu7"
   },
   "outputs": [
    {
     "name": "stdout",
     "output_type": "stream",
     "text": [
      "1828773 words total, with a vocabulary size of 49659\n",
      "Max sentence length is 6034\n"
     ]
    }
   ],
   "source": [
    "all_training_words = [word for tokens in clean_train_comments[\"tokens\"] for word in tokens]\n",
    "training_sentence_lengths = [len(tokens) for tokens in clean_train_comments[\"tokens\"]]\n",
    "TRAINING_VOCAB = sorted(list(set(all_training_words)))\n",
    "print(\"%s words total, with a vocabulary size of %s\" % (len(all_training_words), len(TRAINING_VOCAB)))\n",
    "print(\"Max sentence length is %s\" % max(training_sentence_lengths))"
   ]
  },
  {
   "cell_type": "code",
   "execution_count": 48,
   "metadata": {
    "colab": {},
    "colab_type": "code",
    "id": "Fg9sm_-4Quu9"
   },
   "outputs": [
    {
     "data": {
      "text/html": [
       "<div>\n",
       "<style scoped>\n",
       "    .dataframe tbody tr th:only-of-type {\n",
       "        vertical-align: middle;\n",
       "    }\n",
       "\n",
       "    .dataframe tbody tr th {\n",
       "        vertical-align: top;\n",
       "    }\n",
       "\n",
       "    .dataframe thead th {\n",
       "        text-align: right;\n",
       "    }\n",
       "</style>\n",
       "<table border=\"1\" class=\"dataframe\">\n",
       "  <thead>\n",
       "    <tr style=\"text-align: right;\">\n",
       "      <th></th>\n",
       "      <th>ID</th>\n",
       "      <th>title</th>\n",
       "      <th>text</th>\n",
       "      <th>full_text</th>\n",
       "      <th>char_count</th>\n",
       "      <th>word_count</th>\n",
       "      <th>word_density</th>\n",
       "      <th>punctuation_count</th>\n",
       "      <th>title_word_count</th>\n",
       "      <th>upper_case_word_count</th>\n",
       "      <th>noun_count</th>\n",
       "      <th>verb_count</th>\n",
       "      <th>adj_count</th>\n",
       "      <th>adv_count</th>\n",
       "      <th>pron_count</th>\n",
       "      <th>tokens</th>\n",
       "    </tr>\n",
       "  </thead>\n",
       "  <tbody>\n",
       "    <tr>\n",
       "      <th>0</th>\n",
       "      <td>10498</td>\n",
       "      <td>September New Homes Sales Rise——-Back To 1992 ...</td>\n",
       "      <td>September New Homes Sales Rise Back To 1992 Le...</td>\n",
       "      <td>september new home sale rise back to 1992 leve...</td>\n",
       "      <td>549</td>\n",
       "      <td>91</td>\n",
       "      <td>5.967391</td>\n",
       "      <td>0</td>\n",
       "      <td>7</td>\n",
       "      <td>0</td>\n",
       "      <td>0</td>\n",
       "      <td>0</td>\n",
       "      <td>0</td>\n",
       "      <td>0</td>\n",
       "      <td>0</td>\n",
       "      <td>[september, new, home, sale, rise, back, 1992,...</td>\n",
       "    </tr>\n",
       "    <tr>\n",
       "      <th>1</th>\n",
       "      <td>2439</td>\n",
       "      <td>Why The Obamacare Doomsday Cult Can't Admit It...</td>\n",
       "      <td>But when Congress debated and passed the Patie...</td>\n",
       "      <td>why the obamacare doomsday cult can admit it w...</td>\n",
       "      <td>3212</td>\n",
       "      <td>566</td>\n",
       "      <td>5.664903</td>\n",
       "      <td>0</td>\n",
       "      <td>7</td>\n",
       "      <td>0</td>\n",
       "      <td>0</td>\n",
       "      <td>0</td>\n",
       "      <td>0</td>\n",
       "      <td>0</td>\n",
       "      <td>0</td>\n",
       "      <td>[obamacare, doomsday, cult, admit, wrong, cong...</td>\n",
       "    </tr>\n",
       "    <tr>\n",
       "      <th>2</th>\n",
       "      <td>864</td>\n",
       "      <td>Sanders, Cruz resist pressure after NY losses,...</td>\n",
       "      <td>The Bernie Sanders and Ted Cruz campaigns vowe...</td>\n",
       "      <td>sander cruz resist pressure after ny loss vow ...</td>\n",
       "      <td>4519</td>\n",
       "      <td>781</td>\n",
       "      <td>5.778772</td>\n",
       "      <td>0</td>\n",
       "      <td>2</td>\n",
       "      <td>0</td>\n",
       "      <td>0</td>\n",
       "      <td>0</td>\n",
       "      <td>0</td>\n",
       "      <td>0</td>\n",
       "      <td>0</td>\n",
       "      <td>[sander, cruz, resist, pressure, ny, loss, vow...</td>\n",
       "    </tr>\n",
       "    <tr>\n",
       "      <th>3</th>\n",
       "      <td>4128</td>\n",
       "      <td>Surviving escaped prisoner likely fatigued and...</td>\n",
       "      <td>Police searching for the second of two escaped...</td>\n",
       "      <td>surviving escaped prisoner likely fatigued and...</td>\n",
       "      <td>6017</td>\n",
       "      <td>1045</td>\n",
       "      <td>5.752390</td>\n",
       "      <td>0</td>\n",
       "      <td>1</td>\n",
       "      <td>0</td>\n",
       "      <td>0</td>\n",
       "      <td>0</td>\n",
       "      <td>0</td>\n",
       "      <td>0</td>\n",
       "      <td>0</td>\n",
       "      <td>[surviving, escaped, prisoner, likely, fatigue...</td>\n",
       "    </tr>\n",
       "    <tr>\n",
       "      <th>4</th>\n",
       "      <td>662</td>\n",
       "      <td>Clinton and Sanders neck and neck in Californi...</td>\n",
       "      <td>No matter who wins California's 475 delegates ...</td>\n",
       "      <td>clinton and sander neck and neck in california...</td>\n",
       "      <td>3349</td>\n",
       "      <td>570</td>\n",
       "      <td>5.865149</td>\n",
       "      <td>0</td>\n",
       "      <td>3</td>\n",
       "      <td>0</td>\n",
       "      <td>0</td>\n",
       "      <td>0</td>\n",
       "      <td>0</td>\n",
       "      <td>0</td>\n",
       "      <td>0</td>\n",
       "      <td>[clinton, sander, neck, neck, california, prim...</td>\n",
       "    </tr>\n",
       "  </tbody>\n",
       "</table>\n",
       "</div>"
      ],
      "text/plain": [
       "      ID                                              title  \\\n",
       "0  10498  September New Homes Sales Rise——-Back To 1992 ...   \n",
       "1   2439  Why The Obamacare Doomsday Cult Can't Admit It...   \n",
       "2    864  Sanders, Cruz resist pressure after NY losses,...   \n",
       "3   4128  Surviving escaped prisoner likely fatigued and...   \n",
       "4    662  Clinton and Sanders neck and neck in Californi...   \n",
       "\n",
       "                                                text  \\\n",
       "0  September New Homes Sales Rise Back To 1992 Le...   \n",
       "1  But when Congress debated and passed the Patie...   \n",
       "2  The Bernie Sanders and Ted Cruz campaigns vowe...   \n",
       "3  Police searching for the second of two escaped...   \n",
       "4  No matter who wins California's 475 delegates ...   \n",
       "\n",
       "                                           full_text  char_count  word_count  \\\n",
       "0  september new home sale rise back to 1992 leve...         549          91   \n",
       "1  why the obamacare doomsday cult can admit it w...        3212         566   \n",
       "2  sander cruz resist pressure after ny loss vow ...        4519         781   \n",
       "3  surviving escaped prisoner likely fatigued and...        6017        1045   \n",
       "4  clinton and sander neck and neck in california...        3349         570   \n",
       "\n",
       "   word_density  punctuation_count  title_word_count  upper_case_word_count  \\\n",
       "0      5.967391                  0                 7                      0   \n",
       "1      5.664903                  0                 7                      0   \n",
       "2      5.778772                  0                 2                      0   \n",
       "3      5.752390                  0                 1                      0   \n",
       "4      5.865149                  0                 3                      0   \n",
       "\n",
       "   noun_count  verb_count  adj_count  adv_count  pron_count  \\\n",
       "0           0           0          0          0           0   \n",
       "1           0           0          0          0           0   \n",
       "2           0           0          0          0           0   \n",
       "3           0           0          0          0           0   \n",
       "4           0           0          0          0           0   \n",
       "\n",
       "                                              tokens  \n",
       "0  [september, new, home, sale, rise, back, 1992,...  \n",
       "1  [obamacare, doomsday, cult, admit, wrong, cong...  \n",
       "2  [sander, cruz, resist, pressure, ny, loss, vow...  \n",
       "3  [surviving, escaped, prisoner, likely, fatigue...  \n",
       "4  [clinton, sander, neck, neck, california, prim...  "
      ]
     },
     "execution_count": 48,
     "metadata": {},
     "output_type": "execute_result"
    }
   ],
   "source": [
    "clean_test_comments = test_news_fixed.copy()\n",
    "clean_test_comments['full_text'] = clean_test_comments['full_text'].astype('str') \n",
    "clean_test_comments.dtypes\n",
    "clean_test_comments[\"tokens\"] = clean_test_comments[\"full_text\"].apply(tokenizer.tokenize)\n",
    "# delete Stop Words\n",
    "clean_test_comments[\"tokens\"] = clean_test_comments[\"tokens\"].apply(lambda vec: [word for word in vec if word not in stop_words])\n",
    "clean_test_comments.head()"
   ]
  },
  {
   "cell_type": "code",
   "execution_count": 49,
   "metadata": {
    "colab": {},
    "colab_type": "code",
    "id": "F5IVRAyDQuu-"
   },
   "outputs": [
    {
     "name": "stdout",
     "output_type": "stream",
     "text": [
      "1053514 words total, with a vocabulary size of 39783\n",
      "Max sentence length is 5920\n"
     ]
    }
   ],
   "source": [
    "all_test_words = [word for tokens in clean_test_comments[\"tokens\"] for word in tokens]\n",
    "test_sentence_lengths = [len(tokens) for tokens in clean_test_comments[\"tokens\"]]\n",
    "TEST_VOCAB = sorted(list(set(all_test_words)))\n",
    "print(\"%s words total, with a vocabulary size of %s\" % (len(all_test_words), len(TEST_VOCAB)))\n",
    "print(\"Max sentence length is %s\" % max(test_sentence_lengths))"
   ]
  },
  {
   "cell_type": "markdown",
   "metadata": {
    "colab_type": "text",
    "id": "E9mOI_-1JzEo"
   },
   "source": [
    "A newer technique that we want to try with the Neural Nets is the **Word Embeddings Technique**.  \n",
    "\n",
    "We are using here the predefined word embedding vocabulary of [Google](https://drive.google.com/file/d/0B7XkCwpI5KDYNlNUTTlSS21pQmM/edit?usp=sharing).\n",
    "\n",
    "</br>\n",
    "\n",
    "A *word embedding* is a way of representing words and documents using a dense vector. The position of a word within the vector space is learned from text and is based on the words that surround the word when it is used.  \n",
    "\n",
    "Word embeddings can be trained using the input corpus itself or can be generated using pre-trained word embeddings such as [Glove](https://nlp.stanford.edu/projects/glove/), [FastText](https://fasttext.cc/), and [Word2Vec](https://code.google.com/archive/p/word2vec/). Any one of them can be downloaded and used as Transfer Learning.  \n",
    "\n",
    "</br>\n",
    "\n",
    "There are four essential steps to use pre-trained word embeddings:\n",
    "\n",
    "1. Loading the **pre-trained word embeddings**.\n",
    "2. Creating a **tokenizer object**.\n",
    "3. Transforming text documents to **sequence of tokens** and pad them.\n",
    "4. Create a **mapping of token** and their respective embeddings."
   ]
  },
  {
   "cell_type": "code",
   "execution_count": 50,
   "metadata": {
    "colab": {},
    "colab_type": "code",
    "id": "ViQgtSJsQMXf"
   },
   "outputs": [],
   "source": [
    "# # Loading the Google News Vector file from Google Drive\n",
    "# # TO UPDATE BEFORE EXECUTING\n",
    "# word2vec_path = \"/Users/Ashley/Clouds/Google Drive IE/GoogleNews-vectors-negative300.bin\"\n",
    "# word2vec = gensim.models.KeyedVectors.load_word2vec_format(word2vec_path, binary=True)\n",
    "\n",
    "# def get_average_word2vec(tokens_list, vector, generate_missing=False, k=300):\n",
    "#     if len(tokens_list)<1:\n",
    "#         return np.zeros(k)\n",
    "#     if generate_missing:\n",
    "#         vectorized = [vector[word] if word in vector else np.random.rand(k) for word in tokens_list]\n",
    "#     else:\n",
    "#         vectorized = [vector[word] if word in vector else np.zeros(k) for word in tokens_list]\n",
    "#     length = len(vectorized)\n",
    "#     summed = np.sum(vectorized, axis=0)\n",
    "#     averaged = np.divide(summed, length)\n",
    "#     return averaged\n",
    "\n",
    "# def get_word2vec_embeddings(vectors, clean_comments, generate_missing=False):\n",
    "#     embeddings = clean_comments['tokens'].apply(lambda x: get_average_word2vec(x, vectors, \n",
    "#                                                                                 generate_missing=generate_missing))\n",
    "#     return list(embeddings)"
   ]
  },
  {
   "cell_type": "code",
   "execution_count": 51,
   "metadata": {
    "colab": {},
    "colab_type": "code",
    "id": "oo2c6Q9cQMXi"
   },
   "outputs": [],
   "source": [
    "# training_embeddings = get_word2vec_embeddings(word2vec, clean_train_comments, generate_missing=True)\n",
    "# # test_embeddings = get_word2vec_embeddings(word2vec, clean_test_comments, generate_missing=True)"
   ]
  },
  {
   "cell_type": "code",
   "execution_count": 52,
   "metadata": {
    "colab": {},
    "colab_type": "code",
    "id": "7nhs4HIaQMXj"
   },
   "outputs": [
    {
     "name": "stdout",
     "output_type": "stream",
     "text": [
      "Found 49765 unique tokens.\n",
      "(49766, 300)\n"
     ]
    }
   ],
   "source": [
    "# EMBEDDING_DIM = 300 # how big is each word vector\n",
    "# MAX_VOCAB_SIZE = 40000 # how many unique words to use (i.e num rows in embedding vector)\n",
    "# MAX_SEQUENCE_LENGTH = 200 # max number of words in a comment to use\n",
    "\n",
    "# tokenizer = Tokenizer(num_words=MAX_VOCAB_SIZE, lower=True, char_level=False)\n",
    "# tokenizer.fit_on_texts(clean_train_comments[\"full_text\"].tolist())\n",
    "# training_sequences = tokenizer.texts_to_sequences(clean_train_comments[\"full_text\"].tolist())\n",
    "\n",
    "# train_word_index = tokenizer.word_index\n",
    "# print('Found %s unique tokens.' % len(train_word_index))\n",
    "\n",
    "# train_cnn_data = pad_sequences(training_sequences, maxlen=MAX_SEQUENCE_LENGTH)\n",
    "\n",
    "# train_embedding_weights = np.zeros((len(train_word_index)+1, EMBEDDING_DIM))\n",
    "# for word,index in train_word_index.items():\n",
    "#     train_embedding_weights[index,:] = word2vec[word] if word in word2vec else np.random.rand(EMBEDDING_DIM)\n",
    "# print(train_embedding_weights.shape)"
   ]
  },
  {
   "cell_type": "markdown",
   "metadata": {
    "colab_type": "text",
    "id": "z5nRk-mZKKMB"
   },
   "source": [
    "We will try different Deep Learning algorithms with this dataset:  \n",
    "\n",
    "* Convolutional Neural Network with Embeddings\n",
    "* Recurrent Neural Network with Long Short Term Memory\n",
    "* Recurrent Neural Network | Gated Recurrent Unit\n",
    "* Bi-directional Recurrent Neural Network\n",
    "* Recurrent Convolutional Neural Network\n",
    "* Shallow Neural Network\n",
    "* Bi-directional Long Short Term Memory  "
   ]
  },
  {
   "cell_type": "markdown",
   "metadata": {
    "colab_type": "text",
    "id": "j-H_Gj8dFSHx"
   },
   "source": [
    "### Convolutional Neural Networks | Embeddings"
   ]
  },
  {
   "cell_type": "markdown",
   "metadata": {
    "colab_type": "text",
    "id": "-FnpC5bTra1q"
   },
   "source": [
    "Convolutional Neural Networks consist in one or more convolutional layers, pooling or fully connected, and uses a variation of multilayer perceptrons. Convolutional layers use a convolution operation to the input passing the result to the next layer. This operation allows the network to be deeper with much fewer parameters.  "
   ]
  },
  {
   "cell_type": "code",
   "execution_count": 53,
   "metadata": {
    "colab": {},
    "colab_type": "code",
    "id": "9AKnQogZFJ1H",
    "scrolled": false
   },
   "outputs": [
    {
     "name": "stdout",
     "output_type": "stream",
     "text": [
      "WARNING:tensorflow:From /anaconda3/envs/tensorflow/lib/python3.5/site-packages/tensorflow/python/framework/op_def_library.py:263: colocate_with (from tensorflow.python.framework.ops) is deprecated and will be removed in a future version.\n",
      "Instructions for updating:\n",
      "Colocations handled automatically by placer.\n",
      "WARNING:tensorflow:From /anaconda3/envs/tensorflow/lib/python3.5/site-packages/keras/backend/tensorflow_backend.py:3445: calling dropout (from tensorflow.python.ops.nn_ops) with keep_prob is deprecated and will be removed in a future version.\n",
      "Instructions for updating:\n",
      "Please use `rate` instead of `keep_prob`. Rate should be set to `rate = 1 - keep_prob`.\n",
      "WARNING:tensorflow:From /anaconda3/envs/tensorflow/lib/python3.5/site-packages/tensorflow/python/ops/math_ops.py:3066: to_int32 (from tensorflow.python.ops.math_ops) is deprecated and will be removed in a future version.\n",
      "Instructions for updating:\n",
      "Use tf.cast instead.\n",
      "WARNING:tensorflow:From /anaconda3/envs/tensorflow/lib/python3.5/site-packages/tensorflow/python/ops/math_grad.py:102: div (from tensorflow.python.ops.math_ops) is deprecated and will be removed in a future version.\n",
      "Instructions for updating:\n",
      "Deprecated in favor of operator or tf.math.divide.\n",
      "Train on 3599 samples, validate on 400 samples\n",
      "Epoch 1/10\n",
      "3599/3599 [==============================] - 8s 2ms/step - loss: 0.7456 - acc: 0.5235 - val_loss: 0.6664 - val_acc: 0.6025\n",
      "Epoch 2/10\n",
      "3599/3599 [==============================] - 6s 2ms/step - loss: 0.6536 - acc: 0.6132 - val_loss: 0.6080 - val_acc: 0.6825\n",
      "Epoch 3/10\n",
      "3599/3599 [==============================] - 6s 2ms/step - loss: 0.5662 - acc: 0.7099 - val_loss: 0.5341 - val_acc: 0.7350\n",
      "Epoch 4/10\n",
      "3599/3599 [==============================] - 6s 2ms/step - loss: 0.4736 - acc: 0.7774 - val_loss: 0.4453 - val_acc: 0.8000\n",
      "Epoch 5/10\n",
      "3599/3599 [==============================] - 6s 2ms/step - loss: 0.3965 - acc: 0.8244 - val_loss: 0.3789 - val_acc: 0.8350\n",
      "Epoch 6/10\n",
      "3599/3599 [==============================] - 6s 2ms/step - loss: 0.3439 - acc: 0.8516 - val_loss: 0.3536 - val_acc: 0.8400\n",
      "Epoch 7/10\n",
      "3599/3599 [==============================] - 6s 2ms/step - loss: 0.2791 - acc: 0.8844 - val_loss: 0.3111 - val_acc: 0.8625\n",
      "Epoch 8/10\n",
      "3599/3599 [==============================] - 6s 2ms/step - loss: 0.2420 - acc: 0.9064 - val_loss: 0.3004 - val_acc: 0.8700\n",
      "Epoch 9/10\n",
      "3599/3599 [==============================] - 6s 2ms/step - loss: 0.2143 - acc: 0.9175 - val_loss: 0.2884 - val_acc: 0.8775\n",
      "Epoch 10/10\n",
      "3599/3599 [==============================] - 6s 2ms/step - loss: 0.1633 - acc: 0.9428 - val_loss: 0.3149 - val_acc: 0.8550\n"
     ]
    },
    {
     "data": {
      "text/plain": [
       "<keras.callbacks.History at 0x1b5a29d3c8>"
      ]
     },
     "execution_count": 53,
     "metadata": {},
     "output_type": "execute_result"
    }
   ],
   "source": [
    "# def create_cnn():\n",
    "#     # Add an Input Layer\n",
    "#     input_layer = layers.Input((200, ))\n",
    "\n",
    "#     # Add the word embedding Layer\n",
    "#     embedding_layer = layers.Embedding(len(train_word_index) + 1, 300, weights=[train_embedding_weights], trainable=False)(input_layer)\n",
    "#     embedding_layer = layers.SpatialDropout1D(0.25)(embedding_layer)\n",
    "\n",
    "#     # Add the convolutional Layer\n",
    "#     conv_layer = layers.Convolution1D(128, 4, activation=\"relu\")(embedding_layer)\n",
    "\n",
    "#     # Add the pooling Layer\n",
    "#     pooling_layer = layers.GlobalMaxPool1D()(conv_layer)\n",
    "\n",
    "#     # Add the output Layers\n",
    "#     output_layer1 = layers.Dense(64, activation=\"relu\")(pooling_layer)\n",
    "#     output_layer1 = layers.Dropout(0.3, noise_shape=None, seed= 42)(output_layer1)\n",
    "#     output_layer2 = layers.Dense(1, activation=\"sigmoid\")(output_layer1)\n",
    "#     # Compile the model\n",
    "#     model = models.Model(inputs=input_layer, outputs=output_layer2)\n",
    "#     model.compile(optimizer=optimizers.Adam(), loss='binary_crossentropy', metrics=['accuracy'])\n",
    "    \n",
    "#     return model\n",
    "\n",
    "# classifier = create_cnn()\n",
    "# #accuracy = train_model_nn(classifier, train_seq_x, train_labels, valid_seq_x, is_neural_net=True)\n",
    "# classifier.fit(X_t,y, batch_size=100, epochs=10, validation_split=0.1)"
   ]
  },
  {
   "cell_type": "markdown",
   "metadata": {},
   "source": [
    "For this type of Neural Network, the model seems to learn until the Epoch 9, as the Validation Accuracy starts to vary from Epoch 10 onwards.  "
   ]
  },
  {
   "cell_type": "markdown",
   "metadata": {
    "colab_type": "text",
    "id": "a68UkZt0FgKR"
   },
   "source": [
    "### Recurrent Neural Network | Long Short-Term Memory"
   ]
  },
  {
   "cell_type": "markdown",
   "metadata": {
    "colab_type": "text",
    "id": "ThVI3Y_ivGfe"
   },
   "source": [
    "Long Short-Term Memory is a specific Recurrent Neural Network architecture that does not use activation function within its recurrent components. The stored values are not modified, and the gradient does not tend to vanish during training. LSTM units are usually implemented in “blocks” with several units. These blocks have three or four “gates” that control information flow drawing on the logistic function."
   ]
  },
  {
   "cell_type": "code",
   "execution_count": 54,
   "metadata": {
    "colab": {},
    "colab_type": "code",
    "id": "xJGw4KMKFgTc"
   },
   "outputs": [
    {
     "name": "stdout",
     "output_type": "stream",
     "text": [
      "Train on 3599 samples, validate on 400 samples\n",
      "Epoch 1/7\n",
      "3599/3599 [==============================] - 18s 5ms/step - loss: 0.6414 - acc: 0.6210 - val_loss: 0.6063 - val_acc: 0.6550\n",
      "Epoch 2/7\n",
      "3599/3599 [==============================] - 14s 4ms/step - loss: 0.5342 - acc: 0.7349 - val_loss: 0.5109 - val_acc: 0.7525\n",
      "Epoch 3/7\n",
      "3599/3599 [==============================] - 14s 4ms/step - loss: 0.4779 - acc: 0.7769 - val_loss: 0.4196 - val_acc: 0.8125\n",
      "Epoch 4/7\n",
      "3599/3599 [==============================] - 14s 4ms/step - loss: 0.4466 - acc: 0.7919 - val_loss: 0.4219 - val_acc: 0.8225\n",
      "Epoch 5/7\n",
      "3599/3599 [==============================] - 14s 4ms/step - loss: 0.4234 - acc: 0.7991 - val_loss: 0.4414 - val_acc: 0.7975\n",
      "Epoch 6/7\n",
      "3599/3599 [==============================] - 14s 4ms/step - loss: 0.4169 - acc: 0.8074 - val_loss: 0.3952 - val_acc: 0.8250\n",
      "Epoch 7/7\n",
      "3599/3599 [==============================] - 14s 4ms/step - loss: 0.3752 - acc: 0.8397 - val_loss: 0.3922 - val_acc: 0.8300\n"
     ]
    },
    {
     "data": {
      "text/plain": [
       "<keras.callbacks.History at 0x1b5a8ab7b8>"
      ]
     },
     "execution_count": 54,
     "metadata": {},
     "output_type": "execute_result"
    }
   ],
   "source": [
    "# def create_rnn_lstm():\n",
    "#     # Add an Input Layer\n",
    "#     input_layer = layers.Input((200, ))\n",
    "\n",
    "#     # Add the word embedding Layer\n",
    "#     embedding_layer = layers.Embedding(len(train_word_index) + 1, 300, weights=[train_embedding_weights], trainable=False)(input_layer)\n",
    "#     embedding_layer = layers.SpatialDropout1D(0.3)(embedding_layer)\n",
    "\n",
    "#     # Add the LSTM Layer\n",
    "#     lstm_layer = layers.LSTM(128)(embedding_layer)\n",
    "\n",
    "#     # Add the output Layers\n",
    "#     output_layer1 = layers.Dense(64, activation=\"relu\")(lstm_layer)\n",
    "#     output_layer1 = layers.Dropout(0.3, noise_shape=None, seed= 42)(output_layer1)\n",
    "#     output_layer2 = layers.Dense(1, activation=\"sigmoid\")(output_layer1)\n",
    "\n",
    "#     # Compile the model\n",
    "#     model = models.Model(inputs=input_layer, outputs=output_layer2)\n",
    "#     model.compile(optimizer=optimizers.Adam(), loss='binary_crossentropy', metrics=['accuracy'])\n",
    "    \n",
    "#     return model\n",
    "\n",
    "# classifier = create_rnn_lstm()\n",
    "# #accuracy = train_model_nn(classifier, train_seq_x, train_labels, valid_seq_x, is_neural_net=True)\n",
    "# classifier.fit(X_t,y, batch_size=100, epochs=7, validation_split=0.1)"
   ]
  },
  {
   "cell_type": "markdown",
   "metadata": {},
   "source": [
    "For this type of Neural Network, the model seems to learn until the Epoch 4, as the Validation Accuracy starts to vary from Epoch 5 onwards.  "
   ]
  },
  {
   "cell_type": "markdown",
   "metadata": {
    "colab_type": "text",
    "id": "rgoOM4d_FpaM"
   },
   "source": [
    "### Recurrent Neural Network | Gated Recurrent Unit"
   ]
  },
  {
   "cell_type": "markdown",
   "metadata": {
    "colab_type": "text",
    "id": "WtEwI_AGwMkN"
   },
   "source": [
    "Gated Recurrent Unit uses *Update Gate* and *Reset Gate* to solve the vanishing gradient problem of a standard RNN. These are two vectors which decide what information should be passed to the output. They can be trained to keep information from long ago, without washing it through time or remove information which is irrelevant to the prediction."
   ]
  },
  {
   "cell_type": "code",
   "execution_count": 55,
   "metadata": {
    "colab": {},
    "colab_type": "code",
    "id": "H6-fJXjTFq5B"
   },
   "outputs": [
    {
     "name": "stdout",
     "output_type": "stream",
     "text": [
      "Train on 3599 samples, validate on 400 samples\n",
      "Epoch 1/6\n",
      "3599/3599 [==============================] - 13s 4ms/step - loss: 0.6183 - acc: 0.6593 - val_loss: 0.5645 - val_acc: 0.6975\n",
      "Epoch 2/6\n",
      "3599/3599 [==============================] - 12s 3ms/step - loss: 0.4916 - acc: 0.7555 - val_loss: 0.5090 - val_acc: 0.7475\n",
      "Epoch 3/6\n",
      "3599/3599 [==============================] - 13s 4ms/step - loss: 0.4392 - acc: 0.7924 - val_loss: 0.4551 - val_acc: 0.7925\n",
      "Epoch 4/6\n",
      "3599/3599 [==============================] - 12s 3ms/step - loss: 0.3930 - acc: 0.8283 - val_loss: 0.3847 - val_acc: 0.8350\n",
      "Epoch 5/6\n",
      "3599/3599 [==============================] - 11s 3ms/step - loss: 0.3642 - acc: 0.8472 - val_loss: 0.3832 - val_acc: 0.8300\n",
      "Epoch 6/6\n",
      "3599/3599 [==============================] - 11s 3ms/step - loss: 0.3356 - acc: 0.8538 - val_loss: 0.3771 - val_acc: 0.8425\n"
     ]
    },
    {
     "data": {
      "text/plain": [
       "<keras.callbacks.History at 0x1b6aac3668>"
      ]
     },
     "execution_count": 55,
     "metadata": {},
     "output_type": "execute_result"
    }
   ],
   "source": [
    "# def create_rnn_gru():\n",
    "#     # Add an Input Layer\n",
    "#     input_layer = layers.Input((200, ))\n",
    "\n",
    "#     # Add the word embedding Layer\n",
    "#     embedding_layer = layers.Embedding(len(train_word_index) + 1, 300, weights=[train_embedding_weights], trainable=False)(input_layer)\n",
    "#     embedding_layer = layers.SpatialDropout1D(0.1)(embedding_layer)\n",
    "\n",
    "#     # Add the GRU Layer\n",
    "#     lstm_layer = layers.GRU(128)(embedding_layer)\n",
    "\n",
    "#     # Add the output Layers\n",
    "#     output_layer1 = layers.Dense(64, activation=\"relu\")(lstm_layer)\n",
    "#     output_layer1 = layers.Dropout(0.05, noise_shape=None, seed= 42)(output_layer1)\n",
    "#     output_layer2 = layers.Dense(1, activation=\"sigmoid\")(output_layer1)\n",
    "\n",
    "#     # Compile the model\n",
    "#     model = models.Model(inputs=input_layer, outputs=output_layer2)\n",
    "#     model.compile(optimizer=optimizers.Adam(), loss='binary_crossentropy', metrics=['accuracy'])\n",
    "    \n",
    "#     return model\n",
    "\n",
    "# classifier = create_rnn_gru()\n",
    "# # accuracy = train_model_nn(classifier, train_seq_x, train_labels, valid_seq_x, is_neural_net=True)\n",
    "# # print (\"RNN-GRU, Word Embeddings\",  accuracy)\n",
    "# classifier.fit(X_t,y, batch_size=100, epochs=6, validation_split=0.1)"
   ]
  },
  {
   "cell_type": "markdown",
   "metadata": {},
   "source": [
    "For this type of Neural Network, the model seems to learn until the Epoch 4, as the Validation Accuracy starts to vary from Epoch 5 onwards.  "
   ]
  },
  {
   "cell_type": "markdown",
   "metadata": {
    "colab_type": "text",
    "id": "wQJkQSiNF3PX"
   },
   "source": [
    "### Bi-directional Recurrent Neural Network"
   ]
  },
  {
   "cell_type": "markdown",
   "metadata": {
    "colab_type": "text",
    "id": "SpsMkD2dxQ-g"
   },
   "source": [
    "Bi-directional Recurrent Neural Networks are putting two independent RNNs together. The input sequence is fed in normal time order for one network, and in reverse time order for another. The outputs of the two networks are concatenated at each time step."
   ]
  },
  {
   "cell_type": "code",
   "execution_count": 56,
   "metadata": {
    "colab": {},
    "colab_type": "code",
    "id": "ojfoj0LsF3Ya"
   },
   "outputs": [
    {
     "name": "stdout",
     "output_type": "stream",
     "text": [
      "Train on 3599 samples, validate on 400 samples\n",
      "Epoch 1/4\n",
      "3599/3599 [==============================] - 21s 6ms/step - loss: 0.6026 - acc: 0.6696 - val_loss: 0.5334 - val_acc: 0.7300\n",
      "Epoch 2/4\n",
      "3599/3599 [==============================] - 19s 5ms/step - loss: 0.4538 - acc: 0.7838 - val_loss: 0.4702 - val_acc: 0.8100\n",
      "Epoch 3/4\n",
      "3599/3599 [==============================] - 19s 5ms/step - loss: 0.3909 - acc: 0.8233 - val_loss: 0.4251 - val_acc: 0.8000\n",
      "Epoch 4/4\n",
      "3599/3599 [==============================] - 19s 5ms/step - loss: 0.3193 - acc: 0.8689 - val_loss: 0.4023 - val_acc: 0.8025\n"
     ]
    },
    {
     "data": {
      "text/plain": [
       "<keras.callbacks.History at 0x1b6b0a3da0>"
      ]
     },
     "execution_count": 56,
     "metadata": {},
     "output_type": "execute_result"
    }
   ],
   "source": [
    "# def create_bidirectional_rnn():\n",
    "#     # Add an Input Layer\n",
    "#     input_layer = layers.Input((200, ))\n",
    "\n",
    "#     # Add the word embedding Layer\n",
    "#     embedding_layer = layers.Embedding(len(train_word_index) + 1, 300, weights=[train_embedding_weights], trainable=False)(input_layer)\n",
    "#     embedding_layer = layers.SpatialDropout1D(0.05)(embedding_layer)\n",
    "\n",
    "#     # Add the LSTM Layer\n",
    "#     lstm_layer = layers.Bidirectional(layers.GRU(128))(embedding_layer)\n",
    "\n",
    "#     # Add the output Layers\n",
    "#     output_layer1 = layers.Dense(564, activation=\"relu\")(lstm_layer)\n",
    "#     output_layer1 = layers.Dropout(0.05)(output_layer1)\n",
    "#     output_layer2 = layers.Dense(1, activation=\"sigmoid\")(output_layer1)\n",
    "\n",
    "#     # Compile the model\n",
    "#     model = models.Model(inputs=input_layer, outputs=output_layer2)\n",
    "#     model.compile(optimizer=optimizers.Adam(), loss='binary_crossentropy', metrics=['accuracy'])\n",
    "    \n",
    "#     return model\n",
    "\n",
    "# classifier = create_bidirectional_rnn()\n",
    "# #accuracy = train_model_nn(classifier, train_seq_x, train_labels, valid_seq_x, is_neural_net=True)\n",
    "# #print (\"RNN-Bidirectional, Word Embeddings\",  accuracy)\n",
    "# classifier.fit(X_t,y, batch_size=100, epochs=4, validation_split=0.1)"
   ]
  },
  {
   "cell_type": "markdown",
   "metadata": {},
   "source": [
    "For this type of Neural Network, the model seems to learn until the Epoch 2, as the Validation Accuracy starts to vary from Epoch 3 onwards.  "
   ]
  },
  {
   "cell_type": "markdown",
   "metadata": {
    "colab_type": "text",
    "id": "MzYWhFTBGPGM"
   },
   "source": [
    "### Recurrent Convolutional Neural Network"
   ]
  },
  {
   "cell_type": "markdown",
   "metadata": {
    "colab_type": "text",
    "id": "sRkskJv7x3Vz"
   },
   "source": [
    "Recurrent Convolutional Neural Network uses bi-directional recurrent structure to replace traditional *window-based* Neural Network to learn representations of texts. It employs then a max-pooling layer that automatically judges which features play key roles in text classification."
   ]
  },
  {
   "cell_type": "code",
   "execution_count": 57,
   "metadata": {
    "colab": {},
    "colab_type": "code",
    "id": "WwT9KW1CGPPA"
   },
   "outputs": [
    {
     "name": "stdout",
     "output_type": "stream",
     "text": [
      "Train on 3599 samples, validate on 400 samples\n",
      "Epoch 1/9\n",
      "3599/3599 [==============================] - 6s 2ms/step - loss: 0.6737 - acc: 0.5754 - val_loss: 0.6134 - val_acc: 0.6250\n",
      "Epoch 2/9\n",
      "3599/3599 [==============================] - 5s 1ms/step - loss: 0.5321 - acc: 0.7577 - val_loss: 0.4786 - val_acc: 0.7875\n",
      "Epoch 3/9\n",
      "3599/3599 [==============================] - 5s 1ms/step - loss: 0.4064 - acc: 0.8266 - val_loss: 0.4370 - val_acc: 0.7700\n",
      "Epoch 4/9\n",
      "3599/3599 [==============================] - 5s 1ms/step - loss: 0.3271 - acc: 0.8647 - val_loss: 0.3416 - val_acc: 0.8450\n",
      "Epoch 5/9\n",
      "3599/3599 [==============================] - 5s 1ms/step - loss: 0.2499 - acc: 0.9103 - val_loss: 0.3057 - val_acc: 0.8700\n",
      "Epoch 6/9\n",
      "3599/3599 [==============================] - 5s 1ms/step - loss: 0.2069 - acc: 0.9253 - val_loss: 0.3422 - val_acc: 0.8450\n",
      "Epoch 7/9\n",
      "3599/3599 [==============================] - 5s 1ms/step - loss: 0.1631 - acc: 0.9469 - val_loss: 0.2776 - val_acc: 0.8800\n",
      "Epoch 8/9\n",
      "3599/3599 [==============================] - 5s 1ms/step - loss: 0.1109 - acc: 0.9761 - val_loss: 0.3002 - val_acc: 0.8600\n",
      "Epoch 9/9\n",
      "3599/3599 [==============================] - 5s 1ms/step - loss: 0.0892 - acc: 0.9803 - val_loss: 0.2660 - val_acc: 0.8850\n"
     ]
    },
    {
     "data": {
      "text/plain": [
       "<keras.callbacks.History at 0x1b9c7a0668>"
      ]
     },
     "execution_count": 57,
     "metadata": {},
     "output_type": "execute_result"
    }
   ],
   "source": [
    "# def create_rcnn():\n",
    "#     # Add an Input Layer\n",
    "#     input_layer = layers.Input((200, ))\n",
    "\n",
    "#     # Add the word embedding Layer\n",
    "#     embedding_layer = layers.Embedding(len(train_word_index) + 1, 300, weights=[train_embedding_weights], trainable=False)(input_layer)\n",
    "#     embedding_layer = layers.SpatialDropout1D(0.05)(embedding_layer)\n",
    "    \n",
    "#     # Add the recurrent layer\n",
    "#     rnn_layer = layers.Bidirectional(layers.GRU(64, return_sequences=True))(embedding_layer)\n",
    "    \n",
    "#     # Add the convolutional Layer\n",
    "#     conv_layer = layers.Convolution1D(128, 3, activation=\"relu\")(embedding_layer)\n",
    "\n",
    "#     # Add the pooling Layer\n",
    "#     pooling_layer = layers.GlobalMaxPool1D()(conv_layer)\n",
    "\n",
    "#     # Add the output Layers\n",
    "#     output_layer1 = layers.Dense(64, activation=\"relu\")(pooling_layer)\n",
    "#     output_layer1 = layers.Dropout(0.05)(output_layer1)\n",
    "#     output_layer2 = layers.Dense(1, activation=\"sigmoid\")(output_layer1)\n",
    "\n",
    "#     # Compile the model\n",
    "#     model = models.Model(inputs=input_layer, outputs=output_layer2)\n",
    "#     model.compile(optimizer=optimizers.Adam(), loss='binary_crossentropy', metrics=['accuracy'])\n",
    "    \n",
    "#     return model\n",
    "\n",
    "# classifier = create_rcnn()\n",
    "# #accuracy = train_model_nn(classifier, train_seq_x, train_labels, valid_seq_x, is_neural_net=True)\n",
    "# #print (\"CNN, Word Embeddings\",  accuracy)\n",
    "# classifier.fit(X_t,y, batch_size=100, epochs=9, validation_split=0.1)"
   ]
  },
  {
   "cell_type": "markdown",
   "metadata": {},
   "source": [
    "For this type of Neural Network, the model seems to learn until the Epoch 5, as the Validation Accuracy starts to vary from Epoch 6 onwards.  "
   ]
  },
  {
   "cell_type": "markdown",
   "metadata": {
    "colab_type": "text",
    "id": "CIbST7yTEz8i"
   },
   "source": [
    "### Shallow Neural Network"
   ]
  },
  {
   "cell_type": "markdown",
   "metadata": {
    "colab_type": "text",
    "id": "je_-syQX0VN9"
   },
   "source": [
    "Shallow Neural Networks consist in only one or two layers."
   ]
  },
  {
   "cell_type": "code",
   "execution_count": 58,
   "metadata": {
    "colab": {},
    "colab_type": "code",
    "id": "9vJ-Qf0BzyUt"
   },
   "outputs": [],
   "source": [
    "# word level tf-idf\n",
    "tfidf_vect_nn = TfidfVectorizer(analyzer='word', token_pattern=r'\\w{1,}', max_features=30000, stop_words='english')\n",
    "tfidf_vect_nn.fit(train_data)\n",
    "\n",
    "train_tfidf_ngram_nn =  tfidf_vect_nn.transform(train_news_fixed['full_text'])"
   ]
  },
  {
   "cell_type": "code",
   "execution_count": 79,
   "metadata": {
    "colab": {},
    "colab_type": "code",
    "id": "giE-DgL00JFN"
   },
   "outputs": [],
   "source": [
    "# ngram level tf-idf \n",
    "tfidf_vect_ngram_nn = TfidfVectorizer(analyzer='word', token_pattern=r'\\w{1,}', ngram_range=(2,5), max_features=35000, stop_words='english')\n",
    "tfidf_vect_ngram_nn.fit(train_news_fixed['full_text'])\n",
    "\n",
    "train_tfidf_ngram_nn =  tfidf_vect_ngram_nn.transform(train_news_fixed['full_text'])\n",
    "test_tfidf_ngram_nn =  tfidf_vect_ngram_nn.transform(test_news_fixed['full_text'])"
   ]
  },
  {
   "cell_type": "code",
   "execution_count": 60,
   "metadata": {
    "colab": {},
    "colab_type": "code",
    "id": "oFEAMZ8qE0Fl"
   },
   "outputs": [
    {
     "name": "stdout",
     "output_type": "stream",
     "text": [
      "Train on 3599 samples, validate on 400 samples\n",
      "Epoch 1/4\n",
      "3599/3599 [==============================] - 4s 1ms/step - loss: 0.6445 - acc: 0.8169 - val_loss: 0.5556 - val_acc: 0.9125\n",
      "Epoch 2/4\n",
      "3599/3599 [==============================] - 3s 766us/step - loss: 0.4494 - acc: 0.9478 - val_loss: 0.3778 - val_acc: 0.9300\n",
      "Epoch 3/4\n",
      "3599/3599 [==============================] - 3s 786us/step - loss: 0.2799 - acc: 0.9605 - val_loss: 0.2731 - val_acc: 0.9400\n",
      "Epoch 4/4\n",
      "3599/3599 [==============================] - 3s 827us/step - loss: 0.1828 - acc: 0.9714 - val_loss: 0.2194 - val_acc: 0.9450\n"
     ]
    },
    {
     "data": {
      "text/plain": [
       "<keras.callbacks.History at 0x1be19c77b8>"
      ]
     },
     "execution_count": 60,
     "metadata": {},
     "output_type": "execute_result"
    }
   ],
   "source": [
    "def create_model_architecture(input_size):\n",
    "    # create input layer \n",
    "    input_layer = layers.Input((input_size, ), sparse=True)\n",
    "    \n",
    "    # create hidden layer\n",
    "    hidden_layer = layers.Dense(128, activation=\"relu\")(input_layer)\n",
    "    output_layer1 = layers.Dropout(0.73)(hidden_layer)\n",
    "    # create output layer\n",
    "    output_layer = layers.Dense(1, activation=\"sigmoid\")(output_layer1)\n",
    "\n",
    "    classifier = models.Model(inputs = input_layer, outputs = output_layer)\n",
    "    classifier.compile(optimizer=optimizers.Adam(), loss='binary_crossentropy', metrics =['accuracy'])\n",
    "    return classifier \n",
    "\n",
    "classifier = create_model_architecture(train_tfidf_ngram_nn.shape[1])\n",
    "#accuracy = train_model_nn(classifier, train_tfidf_ngram, train_labels, valid_tfidf_ngram, is_neural_net=True)\n",
    "#print (\"NN, Ngram Level TF IDF Vectors\",  accuracy)\n",
    "classifier.fit(train_tfidf_ngram_nn,train_news_fixed['label'], batch_size=100, epochs=4, validation_split=0.1)"
   ]
  },
  {
   "cell_type": "markdown",
   "metadata": {},
   "source": [
    "In contrast to the rest of the Neural Networks, this type is actually able to learn and adapt to our dataset. We see that the Validation Accuracy increases at every step.  "
   ]
  },
  {
   "cell_type": "markdown",
   "metadata": {
    "colab_type": "text",
    "id": "OBcqQ_UpFqoM"
   },
   "source": [
    "### Bi-directional Long Short-Term Memory"
   ]
  },
  {
   "cell_type": "markdown",
   "metadata": {
    "colab_type": "text",
    "id": "eKPubCvI05dY"
   },
   "source": [
    "Bidirectional Recurrent Neural Networks connect two hidden layers of opposite directions to the same output. With this form of generative deep learning, the output layer can get information from past and future states simultaneously."
   ]
  },
  {
   "cell_type": "code",
   "execution_count": 61,
   "metadata": {
    "colab": {},
    "colab_type": "code",
    "id": "c8_BBELQUQlf"
   },
   "outputs": [
    {
     "data": {
      "text/html": [
       "<div>\n",
       "<style scoped>\n",
       "    .dataframe tbody tr th:only-of-type {\n",
       "        vertical-align: middle;\n",
       "    }\n",
       "\n",
       "    .dataframe tbody tr th {\n",
       "        vertical-align: top;\n",
       "    }\n",
       "\n",
       "    .dataframe thead th {\n",
       "        text-align: right;\n",
       "    }\n",
       "</style>\n",
       "<table border=\"1\" class=\"dataframe\">\n",
       "  <thead>\n",
       "    <tr style=\"text-align: right;\">\n",
       "      <th></th>\n",
       "      <th>ID</th>\n",
       "      <th>title</th>\n",
       "      <th>text</th>\n",
       "      <th>label</th>\n",
       "      <th>X1</th>\n",
       "      <th>X2</th>\n",
       "      <th>full_text</th>\n",
       "      <th>char_count</th>\n",
       "      <th>word_count</th>\n",
       "      <th>word_density</th>\n",
       "      <th>punctuation_count</th>\n",
       "      <th>title_word_count</th>\n",
       "      <th>upper_case_word_count</th>\n",
       "      <th>noun_count</th>\n",
       "      <th>verb_count</th>\n",
       "      <th>adj_count</th>\n",
       "      <th>adv_count</th>\n",
       "      <th>pron_count</th>\n",
       "    </tr>\n",
       "  </thead>\n",
       "  <tbody>\n",
       "    <tr>\n",
       "      <th>0</th>\n",
       "      <td>8476</td>\n",
       "      <td>You Can Smell Hillary’s Fear</td>\n",
       "      <td>Daniel Greenfield, a Shillman Journalism Fello...</td>\n",
       "      <td>1</td>\n",
       "      <td>NaN</td>\n",
       "      <td>NaN</td>\n",
       "      <td>you can smell hillary fear daniel greenfield s...</td>\n",
       "      <td>7165</td>\n",
       "      <td>1264</td>\n",
       "      <td>5.664032</td>\n",
       "      <td>0</td>\n",
       "      <td>4</td>\n",
       "      <td>0</td>\n",
       "      <td>0</td>\n",
       "      <td>0</td>\n",
       "      <td>0</td>\n",
       "      <td>0</td>\n",
       "      <td>0</td>\n",
       "    </tr>\n",
       "    <tr>\n",
       "      <th>1</th>\n",
       "      <td>10294</td>\n",
       "      <td>Watch The Exact Moment Paul Ryan Committed Pol...</td>\n",
       "      <td>Google Pinterest Digg Linkedin Reddit Stumbleu...</td>\n",
       "      <td>1</td>\n",
       "      <td>NaN</td>\n",
       "      <td>NaN</td>\n",
       "      <td>watch the exact moment paul ryan committed pol...</td>\n",
       "      <td>2580</td>\n",
       "      <td>448</td>\n",
       "      <td>5.746102</td>\n",
       "      <td>0</td>\n",
       "      <td>13</td>\n",
       "      <td>0</td>\n",
       "      <td>0</td>\n",
       "      <td>0</td>\n",
       "      <td>0</td>\n",
       "      <td>0</td>\n",
       "      <td>0</td>\n",
       "    </tr>\n",
       "    <tr>\n",
       "      <th>2</th>\n",
       "      <td>3608</td>\n",
       "      <td>Kerry to go to Paris in gesture of sympathy</td>\n",
       "      <td>U.S. Secretary of State John F. Kerry said Mon...</td>\n",
       "      <td>0</td>\n",
       "      <td>NaN</td>\n",
       "      <td>NaN</td>\n",
       "      <td>kerry to go to paris in gesture of sympathy s ...</td>\n",
       "      <td>2455</td>\n",
       "      <td>429</td>\n",
       "      <td>5.709302</td>\n",
       "      <td>0</td>\n",
       "      <td>2</td>\n",
       "      <td>0</td>\n",
       "      <td>0</td>\n",
       "      <td>0</td>\n",
       "      <td>0</td>\n",
       "      <td>0</td>\n",
       "      <td>0</td>\n",
       "    </tr>\n",
       "    <tr>\n",
       "      <th>3</th>\n",
       "      <td>10142</td>\n",
       "      <td>Bernie supporters on Twitter erupt in anger ag...</td>\n",
       "      <td>— Kaydee King (@KaydeeKing) November 9, 2016 T...</td>\n",
       "      <td>1</td>\n",
       "      <td>NaN</td>\n",
       "      <td>NaN</td>\n",
       "      <td>bernie supporter on twitter erupt in anger aga...</td>\n",
       "      <td>2571</td>\n",
       "      <td>415</td>\n",
       "      <td>6.180288</td>\n",
       "      <td>0</td>\n",
       "      <td>3</td>\n",
       "      <td>0</td>\n",
       "      <td>0</td>\n",
       "      <td>0</td>\n",
       "      <td>0</td>\n",
       "      <td>0</td>\n",
       "      <td>0</td>\n",
       "    </tr>\n",
       "    <tr>\n",
       "      <th>4</th>\n",
       "      <td>875</td>\n",
       "      <td>The Battle of New York: Why This Primary Matters</td>\n",
       "      <td>It's primary day in New York and front-runners...</td>\n",
       "      <td>0</td>\n",
       "      <td>NaN</td>\n",
       "      <td>NaN</td>\n",
       "      <td>the battle of new york why this primary matter...</td>\n",
       "      <td>1761</td>\n",
       "      <td>328</td>\n",
       "      <td>5.352584</td>\n",
       "      <td>0</td>\n",
       "      <td>8</td>\n",
       "      <td>0</td>\n",
       "      <td>0</td>\n",
       "      <td>0</td>\n",
       "      <td>0</td>\n",
       "      <td>0</td>\n",
       "      <td>0</td>\n",
       "    </tr>\n",
       "  </tbody>\n",
       "</table>\n",
       "</div>"
      ],
      "text/plain": [
       "      ID                                              title  \\\n",
       "0   8476                       You Can Smell Hillary’s Fear   \n",
       "1  10294  Watch The Exact Moment Paul Ryan Committed Pol...   \n",
       "2   3608        Kerry to go to Paris in gesture of sympathy   \n",
       "3  10142  Bernie supporters on Twitter erupt in anger ag...   \n",
       "4    875   The Battle of New York: Why This Primary Matters   \n",
       "\n",
       "                                                text  label   X1   X2  \\\n",
       "0  Daniel Greenfield, a Shillman Journalism Fello...      1  NaN  NaN   \n",
       "1  Google Pinterest Digg Linkedin Reddit Stumbleu...      1  NaN  NaN   \n",
       "2  U.S. Secretary of State John F. Kerry said Mon...      0  NaN  NaN   \n",
       "3  — Kaydee King (@KaydeeKing) November 9, 2016 T...      1  NaN  NaN   \n",
       "4  It's primary day in New York and front-runners...      0  NaN  NaN   \n",
       "\n",
       "                                           full_text  char_count  word_count  \\\n",
       "0  you can smell hillary fear daniel greenfield s...        7165        1264   \n",
       "1  watch the exact moment paul ryan committed pol...        2580         448   \n",
       "2  kerry to go to paris in gesture of sympathy s ...        2455         429   \n",
       "3  bernie supporter on twitter erupt in anger aga...        2571         415   \n",
       "4  the battle of new york why this primary matter...        1761         328   \n",
       "\n",
       "   word_density  punctuation_count  title_word_count  upper_case_word_count  \\\n",
       "0      5.664032                  0                 4                      0   \n",
       "1      5.746102                  0                13                      0   \n",
       "2      5.709302                  0                 2                      0   \n",
       "3      6.180288                  0                 3                      0   \n",
       "4      5.352584                  0                 8                      0   \n",
       "\n",
       "   noun_count  verb_count  adj_count  adv_count  pron_count  \n",
       "0           0           0          0          0           0  \n",
       "1           0           0          0          0           0  \n",
       "2           0           0          0          0           0  \n",
       "3           0           0          0          0           0  \n",
       "4           0           0          0          0           0  "
      ]
     },
     "execution_count": 61,
     "metadata": {},
     "output_type": "execute_result"
    }
   ],
   "source": [
    "# train_news_fixed.head()"
   ]
  },
  {
   "cell_type": "code",
   "execution_count": 62,
   "metadata": {
    "colab": {},
    "colab_type": "code",
    "id": "19nLR8T4UQwp"
   },
   "outputs": [
    {
     "data": {
      "text/plain": [
       "765.4193548387096"
      ]
     },
     "execution_count": 62,
     "metadata": {},
     "output_type": "execute_result"
    }
   ],
   "source": [
    "# train_news_fixed.text.apply(lambda x: len(x.split(\" \"))).mean()"
   ]
  },
  {
   "cell_type": "code",
   "execution_count": 63,
   "metadata": {
    "colab": {},
    "colab_type": "code",
    "id": "KykcQm36UQ4q"
   },
   "outputs": [
    {
     "name": "stdout",
     "output_type": "stream",
     "text": [
      "Train on 3599 samples, validate on 400 samples\n",
      "Epoch 1/4\n",
      "3599/3599 [==============================] - 26s 7ms/step - loss: 0.6535 - acc: 0.6235 - val_loss: 0.4787 - val_acc: 0.7850\n",
      "Epoch 2/4\n",
      "3599/3599 [==============================] - 22s 6ms/step - loss: 0.4271 - acc: 0.8233 - val_loss: 0.3599 - val_acc: 0.8525\n",
      "Epoch 3/4\n",
      "3599/3599 [==============================] - 22s 6ms/step - loss: 0.2820 - acc: 0.8975 - val_loss: 0.4532 - val_acc: 0.8475\n",
      "Epoch 4/4\n",
      "3599/3599 [==============================] - 23s 6ms/step - loss: 0.2298 - acc: 0.9139 - val_loss: 0.3836 - val_acc: 0.8225\n"
     ]
    },
    {
     "data": {
      "text/plain": [
       "<keras.callbacks.History at 0x1bc0b207f0>"
      ]
     },
     "execution_count": 63,
     "metadata": {},
     "output_type": "execute_result"
    }
   ],
   "source": [
    "# embed_size = 128\n",
    "# model = Sequential()\n",
    "# model.add(Embedding(max_features, embed_size))\n",
    "# model.add(Bidirectional(LSTM(128, return_sequences = True)))\n",
    "# model.add(GlobalMaxPool1D())\n",
    "# model.add(Dense(64, activation=\"relu\"))\n",
    "# model.add(Dropout(0.05))\n",
    "# model.add(Dense(1, activation=\"sigmoid\"))\n",
    "# model.compile(loss='binary_crossentropy', optimizer='adam', metrics=['accuracy'])\n",
    "# model.fit(X_t,y, batch_size=100, epochs=4, validation_split=0.1)"
   ]
  },
  {
   "cell_type": "markdown",
   "metadata": {},
   "source": [
    "For this type of Neural Network, the model seems to learn until the Epoch 2, as the Validation Accuracy starts to vary from Epoch 3 onwards.  "
   ]
  },
  {
   "cell_type": "markdown",
   "metadata": {
    "colab_type": "text",
    "id": "3LmaTZDsEKt9"
   },
   "source": [
    "### GOOGLE Embeddings (Experimental Approach)"
   ]
  },
  {
   "cell_type": "markdown",
   "metadata": {},
   "source": [
    "As a final step, we decided to experiment with a pre-trained model using Google Appendix.  "
   ]
  },
  {
   "cell_type": "code",
   "execution_count": 64,
   "metadata": {
    "colab": {},
    "colab_type": "code",
    "id": "xQwN1Pmi33XI"
   },
   "outputs": [],
   "source": [
    "# test_sequences = tokenizer.texts_to_sequences(clean_test_comments[\"full_text\"].tolist())\n",
    "# test_cnn_data = pad_sequences(test_sequences, maxlen=MAX_SEQUENCE_LENGTH)"
   ]
  },
  {
   "cell_type": "code",
   "execution_count": 65,
   "metadata": {
    "colab": {},
    "colab_type": "code",
    "id": "FiNhkWvs36TW"
   },
   "outputs": [],
   "source": [
    "# from keras.layers import Dense, Input, Flatten, Dropout, Concatenate\n",
    "# from keras.layers import Conv1D, MaxPooling1D, Embedding\n",
    "# from keras.layers import LSTM, Bidirectional\n",
    "# from keras.models import Model\n",
    "# from keras.callbacks import EarlyStopping\n",
    "\n",
    "\n",
    "# def ConvNet(embeddings, max_sequence_length, num_words, embedding_dim, labels_index, trainable=False, extra_conv=True):\n",
    "    \n",
    "#     embedding_layer = Embedding(num_words,\n",
    "#                             embedding_dim,\n",
    "#                             weights=[embeddings],\n",
    "#                             input_length=max_sequence_length,\n",
    "#                             trainable=trainable)\n",
    "\n",
    "#     sequence_input = Input(shape=(max_sequence_length,), dtype='int32')\n",
    "#     embedded_sequences = embedding_layer(sequence_input)\n",
    "\n",
    "#     convs = []\n",
    "#     filter_sizes = [3,4,5]\n",
    "\n",
    "#     for filter_size in filter_sizes:\n",
    "#         l_conv = Conv1D(filters=128, kernel_size=filter_size, activation='relu')(embedded_sequences)\n",
    "#         l_pool = MaxPooling1D(pool_size=3)(l_conv)\n",
    "#         convs.append(l_pool)\n",
    "\n",
    "#     l_merge = Concatenate(axis=1)(convs)\n",
    "\n",
    "#     conv = Conv1D(filters=128, kernel_size=3, activation='relu')(embedded_sequences)\n",
    "#     pool = MaxPooling1D(pool_size=5)(conv)\n",
    "\n",
    "#     if extra_conv==True:\n",
    "#         x = Dropout(0.05, noise_shape=None, seed= 42)(l_merge)  \n",
    "#     else:\n",
    "#         x = Dropout(0.05, noise_shape=None, seed= 42)(pool)\n",
    "#     x = Flatten()(x)\n",
    "#     x = Dense(128, activation='relu')(x)\n",
    "#     x = Dropout(0.05, noise_shape=None, seed= 42)(x)\n",
    "\n",
    "#     preds = Dense(labels_index, activation='sigmoid')(x)\n",
    "\n",
    "#     model = Model(sequence_input, preds)\n",
    "#     model.compile(loss='binary_crossentropy',\n",
    "#                   optimizer='adam',\n",
    "#                   metrics=['acc'])\n",
    "#     model.summary()\n",
    "#     return model"
   ]
  },
  {
   "cell_type": "code",
   "execution_count": 66,
   "metadata": {
    "colab": {},
    "colab_type": "code",
    "id": "GT7q5NDF36Xr"
   },
   "outputs": [
    {
     "name": "stdout",
     "output_type": "stream",
     "text": [
      "__________________________________________________________________________________________________\n",
      "Layer (type)                    Output Shape         Param #     Connected to                     \n",
      "==================================================================================================\n",
      "input_7 (InputLayer)            (None, 200)          0                                            \n",
      "__________________________________________________________________________________________________\n",
      "embedding_7 (Embedding)         (None, 200, 300)     14929800    input_7[0][0]                    \n",
      "__________________________________________________________________________________________________\n",
      "conv1d_3 (Conv1D)               (None, 198, 128)     115328      embedding_7[0][0]                \n",
      "__________________________________________________________________________________________________\n",
      "conv1d_4 (Conv1D)               (None, 197, 128)     153728      embedding_7[0][0]                \n",
      "__________________________________________________________________________________________________\n",
      "conv1d_5 (Conv1D)               (None, 196, 128)     192128      embedding_7[0][0]                \n",
      "__________________________________________________________________________________________________\n",
      "max_pooling1d_1 (MaxPooling1D)  (None, 66, 128)      0           conv1d_3[0][0]                   \n",
      "__________________________________________________________________________________________________\n",
      "max_pooling1d_2 (MaxPooling1D)  (None, 65, 128)      0           conv1d_4[0][0]                   \n",
      "__________________________________________________________________________________________________\n",
      "max_pooling1d_3 (MaxPooling1D)  (None, 65, 128)      0           conv1d_5[0][0]                   \n",
      "__________________________________________________________________________________________________\n",
      "concatenate_1 (Concatenate)     (None, 196, 128)     0           max_pooling1d_1[0][0]            \n",
      "                                                                 max_pooling1d_2[0][0]            \n",
      "                                                                 max_pooling1d_3[0][0]            \n",
      "__________________________________________________________________________________________________\n",
      "dropout_8 (Dropout)             (None, 196, 128)     0           concatenate_1[0][0]              \n",
      "__________________________________________________________________________________________________\n",
      "flatten_1 (Flatten)             (None, 25088)        0           dropout_8[0][0]                  \n",
      "__________________________________________________________________________________________________\n",
      "dense_15 (Dense)                (None, 128)          3211392     flatten_1[0][0]                  \n",
      "__________________________________________________________________________________________________\n",
      "dropout_9 (Dropout)             (None, 128)          0           dense_15[0][0]                   \n",
      "__________________________________________________________________________________________________\n",
      "dense_16 (Dense)                (None, 2)            258         dropout_9[0][0]                  \n",
      "==================================================================================================\n",
      "Total params: 18,602,634\n",
      "Trainable params: 3,672,834\n",
      "Non-trainable params: 14,929,800\n",
      "__________________________________________________________________________________________________\n"
     ]
    }
   ],
   "source": [
    "# label_names = [\"REAL\",'FAKE']\n",
    "# model = ConvNet(train_embedding_weights, 200, len(train_word_index)+1, EMBEDDING_DIM,len(list(label_names)), False)"
   ]
  },
  {
   "cell_type": "code",
   "execution_count": 67,
   "metadata": {
    "colab": {},
    "colab_type": "code",
    "id": "sF4vOgl74BK_"
   },
   "outputs": [],
   "source": [
    "# # Define callbacks\n",
    "# early_stopping = EarlyStopping(monitor='val_loss', min_delta=0.01, patience=4, verbose=1)\n",
    "# callbacks_list = [early_stopping]\n",
    "# #hist = model.fit(x_train, y_tr, epochs=10, callbacks=callbacks_list, validation_split=0.2, shuffle=True, batch_size=100)"
   ]
  },
  {
   "cell_type": "code",
   "execution_count": 68,
   "metadata": {
    "colab": {},
    "colab_type": "code",
    "id": "GJUXODwo4BQ_"
   },
   "outputs": [
    {
     "data": {
      "text/html": [
       "<div>\n",
       "<style scoped>\n",
       "    .dataframe tbody tr th:only-of-type {\n",
       "        vertical-align: middle;\n",
       "    }\n",
       "\n",
       "    .dataframe tbody tr th {\n",
       "        vertical-align: top;\n",
       "    }\n",
       "\n",
       "    .dataframe thead th {\n",
       "        text-align: right;\n",
       "    }\n",
       "</style>\n",
       "<table border=\"1\" class=\"dataframe\">\n",
       "  <thead>\n",
       "    <tr style=\"text-align: right;\">\n",
       "      <th></th>\n",
       "      <th>ID</th>\n",
       "      <th>title</th>\n",
       "      <th>text</th>\n",
       "      <th>X1</th>\n",
       "      <th>X2</th>\n",
       "      <th>full_text</th>\n",
       "      <th>char_count</th>\n",
       "      <th>word_count</th>\n",
       "      <th>word_density</th>\n",
       "      <th>punctuation_count</th>\n",
       "      <th>title_word_count</th>\n",
       "      <th>upper_case_word_count</th>\n",
       "      <th>noun_count</th>\n",
       "      <th>verb_count</th>\n",
       "      <th>adj_count</th>\n",
       "      <th>adv_count</th>\n",
       "      <th>pron_count</th>\n",
       "      <th>0</th>\n",
       "      <th>1</th>\n",
       "    </tr>\n",
       "  </thead>\n",
       "  <tbody>\n",
       "    <tr>\n",
       "      <th>0</th>\n",
       "      <td>8476</td>\n",
       "      <td>You Can Smell Hillary’s Fear</td>\n",
       "      <td>Daniel Greenfield, a Shillman Journalism Fello...</td>\n",
       "      <td>NaN</td>\n",
       "      <td>NaN</td>\n",
       "      <td>you can smell hillary fear daniel greenfield s...</td>\n",
       "      <td>7165</td>\n",
       "      <td>1264</td>\n",
       "      <td>5.664032</td>\n",
       "      <td>0</td>\n",
       "      <td>4</td>\n",
       "      <td>0</td>\n",
       "      <td>0</td>\n",
       "      <td>0</td>\n",
       "      <td>0</td>\n",
       "      <td>0</td>\n",
       "      <td>0</td>\n",
       "      <td>0</td>\n",
       "      <td>1</td>\n",
       "    </tr>\n",
       "    <tr>\n",
       "      <th>1</th>\n",
       "      <td>10294</td>\n",
       "      <td>Watch The Exact Moment Paul Ryan Committed Pol...</td>\n",
       "      <td>Google Pinterest Digg Linkedin Reddit Stumbleu...</td>\n",
       "      <td>NaN</td>\n",
       "      <td>NaN</td>\n",
       "      <td>watch the exact moment paul ryan committed pol...</td>\n",
       "      <td>2580</td>\n",
       "      <td>448</td>\n",
       "      <td>5.746102</td>\n",
       "      <td>0</td>\n",
       "      <td>13</td>\n",
       "      <td>0</td>\n",
       "      <td>0</td>\n",
       "      <td>0</td>\n",
       "      <td>0</td>\n",
       "      <td>0</td>\n",
       "      <td>0</td>\n",
       "      <td>0</td>\n",
       "      <td>1</td>\n",
       "    </tr>\n",
       "    <tr>\n",
       "      <th>2</th>\n",
       "      <td>3608</td>\n",
       "      <td>Kerry to go to Paris in gesture of sympathy</td>\n",
       "      <td>U.S. Secretary of State John F. Kerry said Mon...</td>\n",
       "      <td>NaN</td>\n",
       "      <td>NaN</td>\n",
       "      <td>kerry to go to paris in gesture of sympathy s ...</td>\n",
       "      <td>2455</td>\n",
       "      <td>429</td>\n",
       "      <td>5.709302</td>\n",
       "      <td>0</td>\n",
       "      <td>2</td>\n",
       "      <td>0</td>\n",
       "      <td>0</td>\n",
       "      <td>0</td>\n",
       "      <td>0</td>\n",
       "      <td>0</td>\n",
       "      <td>0</td>\n",
       "      <td>1</td>\n",
       "      <td>0</td>\n",
       "    </tr>\n",
       "    <tr>\n",
       "      <th>3</th>\n",
       "      <td>10142</td>\n",
       "      <td>Bernie supporters on Twitter erupt in anger ag...</td>\n",
       "      <td>— Kaydee King (@KaydeeKing) November 9, 2016 T...</td>\n",
       "      <td>NaN</td>\n",
       "      <td>NaN</td>\n",
       "      <td>bernie supporter on twitter erupt in anger aga...</td>\n",
       "      <td>2571</td>\n",
       "      <td>415</td>\n",
       "      <td>6.180288</td>\n",
       "      <td>0</td>\n",
       "      <td>3</td>\n",
       "      <td>0</td>\n",
       "      <td>0</td>\n",
       "      <td>0</td>\n",
       "      <td>0</td>\n",
       "      <td>0</td>\n",
       "      <td>0</td>\n",
       "      <td>0</td>\n",
       "      <td>1</td>\n",
       "    </tr>\n",
       "    <tr>\n",
       "      <th>4</th>\n",
       "      <td>875</td>\n",
       "      <td>The Battle of New York: Why This Primary Matters</td>\n",
       "      <td>It's primary day in New York and front-runners...</td>\n",
       "      <td>NaN</td>\n",
       "      <td>NaN</td>\n",
       "      <td>the battle of new york why this primary matter...</td>\n",
       "      <td>1761</td>\n",
       "      <td>328</td>\n",
       "      <td>5.352584</td>\n",
       "      <td>0</td>\n",
       "      <td>8</td>\n",
       "      <td>0</td>\n",
       "      <td>0</td>\n",
       "      <td>0</td>\n",
       "      <td>0</td>\n",
       "      <td>0</td>\n",
       "      <td>0</td>\n",
       "      <td>1</td>\n",
       "      <td>0</td>\n",
       "    </tr>\n",
       "  </tbody>\n",
       "</table>\n",
       "</div>"
      ],
      "text/plain": [
       "      ID                                              title  \\\n",
       "0   8476                       You Can Smell Hillary’s Fear   \n",
       "1  10294  Watch The Exact Moment Paul Ryan Committed Pol...   \n",
       "2   3608        Kerry to go to Paris in gesture of sympathy   \n",
       "3  10142  Bernie supporters on Twitter erupt in anger ag...   \n",
       "4    875   The Battle of New York: Why This Primary Matters   \n",
       "\n",
       "                                                text   X1   X2  \\\n",
       "0  Daniel Greenfield, a Shillman Journalism Fello...  NaN  NaN   \n",
       "1  Google Pinterest Digg Linkedin Reddit Stumbleu...  NaN  NaN   \n",
       "2  U.S. Secretary of State John F. Kerry said Mon...  NaN  NaN   \n",
       "3  — Kaydee King (@KaydeeKing) November 9, 2016 T...  NaN  NaN   \n",
       "4  It's primary day in New York and front-runners...  NaN  NaN   \n",
       "\n",
       "                                           full_text  char_count  word_count  \\\n",
       "0  you can smell hillary fear daniel greenfield s...        7165        1264   \n",
       "1  watch the exact moment paul ryan committed pol...        2580         448   \n",
       "2  kerry to go to paris in gesture of sympathy s ...        2455         429   \n",
       "3  bernie supporter on twitter erupt in anger aga...        2571         415   \n",
       "4  the battle of new york why this primary matter...        1761         328   \n",
       "\n",
       "   word_density  punctuation_count  title_word_count  upper_case_word_count  \\\n",
       "0      5.664032                  0                 4                      0   \n",
       "1      5.746102                  0                13                      0   \n",
       "2      5.709302                  0                 2                      0   \n",
       "3      6.180288                  0                 3                      0   \n",
       "4      5.352584                  0                 8                      0   \n",
       "\n",
       "   noun_count  verb_count  adj_count  adv_count  pron_count  0  1  \n",
       "0           0           0          0          0           0  0  1  \n",
       "1           0           0          0          0           0  0  1  \n",
       "2           0           0          0          0           0  1  0  \n",
       "3           0           0          0          0           0  0  1  \n",
       "4           0           0          0          0           0  1  0  "
      ]
     },
     "execution_count": 68,
     "metadata": {},
     "output_type": "execute_result"
    }
   ],
   "source": [
    "# train_news_fixed_oh = train_news_fixed.copy()\n",
    "# # Get one hot encoding of columns B\n",
    "# one_hot = pd.get_dummies(train_news_fixed_oh['label'])\n",
    "# # Drop column B as it is now encoded\n",
    "# train_news_fixed_oh = train_news_fixed_oh.drop('label',axis = 1)\n",
    "# # Join the encoded df\n",
    "# train_news_fixed_oh = train_news_fixed_oh.join(one_hot)\n",
    "# train_news_fixed_oh.head()"
   ]
  },
  {
   "cell_type": "code",
   "execution_count": 69,
   "metadata": {
    "colab": {},
    "colab_type": "code",
    "id": "VPFdMhNXB33D"
   },
   "outputs": [],
   "source": [
    "# label_names = [0, 1]\n",
    "# y_train = train_news_fixed_oh[label_names].values\n",
    "# # y_train = train_comments[label_names].values\n",
    "# x_train = train_cnn_data\n",
    "# y_tr = y_train"
   ]
  },
  {
   "cell_type": "code",
   "execution_count": 70,
   "metadata": {
    "colab": {},
    "colab_type": "code",
    "id": "5XUsvenXhG-Z"
   },
   "outputs": [
    {
     "name": "stdout",
     "output_type": "stream",
     "text": [
      "Train on 3599 samples, validate on 400 samples\n",
      "Epoch 1/7\n",
      "3599/3599 [==============================] - 160s 44ms/step - loss: 1.0558 - acc: 0.5479 - val_loss: 0.6822 - val_acc: 0.6375\n",
      "Epoch 2/7\n",
      "3599/3599 [==============================] - 21s 6ms/step - loss: 0.6376 - acc: 0.7049 - val_loss: 0.5477 - val_acc: 0.7525\n",
      "Epoch 3/7\n",
      "3599/3599 [==============================] - 19s 5ms/step - loss: 0.4545 - acc: 0.7958 - val_loss: 0.4418 - val_acc: 0.7950\n",
      "Epoch 4/7\n",
      "3599/3599 [==============================] - 18s 5ms/step - loss: 0.2902 - acc: 0.8846 - val_loss: 0.3439 - val_acc: 0.8350\n",
      "Epoch 5/7\n",
      "3599/3599 [==============================] - 18s 5ms/step - loss: 0.1468 - acc: 0.9572 - val_loss: 0.3402 - val_acc: 0.8350\n",
      "Epoch 6/7\n",
      "3599/3599 [==============================] - 18s 5ms/step - loss: 0.0644 - acc: 0.9917 - val_loss: 0.4013 - val_acc: 0.8300\n",
      "Epoch 7/7\n",
      "3599/3599 [==============================] - 19s 5ms/step - loss: 0.0269 - acc: 0.9978 - val_loss: 0.3922 - val_acc: 0.8500\n"
     ]
    }
   ],
   "source": [
    "# hist = model.fit(x_train, y_tr, epochs=7, callbacks=callbacks_list, validation_split=0.1, batch_size=100)"
   ]
  },
  {
   "cell_type": "code",
   "execution_count": 71,
   "metadata": {
    "colab": {},
    "colab_type": "code",
    "id": "rKh5liugDxG8"
   },
   "outputs": [
    {
     "data": {
      "image/png": "[encoded data removed]",
      "text/plain": [
       "<Figure size 432x288 with 1 Axes>"
      ]
     },
     "metadata": {
      "needs_background": "light"
     },
     "output_type": "display_data"
    }
   ],
   "source": [
    "# # Generate plots\n",
    "# plt.figure()\n",
    "# plt.plot(hist.history['loss'], lw=2.0, color='b', label='train')\n",
    "# plt.plot(hist.history['val_loss'], lw=2.0, color='r', label='val')\n",
    "# plt.title('CNN sentiment')\n",
    "# plt.xlabel('Epochs')\n",
    "# plt.ylabel('Cross-Entropy Loss')\n",
    "# plt.legend(loc='upper right')\n",
    "# plt.show()"
   ]
  },
  {
   "cell_type": "markdown",
   "metadata": {},
   "source": [
    "With this aditional pre-trained model, the performance isn't great, as we can see that the Validation Accuracy stops with a value of 0.85, and it might also be overfitting due to the really high Cross-Validation Accuracy of 0.9978.  "
   ]
  },
  {
   "cell_type": "markdown",
   "metadata": {
    "colab_type": "text",
    "id": "_plOadpw1R3l"
   },
   "source": [
    "# Predicting | Creating Submission files"
   ]
  },
  {
   "cell_type": "markdown",
   "metadata": {
    "colab_type": "text",
    "id": "DMpjBXSV1Rxt"
   },
   "source": [
    "We selected the model **Shallow Neural Network**, as it outperformed every other model we tested. We also selected the dataset format **TF-IDF at N-gram level**, which showed the best results with this neural network.  "
   ]
  },
  {
   "cell_type": "code",
   "execution_count": 80,
   "metadata": {
    "colab": {},
    "colab_type": "code",
    "id": "Ca7QIBrf1VWi"
   },
   "outputs": [],
   "source": [
    "y_test_nn = classifier.predict(test_tfidf_ngram_nn)"
   ]
  },
  {
   "cell_type": "code",
   "execution_count": 83,
   "metadata": {
    "colab": {},
    "colab_type": "code",
    "id": "e_vG7WUu1W80"
   },
   "outputs": [],
   "source": [
    "y_test_pac = best_model_pac.predict(test_tfidf_ngram)"
   ]
  },
  {
   "cell_type": "code",
   "execution_count": 89,
   "metadata": {
    "colab": {},
    "colab_type": "code",
    "id": "hpvHhyaR1WrI"
   },
   "outputs": [],
   "source": [
    "# Create a submission for Neural Network\n",
    "submission_df_nnet = pd.DataFrame(columns=['ID','target'])\n",
    "submission_df_nnet['ID'] = test_news_fixed['ID'].values \n",
    "submission_df_nnet['target'] = y_test_nn \n",
    "submission_df_nnet['target'] = (y_test_nn > 0.5).astype(np.int)\n",
    "submission_df_nnet.to_csv(\"nnet_submission.csv\", index=False)"
   ]
  },
  {
   "cell_type": "code",
   "execution_count": 90,
   "metadata": {
    "colab": {},
    "colab_type": "code",
    "id": "OtcJOlvR1WdH"
   },
   "outputs": [],
   "source": [
    "# Create a submission for Passive Aggresive\n",
    "submission_df_pac = pd.DataFrame(columns=['ID','target'])\n",
    "submission_df_pac['ID'] = test_news_fixed['ID'].values \n",
    "submission_df_pac['target'] = y_test_pac \n",
    "submission_df_pac.to_csv(\"pac_submission.csv\", index=False)"
   ]
  },
  {
   "cell_type": "code",
   "execution_count": 86,
   "metadata": {
    "colab": {},
    "colab_type": "code",
    "id": "RujFsR_B1WFc"
   },
   "outputs": [
    {
     "data": {
      "text/html": [
       "<div>\n",
       "<style scoped>\n",
       "    .dataframe tbody tr th:only-of-type {\n",
       "        vertical-align: middle;\n",
       "    }\n",
       "\n",
       "    .dataframe tbody tr th {\n",
       "        vertical-align: top;\n",
       "    }\n",
       "\n",
       "    .dataframe thead th {\n",
       "        text-align: right;\n",
       "    }\n",
       "</style>\n",
       "<table border=\"1\" class=\"dataframe\">\n",
       "  <thead>\n",
       "    <tr style=\"text-align: right;\">\n",
       "      <th></th>\n",
       "      <th>ID</th>\n",
       "      <th>target</th>\n",
       "    </tr>\n",
       "  </thead>\n",
       "  <tbody>\n",
       "    <tr>\n",
       "      <th>0</th>\n",
       "      <td>10498</td>\n",
       "      <td>1</td>\n",
       "    </tr>\n",
       "    <tr>\n",
       "      <th>1</th>\n",
       "      <td>2439</td>\n",
       "      <td>0</td>\n",
       "    </tr>\n",
       "    <tr>\n",
       "      <th>2</th>\n",
       "      <td>864</td>\n",
       "      <td>0</td>\n",
       "    </tr>\n",
       "    <tr>\n",
       "      <th>3</th>\n",
       "      <td>4128</td>\n",
       "      <td>0</td>\n",
       "    </tr>\n",
       "    <tr>\n",
       "      <th>4</th>\n",
       "      <td>662</td>\n",
       "      <td>0</td>\n",
       "    </tr>\n",
       "  </tbody>\n",
       "</table>\n",
       "</div>"
      ],
      "text/plain": [
       "      ID  target\n",
       "0  10498       1\n",
       "1   2439       0\n",
       "2    864       0\n",
       "3   4128       0\n",
       "4    662       0"
      ]
     },
     "execution_count": 86,
     "metadata": {},
     "output_type": "execute_result"
    }
   ],
   "source": [
    "submission_df_nnet.head(5)"
   ]
  },
  {
   "cell_type": "code",
   "execution_count": 87,
   "metadata": {
    "colab": {},
    "colab_type": "code",
    "id": "0DC8_whj1iR1"
   },
   "outputs": [
    {
     "data": {
      "text/html": [
       "<div>\n",
       "<style scoped>\n",
       "    .dataframe tbody tr th:only-of-type {\n",
       "        vertical-align: middle;\n",
       "    }\n",
       "\n",
       "    .dataframe tbody tr th {\n",
       "        vertical-align: top;\n",
       "    }\n",
       "\n",
       "    .dataframe thead th {\n",
       "        text-align: right;\n",
       "    }\n",
       "</style>\n",
       "<table border=\"1\" class=\"dataframe\">\n",
       "  <thead>\n",
       "    <tr style=\"text-align: right;\">\n",
       "      <th></th>\n",
       "      <th>ID</th>\n",
       "      <th>target</th>\n",
       "    </tr>\n",
       "  </thead>\n",
       "  <tbody>\n",
       "    <tr>\n",
       "      <th>0</th>\n",
       "      <td>10498</td>\n",
       "      <td>1</td>\n",
       "    </tr>\n",
       "    <tr>\n",
       "      <th>1</th>\n",
       "      <td>2439</td>\n",
       "      <td>0</td>\n",
       "    </tr>\n",
       "    <tr>\n",
       "      <th>2</th>\n",
       "      <td>864</td>\n",
       "      <td>0</td>\n",
       "    </tr>\n",
       "    <tr>\n",
       "      <th>3</th>\n",
       "      <td>4128</td>\n",
       "      <td>0</td>\n",
       "    </tr>\n",
       "    <tr>\n",
       "      <th>4</th>\n",
       "      <td>662</td>\n",
       "      <td>0</td>\n",
       "    </tr>\n",
       "  </tbody>\n",
       "</table>\n",
       "</div>"
      ],
      "text/plain": [
       "      ID  target\n",
       "0  10498       1\n",
       "1   2439       0\n",
       "2    864       0\n",
       "3   4128       0\n",
       "4    662       0"
      ]
     },
     "execution_count": 87,
     "metadata": {},
     "output_type": "execute_result"
    }
   ],
   "source": [
    "submission_df_pac.head(5)"
   ]
  },
  {
   "cell_type": "markdown",
   "metadata": {},
   "source": [
    "From this analysis, we can draw a few interesting conclusions:  \n",
    "\n",
    "* The most important preprocessing step was the cleaning part, and not the lemmatizing and stemming. It improved significantly our model results.  \n",
    "* Removing *English Stop Words* also boosted our performance.  \n",
    "* Combining the `title` and the `text` was another benefitial transformation.  \n",
    "* Modifying the dataset format into a TF-IDF at N-gram level was most of the time outperforming the other formats.  \n",
    "* In this specific case, the regular algoritms perform better than Neural Networks. We believe that it is due to the limited size of our dataset (4000 rows), which doesn't allow the Neural Networks to learn enough.  "
   ]
  },
  {
   "cell_type": "code",
   "execution_count": null,
   "metadata": {},
   "outputs": [],
   "source": []
  }
 ],
 "metadata": {
  "accelerator": "GPU",
  "colab": {
   "collapsed_sections": [],
   "name": "NLP_ASSIGNMENT_1 - FINAL.ipynb",
   "provenance": [
    {
     "file_id": "1NXj79CJjET-lXNRgrqpTbCBTFVcly4n6",
     "timestamp": 1559295172672
    }
   ],
   "version": "0.3.2"
  },
  "kernelspec": {
   "display_name": "Python 3",
   "language": "python",
   "name": "python3"
  },
  "language_info": {
   "codemirror_mode": {
    "name": "ipython",
    "version": 3
   },
   "file_extension": ".py",
   "mimetype": "text/x-python",
   "name": "python",
   "nbconvert_exporter": "python",
   "pygments_lexer": "ipython3",
   "version": "3.5.6"
  },
  "toc": {
   "base_numbering": 1,
   "nav_menu": {},
   "number_sections": false,
   "sideBar": true,
   "skip_h1_title": true,
   "title_cell": "Table of Contents",
   "title_sidebar": "Contents",
   "toc_cell": false,
   "toc_position": {},
   "toc_section_display": true,
   "toc_window_display": false
  }
 },
 "nbformat": 4,
 "nbformat_minor": 1
}
